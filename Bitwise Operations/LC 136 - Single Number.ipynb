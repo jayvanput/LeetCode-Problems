{
 "cells": [
  {
   "cell_type": "code",
   "execution_count": 2,
   "id": "2a769ba1",
   "metadata": {},
   "outputs": [],
   "source": [
    "from typing import *"
   ]
  },
  {
   "cell_type": "code",
   "execution_count": 20,
   "id": "c9cb5388",
   "metadata": {},
   "outputs": [],
   "source": [
    "class Solution:\n",
    "    def singleNumber(self, nums: List[int]) -> int:\n",
    "        val = 0\n",
    "        for i in nums:\n",
    "            val ^= i\n",
    "            \n",
    "        return val  "
   ]
  },
  {
   "cell_type": "code",
   "execution_count": 23,
   "id": "b7e9c8eb",
   "metadata": {},
   "outputs": [
    {
     "data": {
      "text/plain": [
       "4"
      ]
     },
     "execution_count": 23,
     "metadata": {},
     "output_type": "execute_result"
    }
   ],
   "source": [
    "nums = [4,1,2,1,2]\n",
    "sol = Solution()\n",
    "sol.singleNumber(nums)"
   ]
  },
  {
   "cell_type": "code",
   "execution_count": null,
   "id": "5516ec49",
   "metadata": {},
   "outputs": [],
   "source": []
  }
 ],
 "metadata": {
  "kernelspec": {
   "display_name": "Python 3 (ipykernel)",
   "language": "python",
   "name": "python3"
  },
  "language_info": {
   "codemirror_mode": {
    "name": "ipython",
    "version": 3
   },
   "file_extension": ".py",
   "mimetype": "text/x-python",
   "name": "python",
   "nbconvert_exporter": "python",
   "pygments_lexer": "ipython3",
   "version": "3.9.9"
  }
 },
 "nbformat": 4,
 "nbformat_minor": 5
}
