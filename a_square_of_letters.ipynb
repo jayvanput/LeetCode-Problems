{
 "cells": [
  {
   "cell_type": "code",
   "execution_count": 34,
   "id": "48d81753",
   "metadata": {},
   "outputs": [],
   "source": [
    "import math"
   ]
  },
  {
   "cell_type": "code",
   "execution_count": 1,
   "id": "8a275bf7",
   "metadata": {},
   "outputs": [],
   "source": []
  },
  {
   "cell_type": "code",
   "execution_count": 181,
   "id": "5df3b391",
   "metadata": {},
   "outputs": [],
   "source": [
    "def print_square(layers:int = 1, max_layers:int = 1) -> list:\n",
    "    '''Prints out a square of n layers of letters.\n",
    "    Example output:\n",
    "    \n",
    "    print_square(3)\n",
    "    33333\n",
    "    32223\n",
    "    32123\n",
    "    32223\n",
    "    33333\n",
    "    '''\n",
    "    \n",
    "    # Edge case: 2\n",
    "    if max_layers == 2:\n",
    "        return [[2,2,2],[2,1,2],[2,2,2]]\n",
    "    \n",
    "    # Get the corners outside of cross.\n",
    "    matrix = []\n",
    "    if layers == 1:\n",
    "        return [1]\n",
    "    if layers == 2:\n",
    "        matrix = [[2]]\n",
    "        return matrix\n",
    "    else:\n",
    "        matrix = print_square(layers-1,max_layers)\n",
    "        for item in matrix:\n",
    "            item.insert(0,layers)\n",
    "        matrix.insert(0,[layers] * (layers-1))\n",
    "        if layers != max_layers:\n",
    "            return matrix\n",
    "    # Mirror top half.\n",
    "    for i in range(layers-1):\n",
    "        mirror = [x for x in matrix[i][::-1]]\n",
    "        matrix[i].append(layers-i)\n",
    "        matrix[i].extend(mirror)\n",
    "    \n",
    "    # Mirror bottom half.\n",
    "    for row in matrix[::-1]:\n",
    "        matrix.append(row)\n",
    "    \n",
    "    # Insert middle row.\n",
    "    midway = int(len(matrix) / 2)\n",
    "    \n",
    "    middle_row = []\n",
    "    middle_row.extend([x for x in range(layers,0,-1)])\n",
    "    middle_row.extend([x+1 for x in range(1, layers)])\n",
    "    \n",
    "    matrix.insert(midway, middle_row)\n",
    "    \n",
    "    return matrix\n",
    "        "
   ]
  },
  {
   "cell_type": "code",
   "execution_count": 185,
   "id": "93b36ed8",
   "metadata": {},
   "outputs": [
    {
     "data": {
      "text/plain": [
       "[[5, 5, 5, 5, 5, 5, 5, 5, 5],\n",
       " [5, 4, 4, 4, 4, 4, 4, 4, 5],\n",
       " [5, 4, 3, 3, 3, 3, 3, 4, 5],\n",
       " [5, 4, 3, 2, 2, 2, 3, 4, 5],\n",
       " [5, 4, 3, 2, 1, 2, 3, 4, 5],\n",
       " [5, 4, 3, 2, 2, 2, 3, 4, 5],\n",
       " [5, 4, 3, 3, 3, 3, 3, 4, 5],\n",
       " [5, 4, 4, 4, 4, 4, 4, 4, 5],\n",
       " [5, 5, 5, 5, 5, 5, 5, 5, 5]]"
      ]
     },
     "execution_count": 185,
     "metadata": {},
     "output_type": "execute_result"
    }
   ],
   "source": [
    "print_square(5,5)"
   ]
  },
  {
   "cell_type": "code",
   "execution_count": 119,
   "id": "e748012f",
   "metadata": {},
   "outputs": [
    {
     "data": {
      "text/plain": [
       "3"
      ]
     },
     "execution_count": 119,
     "metadata": {},
     "output_type": "execute_result"
    }
   ],
   "source": [
    "math.ceil(5 / 2)"
   ]
  },
  {
   "cell_type": "markdown",
   "id": "b3089768",
   "metadata": {},
   "source": [
    "4444444\n",
    "4333334\n",
    "4322234\n",
    "4321234\n",
    "4322234\n",
    "4333334\n",
    "4444444"
   ]
  }
 ],
 "metadata": {
  "kernelspec": {
   "display_name": "Python 3 (ipykernel)",
   "language": "python",
   "name": "python3"
  },
  "language_info": {
   "codemirror_mode": {
    "name": "ipython",
    "version": 3
   },
   "file_extension": ".py",
   "mimetype": "text/x-python",
   "name": "python",
   "nbconvert_exporter": "python",
   "pygments_lexer": "ipython3",
   "version": "3.9.9"
  }
 },
 "nbformat": 4,
 "nbformat_minor": 5
}
