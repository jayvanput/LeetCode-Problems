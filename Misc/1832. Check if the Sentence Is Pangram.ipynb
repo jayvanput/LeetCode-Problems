{
 "cells": [
  {
   "cell_type": "code",
   "execution_count": 4,
   "metadata": {},
   "outputs": [],
   "source": [
    "from typing import Set\n",
    "\n",
    "\n",
    "class Solution:\n",
    "    def checkIfPangram(self, sentence: str) -> bool:\n",
    "        check_set: Set[str] = set()\n",
    "        for letter in sentence:\n",
    "            if letter not in check_set:\n",
    "                check_set.add(letter)\n",
    "            if len(check_set) == 26:\n",
    "                return True\n",
    "        return False\n",
    "\n",
    "    def checkIfPangram1line(self, sentence: str) -> bool:\n",
    "        return len(set(sentence)) == 26"
   ]
  },
  {
   "cell_type": "code",
   "execution_count": 5,
   "metadata": {},
   "outputs": [
    {
     "data": {
      "text/plain": [
       "False"
      ]
     },
     "execution_count": 5,
     "metadata": {},
     "output_type": "execute_result"
    }
   ],
   "source": [
    "sentence = \"leetcode\"\n",
    "sol = Solution()\n",
    "sol.checkIfPangram(sentence)"
   ]
  },
  {
   "cell_type": "code",
   "execution_count": null,
   "metadata": {},
   "outputs": [],
   "source": [
    "\"\"\"\n",
    "79 / 79 test cases passed.\n",
    "Status: Accepted\n",
    "Runtime: 58 ms\n",
    "Memory Usage: 13.9 MB\n",
    "Notes: Very simple 1-liner. My solution uses a loop and allows for an early exit condition if the pangram is met before the end. \n",
    "\"\"\""
   ]
  }
 ],
 "metadata": {
  "kernelspec": {
   "display_name": "Python 3.9.9 ('testing')",
   "language": "python",
   "name": "python3"
  },
  "language_info": {
   "codemirror_mode": {
    "name": "ipython",
    "version": 3
   },
   "file_extension": ".py",
   "mimetype": "text/x-python",
   "name": "python",
   "nbconvert_exporter": "python",
   "pygments_lexer": "ipython3",
   "version": "3.9.9"
  },
  "orig_nbformat": 4,
  "vscode": {
   "interpreter": {
    "hash": "fb79f887f98bf1425cfd8e046db197159ed36d1ac9d9565e603c221fb1d3efe4"
   }
  }
 },
 "nbformat": 4,
 "nbformat_minor": 2
}
