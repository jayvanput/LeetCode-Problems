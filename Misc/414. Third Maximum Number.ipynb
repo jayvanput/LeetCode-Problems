{
 "cells": [
  {
   "cell_type": "code",
   "execution_count": 3,
   "metadata": {},
   "outputs": [],
   "source": [
    "import heapq"
   ]
  },
  {
   "cell_type": "code",
   "execution_count": 35,
   "metadata": {},
   "outputs": [],
   "source": [
    "class Solution:\n",
    "    def thirdMax(self, nums: list[int]) -> int:\n",
    "        nums_set = set()\n",
    "        h = []\n",
    "        for i in nums:\n",
    "            if i not in nums_set:\n",
    "                nums_set.add(i)\n",
    "                heapq.heappush(h, -i)\n",
    "        if len(nums_set) < 3:\n",
    "            return max(nums)\n",
    "        return heapq.nsmallest(3, h)[-1] * -1\n",
    "        "
   ]
  },
  {
   "cell_type": "code",
   "execution_count": 36,
   "metadata": {},
   "outputs": [
    {
     "data": {
      "text/plain": [
       "2"
      ]
     },
     "execution_count": 36,
     "metadata": {},
     "output_type": "execute_result"
    }
   ],
   "source": [
    "nums = [1,1,2]\n",
    "sol = Solution()\n",
    "sol.thirdMax(nums)"
   ]
  },
  {
   "cell_type": "code",
   "execution_count": null,
   "metadata": {},
   "outputs": [],
   "source": [
    "\"\"\"\n",
    "Runtime58 ms\n",
    "Beats\n",
    "52.63%\n",
    "Memory15.5 MB\n",
    "Notes: Heap made the most sense besides brute-forcing the solution. It is O(n) + O(log(n)) for adding to the heap. The brute-force solution is a\n",
    "true O(n) solution but it isn't extendable. Mine is by just changing the < 3 value.\n",
    "\"\"\""
   ]
  }
 ],
 "metadata": {
  "kernelspec": {
   "display_name": "webapps",
   "language": "python",
   "name": "python3"
  },
  "language_info": {
   "codemirror_mode": {
    "name": "ipython",
    "version": 3
   },
   "file_extension": ".py",
   "mimetype": "text/x-python",
   "name": "python",
   "nbconvert_exporter": "python",
   "pygments_lexer": "ipython3",
   "version": "3.11.1"
  },
  "orig_nbformat": 4,
  "vscode": {
   "interpreter": {
    "hash": "8b9e562a1f76a5948467e158169a887b2175c9af000d18d2164309069a882c35"
   }
  }
 },
 "nbformat": 4,
 "nbformat_minor": 2
}
