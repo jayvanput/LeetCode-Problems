{
 "cells": [
  {
   "cell_type": "code",
   "execution_count": 7,
   "metadata": {},
   "outputs": [],
   "source": [
    "from typing import *\n",
    "import sys"
   ]
  },
  {
   "cell_type": "code",
   "execution_count": 19,
   "metadata": {},
   "outputs": [],
   "source": [
    "class Solution:\n",
    "    def destCity(self, paths: List[List[str]]) -> str:\n",
    "        distinct_cities_lst: List[str] = []\n",
    "\n",
    "        # Get set of all cities with paths.\n",
    "        for path in paths:\n",
    "            city_a = path[0]\n",
    "            distinct_cities_lst.append(city_a)\n",
    "\n",
    "        # Loop again to check which city isn't in that set.\n",
    "        for path in paths:\n",
    "            city_b = path[1]\n",
    "            if city_b not in distinct_cities_lst:\n",
    "                return city_b\n",
    "\n",
    "        "
   ]
  },
  {
   "cell_type": "code",
   "execution_count": 20,
   "metadata": {},
   "outputs": [
    {
     "data": {
      "text/plain": [
       "'A'"
      ]
     },
     "execution_count": 20,
     "metadata": {},
     "output_type": "execute_result"
    }
   ],
   "source": [
    "paths = [[\"B\",\"C\"],[\"D\",\"B\"],[\"C\",\"A\"]]\n",
    "sol = Solution()\n",
    "sol.destCity(paths)"
   ]
  },
  {
   "cell_type": "code",
   "execution_count": 18,
   "metadata": {},
   "outputs": [
    {
     "data": {
      "text/plain": [
       "\"\\n103 / 103 test cases passed.\\nStatus: Accepted\\nRuntime: 60 ms\\nMemory Usage: 13.8 MB\\nNotes: O(2n) complexity. Switched to a list since they're smaller than sets!\\n\""
      ]
     },
     "execution_count": 18,
     "metadata": {},
     "output_type": "execute_result"
    }
   ],
   "source": [
    "\"\"\"\n",
    "103 / 103 test cases passed.\n",
    "Status: Accepted\n",
    "Runtime: 60 ms\n",
    "Memory Usage: 13.8 MB\n",
    "Notes: O(2n) complexity. Switched to a list since they're smaller than sets!\n",
    "\"\"\""
   ]
  }
 ],
 "metadata": {
  "kernelspec": {
   "display_name": "Python 3.9.9 ('testing')",
   "language": "python",
   "name": "python3"
  },
  "language_info": {
   "codemirror_mode": {
    "name": "ipython",
    "version": 3
   },
   "file_extension": ".py",
   "mimetype": "text/x-python",
   "name": "python",
   "nbconvert_exporter": "python",
   "pygments_lexer": "ipython3",
   "version": "3.9.9"
  },
  "orig_nbformat": 4,
  "vscode": {
   "interpreter": {
    "hash": "fb79f887f98bf1425cfd8e046db197159ed36d1ac9d9565e603c221fb1d3efe4"
   }
  }
 },
 "nbformat": 4,
 "nbformat_minor": 2
}
