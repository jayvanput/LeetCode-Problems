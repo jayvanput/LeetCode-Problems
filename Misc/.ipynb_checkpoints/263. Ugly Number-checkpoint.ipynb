{
 "cells": [
  {
   "cell_type": "code",
   "execution_count": 5,
   "id": "1019af47",
   "metadata": {},
   "outputs": [],
   "source": [
    "class Solution:\n",
    "    def isUgly(self, n: int) -> bool:\n",
    "        if n == 0:\n",
    "            return False\n",
    "        while n % 5 == 0:\n",
    "            n /= 5\n",
    "        while n % 3 == 0:\n",
    "            n /= 3\n",
    "        while n % 2 == 0:\n",
    "            n /= 2\n",
    "        return n == 1"
   ]
  },
  {
   "cell_type": "code",
   "execution_count": 6,
   "id": "80ceff87",
   "metadata": {},
   "outputs": [
    {
     "data": {
      "text/plain": [
       "True"
      ]
     },
     "execution_count": 6,
     "metadata": {},
     "output_type": "execute_result"
    }
   ],
   "source": [
    "n = 6\n",
    "sol = Solution()\n",
    "sol.isUgly(n)"
   ]
  },
  {
   "cell_type": "code",
   "execution_count": null,
   "id": "294f38b5",
   "metadata": {},
   "outputs": [],
   "source": [
    "\"\"\"\n",
    "1013 / 1013 test cases passed.\n",
    "Status: Accepted\n",
    "Runtime: 64 ms\n",
    "Memory Usage: 13.9 MB\n",
    "Notes: More of an exercise in understanding how primes work. \n",
    "\"\"\""
   ]
  }
 ],
 "metadata": {
  "kernelspec": {
   "display_name": "Python 3 (ipykernel)",
   "language": "python",
   "name": "python3"
  },
  "language_info": {
   "codemirror_mode": {
    "name": "ipython",
    "version": 3
   },
   "file_extension": ".py",
   "mimetype": "text/x-python",
   "name": "python",
   "nbconvert_exporter": "python",
   "pygments_lexer": "ipython3",
   "version": "3.9.9"
  }
 },
 "nbformat": 4,
 "nbformat_minor": 5
}
