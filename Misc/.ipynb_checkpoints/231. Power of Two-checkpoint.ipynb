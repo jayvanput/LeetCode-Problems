{
 "cells": [
  {
   "cell_type": "code",
   "execution_count": 88,
   "id": "acaae734",
   "metadata": {},
   "outputs": [],
   "source": [
    "import math\n",
    "class Solution:\n",
    "    def isPowerOfTwo(self, n: int) -> bool:\n",
    "        return math.log(n,2) % 1 == 0\n",
    "    def isPowerOfTwoRecursive(self, n: int) -> bool:\n",
    "        if n == 1:\n",
    "            return True\n",
    "        if n < 1:\n",
    "            return False\n",
    "        return self.isPowerOfTwoRecursive(n/2)\n",
    "    def isPowerOfTwoBit(self, n: int) -> bool:\n",
    "        return n>0 and n&n-1==0"
   ]
  },
  {
   "cell_type": "code",
   "execution_count": 89,
   "id": "2ce9ce3e",
   "metadata": {},
   "outputs": [
    {
     "data": {
      "text/plain": [
       "True"
      ]
     },
     "execution_count": 89,
     "metadata": {},
     "output_type": "execute_result"
    }
   ],
   "source": [
    "n = 536870912\n",
    "sol = Solution()\n",
    "sol.isPowerOfTwoBit(n)"
   ]
  },
  {
   "cell_type": "code",
   "execution_count": null,
   "id": "cd83bf54",
   "metadata": {},
   "outputs": [],
   "source": [
    "\"\"\"\n",
    "1108 / 1108 test cases passed.\n",
    "Status: Accepted\n",
    "Runtime: 52 ms\n",
    "Memory Usage: 13.8 MB\n",
    "Notes: I used logarithms which was dumb but worked. Floating point precision is not good for comparing integers to their\n",
    "float counterparts in this instance so rounding is a cheap solution. Real answer is bit manipulation which is annoying\n",
    "since I don't care.\n",
    "\"\"\""
   ]
  }
 ],
 "metadata": {
  "kernelspec": {
   "display_name": "Python 3 (ipykernel)",
   "language": "python",
   "name": "python3"
  },
  "language_info": {
   "codemirror_mode": {
    "name": "ipython",
    "version": 3
   },
   "file_extension": ".py",
   "mimetype": "text/x-python",
   "name": "python",
   "nbconvert_exporter": "python",
   "pygments_lexer": "ipython3",
   "version": "3.9.9"
  }
 },
 "nbformat": 4,
 "nbformat_minor": 5
}
