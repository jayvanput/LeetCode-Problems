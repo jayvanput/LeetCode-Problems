{
 "cells": [
  {
   "cell_type": "code",
   "execution_count": 37,
   "metadata": {},
   "outputs": [],
   "source": [
    "class Solution:\n",
    "    def addDigits(self, num: int) -> int:\n",
    "        \n",
    "        while num >= 10:\n",
    "            num_str: str = str(num)\n",
    "            num = 0\n",
    "            for i in num_str:\n",
    "                num += int(i)\n",
    "        return num\n",
    "    \n",
    "    def addDigitsInt(self, num: int) -> int:\n",
    "        \n",
    "        num_str: str = str(num)\n",
    "        output: int = 0\n",
    "        while num > 0:\n",
    "            output += num % 10\n",
    "            num = num // 10\n",
    "\n",
    "            if output >= 10:\n",
    "                internal_check: int = 0\n",
    "                internal_check += num % 10\n",
    "                output = output // 10\n",
    "                internal_check += output\n",
    "                output = internal_check\n",
    "                \n",
    "        return output"
   ]
  },
  {
   "cell_type": "code",
   "execution_count": 38,
   "metadata": {},
   "outputs": [
    {
     "data": {
      "text/plain": [
       "10"
      ]
     },
     "execution_count": 38,
     "metadata": {},
     "output_type": "execute_result"
    }
   ],
   "source": [
    "num = 19\n",
    "sol = Solution()\n",
    "sol.addDigitsInt(num)"
   ]
  },
  {
   "cell_type": "code",
   "execution_count": null,
   "metadata": {},
   "outputs": [],
   "source": [
    "\"\"\"\n",
    "Runtime43 ms\n",
    "Beats\n",
    "39.43%\n",
    "Memory13.9 MB\n",
    "Notes: I need to stop the habit of converting to strings to get the answer. It works but isn't \"correct\". After realizing the gimmick I went back \n",
    "and made the addDigitsInt to do it properly.\n",
    "\"\"\""
   ]
  }
 ],
 "metadata": {
  "kernelspec": {
   "display_name": "webapps",
   "language": "python",
   "name": "python3"
  },
  "language_info": {
   "codemirror_mode": {
    "name": "ipython",
    "version": 3
   },
   "file_extension": ".py",
   "mimetype": "text/x-python",
   "name": "python",
   "nbconvert_exporter": "python",
   "pygments_lexer": "ipython3",
   "version": "3.11.1"
  },
  "orig_nbformat": 4,
  "vscode": {
   "interpreter": {
    "hash": "8b9e562a1f76a5948467e158169a887b2175c9af000d18d2164309069a882c35"
   }
  }
 },
 "nbformat": 4,
 "nbformat_minor": 2
}
