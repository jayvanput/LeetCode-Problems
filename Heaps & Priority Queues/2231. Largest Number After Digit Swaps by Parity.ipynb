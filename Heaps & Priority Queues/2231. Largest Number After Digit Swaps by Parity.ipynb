{
 "cells": [
  {
   "cell_type": "code",
   "execution_count": 1,
   "id": "9f2f2a22",
   "metadata": {},
   "outputs": [],
   "source": [
    "import heapq\n",
    "from typing import *"
   ]
  },
  {
   "cell_type": "code",
   "execution_count": 28,
   "id": "125194c2",
   "metadata": {},
   "outputs": [],
   "source": [
    "class Solution:\n",
    "    def largestInteger(self, num: int) -> int:\n",
    "        odd_heap = []\n",
    "        even_heap = []\n",
    "        for x in str(num):\n",
    "            if int(x) % 2: #odd\n",
    "                odd_heap.append(-int(x))\n",
    "            else: #even\n",
    "                even_heap.append(-int(x))\n",
    "        heapq.heapify(odd_heap)\n",
    "        heapq.heapify(even_heap)\n",
    "        output = []\n",
    "        print(odd_heap, even_heap)\n",
    "        for x in str(num):\n",
    "            if int(x) % 2: #odd\n",
    "                digit = heapq.heappop(odd_heap)\n",
    "            else: #even\n",
    "                digit = heapq.heappop(even_heap)\n",
    "            output.append(str(-digit))\n",
    "        return \"\".join(output)"
   ]
  },
  {
   "cell_type": "code",
   "execution_count": 32,
   "id": "e19c01a5",
   "metadata": {},
   "outputs": [
    {
     "name": "stdout",
     "output_type": "stream",
     "text": [
      "[-3, -1] [-4, -2]\n"
     ]
    },
    {
     "data": {
      "text/plain": [
       "'3412'"
      ]
     },
     "execution_count": 32,
     "metadata": {},
     "output_type": "execute_result"
    }
   ],
   "source": [
    "num = 1234\n",
    "sol = Solution()\n",
    "sol.largestInteger(num)"
   ]
  },
  {
   "cell_type": "code",
   "execution_count": null,
   "id": "6c9dc6b8",
   "metadata": {},
   "outputs": [],
   "source": [
    "\"\"\"\n",
    "238 / 238 test cases passed.\n",
    "Status: Accepted\n",
    "Runtime: 38 ms\n",
    "Memory Usage: 14 MB\n",
    "Notes: Uses a heap to get the maximums faster. Runs in O(n*log(n)) due to heap-sort. \n",
    "Main idea is to get sorted list of the odds and evens and replace them in the correct spots.\n",
    "Tricky thing was thinking about using 2 heaps to do this.\n",
    "\"\"\""
   ]
  }
 ],
 "metadata": {
  "kernelspec": {
   "display_name": "Python 3 (ipykernel)",
   "language": "python",
   "name": "python3"
  },
  "language_info": {
   "codemirror_mode": {
    "name": "ipython",
    "version": 3
   },
   "file_extension": ".py",
   "mimetype": "text/x-python",
   "name": "python",
   "nbconvert_exporter": "python",
   "pygments_lexer": "ipython3",
   "version": "3.9.9"
  }
 },
 "nbformat": 4,
 "nbformat_minor": 5
}
