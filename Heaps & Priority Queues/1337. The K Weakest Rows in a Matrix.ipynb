{
 "cells": [
  {
   "cell_type": "code",
   "execution_count": 1,
   "id": "30160268",
   "metadata": {},
   "outputs": [],
   "source": [
    "from typing import *\n",
    "import heapq"
   ]
  },
  {
   "cell_type": "code",
   "execution_count": 59,
   "id": "40bcef31",
   "metadata": {},
   "outputs": [],
   "source": [
    "class Solution:\n",
    "    def kWeakestRows(self, mat: List[List[int]], k: int) -> List[int]:\n",
    "        positions = []\n",
    "        for row_num, row in enumerate(mat):\n",
    "            soldiers = len(row)\n",
    "            for index, person in enumerate(row):\n",
    "                if person == 0:\n",
    "                    soldiers = index\n",
    "                    break\n",
    "                \n",
    "            positions.append((soldiers, row_num))\n",
    "        \n",
    "        heapq.heapify(positions)\n",
    "        k_smallest = heapq.nsmallest(k, positions)\n",
    "        return [row[1] for row in k_smallest]"
   ]
  },
  {
   "cell_type": "code",
   "execution_count": 70,
   "id": "c4d76251",
   "metadata": {},
   "outputs": [
    {
     "data": {
      "text/plain": [
       "[0, 2]"
      ]
     },
     "execution_count": 70,
     "metadata": {},
     "output_type": "execute_result"
    }
   ],
   "source": [
    "mat = [[1,0,0,0],\n",
    " [1,1,1,1],\n",
    " [1,0,0,0],\n",
    " [1,0,0,0]]\n",
    "sol = Solution()\n",
    "sol.kWeakestRows(mat, 2)"
   ]
  },
  {
   "cell_type": "code",
   "execution_count": null,
   "id": "8aa1a3be",
   "metadata": {},
   "outputs": [],
   "source": [
    "\"\"\"\n",
    "52 / 52 test cases passed.\n",
    "Status: Accepted\n",
    "Runtime: 121 ms\n",
    "Memory Usage: 14.3 MB\n",
    "Submitted: 6 minutes ago\n",
    "Notes: General use case for PQs: Return k largest where you need to push to a heap based on multiple criteria (in this\n",
    "case, # of 1s in row, index). \n",
    "This can be done slightly faster by using binary search to get the index of the 1 (log(n) instead of O(n) in worst case).\n",
    "\"\"\""
   ]
  },
  {
   "cell_type": "code",
   "execution_count": null,
   "id": "b6ee5e66",
   "metadata": {},
   "outputs": [],
   "source": []
  }
 ],
 "metadata": {
  "kernelspec": {
   "display_name": "Python 3 (ipykernel)",
   "language": "python",
   "name": "python3"
  },
  "language_info": {
   "codemirror_mode": {
    "name": "ipython",
    "version": 3
   },
   "file_extension": ".py",
   "mimetype": "text/x-python",
   "name": "python",
   "nbconvert_exporter": "python",
   "pygments_lexer": "ipython3",
   "version": "3.9.9"
  }
 },
 "nbformat": 4,
 "nbformat_minor": 5
}
