{
 "cells": [
  {
   "cell_type": "code",
   "execution_count": 1,
   "id": "d0cf30cd",
   "metadata": {},
   "outputs": [],
   "source": [
    "import heapq"
   ]
  },
  {
   "cell_type": "code",
   "execution_count": 22,
   "id": "59dc4f91",
   "metadata": {},
   "outputs": [
    {
     "name": "stdout",
     "output_type": "stream",
     "text": [
      "[(-2, 0)]\n",
      "[(-4, -1), (-2, 0)]\n",
      "[(-4, -1), (-2, 0), (-1, -2)]\n",
      "[(-2, -3), (-2, 0), (-1, -2)]\n",
      "[(-2, -3), (-2, 0), (-1, -2)]\n"
     ]
    }
   ],
   "source": [
    "elements = []\n",
    "heapq.heapify(elements)\n",
    "heapq.heappush(elements, (-2, 0))\n",
    "print(elements)\n",
    "heapq.heappush(elements, (-4, -1))\n",
    "print(elements)\n",
    "heapq.heappush(elements, (-1, -2))\n",
    "print(elements)\n",
    "heapq.heappushpop(elements, (-2, -3))\n",
    "print(elements)\n",
    "heapq.heappushpop(elements, (-5, -4))\n",
    "print(elements)"
   ]
  },
  {
   "cell_type": "code",
   "execution_count": null,
   "id": "f9b48493",
   "metadata": {},
   "outputs": [],
   "source": []
  }
 ],
 "metadata": {
  "kernelspec": {
   "display_name": "Python 3 (ipykernel)",
   "language": "python",
   "name": "python3"
  },
  "language_info": {
   "codemirror_mode": {
    "name": "ipython",
    "version": 3
   },
   "file_extension": ".py",
   "mimetype": "text/x-python",
   "name": "python",
   "nbconvert_exporter": "python",
   "pygments_lexer": "ipython3",
   "version": "3.9.9"
  }
 },
 "nbformat": 4,
 "nbformat_minor": 5
}
