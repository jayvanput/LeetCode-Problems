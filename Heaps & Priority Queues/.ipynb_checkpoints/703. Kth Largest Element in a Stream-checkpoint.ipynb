{
 "cells": [
  {
   "cell_type": "code",
   "execution_count": 4,
   "id": "5ae566a0",
   "metadata": {},
   "outputs": [],
   "source": [
    "from typing import *\n",
    "import heapq"
   ]
  },
  {
   "cell_type": "code",
   "execution_count": 262,
   "id": "d61de8a0",
   "metadata": {},
   "outputs": [],
   "source": [
    "class KthLargest:\n",
    "\n",
    "    def __init__(self, k: int, nums: List[int]):\n",
    "        self.k = k\n",
    "        self.heap = []\n",
    "        \n",
    "        for num in nums:\n",
    "            self.add(num)\n",
    "        \n",
    "    def add(self, val: int) -> int:\n",
    "        heapq.heappush(self.heap, val)\n",
    "        \n",
    "        if len(self.heap) > self.k:\n",
    "            heapq.heappop(self.heap)\n",
    "            \n",
    "        return self.heap[0]\n",
    "# Your KthLargest object will be instantiated and called as such:\n",
    "# obj = KthLargest(k, nums)\n",
    "# param_1 = obj.add(val)"
   ]
  },
  {
   "cell_type": "code",
   "execution_count": 263,
   "id": "bfea128a",
   "metadata": {},
   "outputs": [
    {
     "data": {
      "text/plain": [
       "1"
      ]
     },
     "execution_count": 263,
     "metadata": {},
     "output_type": "execute_result"
    }
   ],
   "source": [
    "nums = [0]\n",
    "sol = KthLargest(2, nums)\n",
    "sol.add(-1)\n",
    "sol.add(1)\n",
    "sol.add(-2)\n",
    "sol.add(-4)\n",
    "sol.add(3)"
   ]
  },
  {
   "cell_type": "code",
   "execution_count": 57,
   "id": "5910d34e",
   "metadata": {},
   "outputs": [],
   "source": [
    "test = [1,3,2]"
   ]
  },
  {
   "cell_type": "code",
   "execution_count": 58,
   "id": "5fce012a",
   "metadata": {},
   "outputs": [
    {
     "data": {
      "text/plain": [
       "[1, 2, 3]"
      ]
     },
     "execution_count": 58,
     "metadata": {},
     "output_type": "execute_result"
    }
   ],
   "source": [
    "sorted(test)"
   ]
  },
  {
   "cell_type": "code",
   "execution_count": 59,
   "id": "cd844765",
   "metadata": {},
   "outputs": [
    {
     "data": {
      "text/plain": [
       "[1, 3, 2]"
      ]
     },
     "execution_count": 59,
     "metadata": {},
     "output_type": "execute_result"
    }
   ],
   "source": [
    "test"
   ]
  },
  {
   "cell_type": "code",
   "execution_count": null,
   "id": "5fe80f56",
   "metadata": {},
   "outputs": [],
   "source": [
    "\"\"\"\n",
    "10 / 10 test cases passed.\n",
    "Status: Accepted\n",
    "Runtime: 257 ms\n",
    "Memory Usage: 18.3 MB\n",
    "Notes: I was WAY lost on this one. I knew to use a heap but the implementation was atrocious.\n",
    "\"\"\""
   ]
  }
 ],
 "metadata": {
  "kernelspec": {
   "display_name": "Python 3 (ipykernel)",
   "language": "python",
   "name": "python3"
  },
  "language_info": {
   "codemirror_mode": {
    "name": "ipython",
    "version": 3
   },
   "file_extension": ".py",
   "mimetype": "text/x-python",
   "name": "python",
   "nbconvert_exporter": "python",
   "pygments_lexer": "ipython3",
   "version": "3.9.9"
  }
 },
 "nbformat": 4,
 "nbformat_minor": 5
}
