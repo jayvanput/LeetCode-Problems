{
 "cells": [
  {
   "cell_type": "code",
   "execution_count": 1,
   "id": "88b97d66",
   "metadata": {},
   "outputs": [],
   "source": [
    "from typing import *\n",
    "import heapq"
   ]
  },
  {
   "cell_type": "code",
   "execution_count": 57,
   "id": "0544e130",
   "metadata": {},
   "outputs": [],
   "source": [
    "class Solution:\n",
    "    def fillCups(self, amount: List[int]) -> int:\n",
    "        heap = [-x for x in amount]\n",
    "        heapq.heapify(heap)\n",
    "        output = 0\n",
    "        while sum(heap) < 0:\n",
    "            first = heapq.heappop(heap)\n",
    "            second = heapq.heappop(heap)\n",
    "            if first < 0:\n",
    "                heapq.heappush(heap, first+1)\n",
    "            if second < 0:\n",
    "                heapq.heappush(heap, second+1)\n",
    "            else:\n",
    "                heapq.heappush(heap, second)\n",
    "            output += 1\n",
    "        return output"
   ]
  },
  {
   "cell_type": "code",
   "execution_count": 58,
   "id": "9ebafbb4",
   "metadata": {},
   "outputs": [
    {
     "data": {
      "text/plain": [
       "4"
      ]
     },
     "execution_count": 58,
     "metadata": {},
     "output_type": "execute_result"
    }
   ],
   "source": [
    "amount = [1,4,2]\n",
    "sol = Solution()\n",
    "sol.fillCups(amount)"
   ]
  },
  {
   "cell_type": "code",
   "execution_count": null,
   "id": "4bdd99d6",
   "metadata": {},
   "outputs": [],
   "source": [
    "\"\"\"\n",
    "280 / 280 test cases passed.\n",
    "Status: Accepted\n",
    "Runtime: 66 ms\n",
    "Memory Usage: 13.9 MB\n",
    "Notes: Perservered and was able to get a solution that isn't a complete mess. \n",
    "\"\"\""
   ]
  }
 ],
 "metadata": {
  "kernelspec": {
   "display_name": "Python 3 (ipykernel)",
   "language": "python",
   "name": "python3"
  },
  "language_info": {
   "codemirror_mode": {
    "name": "ipython",
    "version": 3
   },
   "file_extension": ".py",
   "mimetype": "text/x-python",
   "name": "python",
   "nbconvert_exporter": "python",
   "pygments_lexer": "ipython3",
   "version": "3.9.9"
  }
 },
 "nbformat": 4,
 "nbformat_minor": 5
}
