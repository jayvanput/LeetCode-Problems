{
 "cells": [
  {
   "cell_type": "code",
   "execution_count": 1,
   "id": "77d157d1",
   "metadata": {},
   "outputs": [],
   "source": [
    "import heapq\n",
    "from typing import *"
   ]
  },
  {
   "cell_type": "code",
   "execution_count": 42,
   "id": "121a410d",
   "metadata": {},
   "outputs": [],
   "source": [
    "class Solution:\n",
    "    def findRelativeRanks(self, scores: List[int]) -> List[str]:\n",
    "        placements = []\n",
    "        for index, score in enumerate(scores):\n",
    "            heapq.heappush(placements, (-score, index))\n",
    "        print(placements)\n",
    "        output = [0] * len(scores)\n",
    "            \n",
    "        placement_values = {0: \"Gold Medal\", 1: \"Silver Medal\", 2: \"Bronze Medal\"}\n",
    "        for i in range(3, len(placements)):\n",
    "            placement_values[i] = str(i+1)\n",
    "        \n",
    "        rank = 0\n",
    "        while placements:\n",
    "            athlete = heapq.heappop(placements)\n",
    "            output[athlete[1]] = placement_values[rank]\n",
    "            rank += 1\n",
    "        return output"
   ]
  },
  {
   "cell_type": "code",
   "execution_count": 44,
   "id": "83f8506c",
   "metadata": {},
   "outputs": [
    {
     "name": "stdout",
     "output_type": "stream",
     "text": [
      "[(-5, 0), (-4, 1), (-3, 2), (-2, 3), (-1, 4)]\n"
     ]
    },
    {
     "data": {
      "text/plain": [
       "['Gold Medal', 'Silver Medal', 'Bronze Medal', '4', '5']"
      ]
     },
     "execution_count": 44,
     "metadata": {},
     "output_type": "execute_result"
    }
   ],
   "source": [
    "score = [5,4,3,2,1]\n",
    "sol = Solution()\n",
    "sol.findRelativeRanks(score)"
   ]
  },
  {
   "cell_type": "code",
   "execution_count": null,
   "id": "960c373d",
   "metadata": {},
   "outputs": [],
   "source": [
    "\"\"\"\n",
    "17 / 17 test cases passed.\n",
    "Status: Accepted\n",
    "Runtime: 93 ms\n",
    "Memory Usage: 15.7 MB\n",
    "Notes: Time complexity of n*log(n) because of the heap-sort. I guess I can really just sort the lists with an algorithm\n",
    "that runs in n*log(n) (the default sort() function does) instead of using heaps but it helps to practice.\n",
    "\"\"\""
   ]
  }
 ],
 "metadata": {
  "kernelspec": {
   "display_name": "Python 3 (ipykernel)",
   "language": "python",
   "name": "python3"
  },
  "language_info": {
   "codemirror_mode": {
    "name": "ipython",
    "version": 3
   },
   "file_extension": ".py",
   "mimetype": "text/x-python",
   "name": "python",
   "nbconvert_exporter": "python",
   "pygments_lexer": "ipython3",
   "version": "3.9.9"
  }
 },
 "nbformat": 4,
 "nbformat_minor": 5
}
