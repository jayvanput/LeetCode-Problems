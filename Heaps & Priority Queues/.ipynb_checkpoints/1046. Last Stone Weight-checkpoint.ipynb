{
 "cells": [
  {
   "cell_type": "code",
   "execution_count": 1,
   "id": "c927847e",
   "metadata": {},
   "outputs": [],
   "source": [
    "import heapq\n",
    "from typing import *"
   ]
  },
  {
   "cell_type": "code",
   "execution_count": 40,
   "id": "710008bb",
   "metadata": {},
   "outputs": [],
   "source": [
    "class Solution:\n",
    "    def lastStoneWeight(self, stones: List[int]) -> int:\n",
    "        for i, s in enumerate(stones):\n",
    "            stones[i] = -s\n",
    "        heapq.heapify(stones)\n",
    "        \n",
    "        while len(stones) > 1:\n",
    "            big_stone, small_stone = heapq.heappop(stones), heapq.heappop(stones)\n",
    "            if big_stone != small_stone:\n",
    "                new_stone = big_stone - small_stone\n",
    "                heapq.heappush(stones, new_stone)\n",
    "        return -stones[0] if stones else 0"
   ]
  },
  {
   "cell_type": "code",
   "execution_count": 41,
   "id": "6e4339d6",
   "metadata": {},
   "outputs": [
    {
     "data": {
      "text/plain": [
       "0"
      ]
     },
     "execution_count": 41,
     "metadata": {},
     "output_type": "execute_result"
    }
   ],
   "source": [
    "stones = [2,2]\n",
    "sol = Solution()\n",
    "sol.lastStoneWeight(stones)"
   ]
  },
  {
   "cell_type": "code",
   "execution_count": null,
   "id": "1506f392",
   "metadata": {},
   "outputs": [],
   "source": [
    "\"\"\"\n",
    "70 / 70 test cases passed.\n",
    "Status: Accepted\n",
    "Runtime: 38 ms\n",
    "Memory Usage: 13.9 MB\n",
    "Submitted: 0 minutes ago\n",
    "Notes: Used heapq module, should try it without standard library. Runtime is n*log(n): The while loop makes is O(n) \n",
    "while needs to heappush (log(n)) every time. \n",
    "\"\"\""
   ]
  }
 ],
 "metadata": {
  "kernelspec": {
   "display_name": "Python 3 (ipykernel)",
   "language": "python",
   "name": "python3"
  },
  "language_info": {
   "codemirror_mode": {
    "name": "ipython",
    "version": 3
   },
   "file_extension": ".py",
   "mimetype": "text/x-python",
   "name": "python",
   "nbconvert_exporter": "python",
   "pygments_lexer": "ipython3",
   "version": "3.9.9"
  }
 },
 "nbformat": 4,
 "nbformat_minor": 5
}
