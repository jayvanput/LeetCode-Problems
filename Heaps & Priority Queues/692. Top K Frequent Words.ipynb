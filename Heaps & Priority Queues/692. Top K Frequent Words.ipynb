{
 "cells": [
  {
   "cell_type": "code",
   "execution_count": 3,
   "id": "e4d684dc",
   "metadata": {},
   "outputs": [],
   "source": [
    "import heapq\n",
    "from typing import *"
   ]
  },
  {
   "cell_type": "code",
   "execution_count": 37,
   "id": "99e1bcfa",
   "metadata": {},
   "outputs": [],
   "source": [
    "class Solution:\n",
    "    def topKFrequent(self, words: List[str], k: int) -> List[str]:\n",
    "        counts = {}\n",
    "        for word in words:\n",
    "            if word in counts:\n",
    "                counts[word] += 1\n",
    "            else:\n",
    "                counts[word] = 1\n",
    "\n",
    "        counts_heap = [(-v, k) for k, v in counts.items()]\n",
    "        heapq.heapify(counts_heap)\n",
    "        \n",
    "        output = []\n",
    "        for _ in range(k):\n",
    "            top_word = heapq.heappop(counts_heap)\n",
    "            output.append(top_word[1])\n",
    "        return output"
   ]
  },
  {
   "cell_type": "code",
   "execution_count": 39,
   "id": "d0acd0d6",
   "metadata": {},
   "outputs": [
    {
     "data": {
      "text/plain": [
       "['the', 'is', 'sunny', 'day']"
      ]
     },
     "execution_count": 39,
     "metadata": {},
     "output_type": "execute_result"
    }
   ],
   "source": [
    "lst = [\"the\",\"day\",\"is\",\"sunny\",\"the\",\"the\",\"the\",\"sunny\",\"is\",\"is\"]\n",
    "sol = Solution()\n",
    "sol.topKFrequent(lst, 4)"
   ]
  },
  {
   "cell_type": "code",
   "execution_count": null,
   "id": "0b4b94cc",
   "metadata": {},
   "outputs": [],
   "source": [
    "\"\"\"\n",
    "110 / 110 test cases passed.\n",
    "Status: Accepted\n",
    "Runtime: 95 ms\n",
    "Memory Usage: 13.8 MB\n",
    "Submitted: 0 minutes ago\n",
    "Notes: Didn't seem like a PQ problem at first and just required a dictionary. \n",
    "PQ saves time complexity by quickly finding & sorting the dictionary in descending order.\n",
    "I will need to examine the time complexity of this since it isn't clear to me yet.\n",
    "\"\"\""
   ]
  }
 ],
 "metadata": {
  "kernelspec": {
   "display_name": "Python 3 (ipykernel)",
   "language": "python",
   "name": "python3"
  },
  "language_info": {
   "codemirror_mode": {
    "name": "ipython",
    "version": 3
   },
   "file_extension": ".py",
   "mimetype": "text/x-python",
   "name": "python",
   "nbconvert_exporter": "python",
   "pygments_lexer": "ipython3",
   "version": "3.9.9"
  }
 },
 "nbformat": 4,
 "nbformat_minor": 5
}
