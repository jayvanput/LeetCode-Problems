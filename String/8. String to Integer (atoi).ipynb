{
 "cells": [
  {
   "cell_type": "code",
   "execution_count": 58,
   "metadata": {},
   "outputs": [],
   "source": [
    "class Solution:\n",
    "    def myAtoi(self, s: str) -> int:\n",
    "        s = s.strip()\n",
    "        char_lst: list[str] = []\n",
    "        sign = 1\n",
    "        number_flag = 0\n",
    "        sign_flag = 0\n",
    "        for i in s:\n",
    "            # Handle all english letters.\n",
    "            if not i.isnumeric() and i not in [\"+\",\"-\"]:\n",
    "                break\n",
    "            if i.isnumeric():\n",
    "                number_flag = 1\n",
    "                char_lst.append(i)\n",
    "            if i == \"+\" and not number_flag:\n",
    "                sign_flag += 1\n",
    "                sign = 1\n",
    "            elif i == \"-\" and not number_flag:\n",
    "                sign_flag += 1\n",
    "                sign = -1\n",
    "            if i in [\"+\",\"-\"] and number_flag:\n",
    "                break\n",
    "        if not char_lst:\n",
    "            return 0\n",
    "        if sign_flag > 1:\n",
    "            return 0\n",
    "        output = int(\"\".join(char_lst))\n",
    "        if abs(output) > 2147483647:\n",
    "            if sign == -1:\n",
    "                return -2147483648\n",
    "            else:\n",
    "                return 2147483647\n",
    "        return sign * output"
   ]
  },
  {
   "cell_type": "code",
   "execution_count": 60,
   "metadata": {},
   "outputs": [
    {
     "data": {
      "text/plain": [
       "-5"
      ]
     },
     "execution_count": 60,
     "metadata": {},
     "output_type": "execute_result"
    }
   ],
   "source": [
    "s = \"-5-\"\n",
    "sol = Solution()\n",
    "sol.myAtoi(s)"
   ]
  },
  {
   "cell_type": "code",
   "execution_count": null,
   "metadata": {},
   "outputs": [],
   "source": [
    "\"\"\"\n",
    "Runtime38 ms\n",
    "Beats\n",
    "80.5%\n",
    "Memory13.9 MB\n",
    "Notes: Felt really bad about this multi-flag solution until I saw the \"DFA\" (Deterministric finite automation) solution which is pretty much the same thing!\n",
    "Now I feel less bad but this is still gross.\n",
    "\"\"\""
   ]
  }
 ],
 "metadata": {
  "kernelspec": {
   "display_name": "testing",
   "language": "python",
   "name": "python3"
  },
  "language_info": {
   "codemirror_mode": {
    "name": "ipython",
    "version": 3
   },
   "file_extension": ".py",
   "mimetype": "text/x-python",
   "name": "python",
   "nbconvert_exporter": "python",
   "pygments_lexer": "ipython3",
   "version": "3.9.9"
  },
  "orig_nbformat": 4,
  "vscode": {
   "interpreter": {
    "hash": "fb79f887f98bf1425cfd8e046db197159ed36d1ac9d9565e603c221fb1d3efe4"
   }
  }
 },
 "nbformat": 4,
 "nbformat_minor": 2
}
