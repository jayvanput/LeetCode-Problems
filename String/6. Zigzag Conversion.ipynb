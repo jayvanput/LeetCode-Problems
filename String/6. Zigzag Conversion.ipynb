{
 "cells": [
  {
   "cell_type": "code",
   "execution_count": null,
   "metadata": {},
   "outputs": [],
   "source": [
    "from typing import *"
   ]
  },
  {
   "cell_type": "code",
   "execution_count": 86,
   "metadata": {},
   "outputs": [],
   "source": [
    "class Solution:\n",
    "    def convert(self, s: str, numRows: int) -> str:\n",
    "        rows: List[List[str]] = [[] for _ in range(numRows)]\n",
    "        if len(s) <= numRows:\n",
    "            return s\n",
    "        \n",
    "        zig_zag_size: int = numRows + numRows - 2\n",
    "        midpoint: int = numRows - 1\n",
    "\n",
    "        for index, value in enumerate(s):\n",
    "            # Convert everything to the base case by moduloing.\n",
    "            index = index % zig_zag_size\n",
    "\n",
    "            # If we are less than the midpoint (in the \"zig\"), then we can just add to the row at that index.\n",
    "            if index <= midpoint:\n",
    "                rows[index].append(value)\n",
    "            # If we are after the midpoint (in the \"zag\"), then we need to mirror it.\n",
    "            elif index > midpoint:\n",
    "                index = zig_zag_size - index\n",
    "                rows[index].append(value)\n",
    "        \n",
    "        # Used to turn our lists into a string to output.\n",
    "        output_lst: List[str] = []\n",
    "        for row in rows:\n",
    "            output_lst.append(\"\".join(row))\n",
    "\n",
    "        return \"\".join(output_lst)\n"
   ]
  },
  {
   "cell_type": "code",
   "execution_count": 87,
   "metadata": {},
   "outputs": [
    {
     "data": {
      "text/plain": [
       "'PAHNAPLSIIGYIR'"
      ]
     },
     "execution_count": 87,
     "metadata": {},
     "output_type": "execute_result"
    }
   ],
   "source": [
    "s = \"PAYPALISHIRING\"\n",
    "numRows = 3\n",
    "sol = Solution()\n",
    "sol.convert(s, numRows)"
   ]
  },
  {
   "cell_type": "code",
   "execution_count": null,
   "metadata": {},
   "outputs": [],
   "source": [
    "\"\"\"\n",
    "Runtime55 ms\n",
    "Beats\n",
    "96.30%\n",
    "Memory14.2 MB\n",
    "Notes: Really annoying problem finding the midpoint values, but should solve in O(n) since we use mutable object until the end.\n",
    "\"\"\""
   ]
  }
 ],
 "metadata": {
  "kernelspec": {
   "display_name": "Python 3.9.9 ('testing')",
   "language": "python",
   "name": "python3"
  },
  "language_info": {
   "codemirror_mode": {
    "name": "ipython",
    "version": 3
   },
   "file_extension": ".py",
   "mimetype": "text/x-python",
   "name": "python",
   "nbconvert_exporter": "python",
   "pygments_lexer": "ipython3",
   "version": "3.9.9 (tags/v3.9.9:ccb0e6a, Nov 15 2021, 18:08:50) [MSC v.1929 64 bit (AMD64)]"
  },
  "orig_nbformat": 4,
  "vscode": {
   "interpreter": {
    "hash": "fb79f887f98bf1425cfd8e046db197159ed36d1ac9d9565e603c221fb1d3efe4"
   }
  }
 },
 "nbformat": 4,
 "nbformat_minor": 2
}
