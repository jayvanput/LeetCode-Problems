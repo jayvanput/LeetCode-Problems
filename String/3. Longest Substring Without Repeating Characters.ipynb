{
 "cells": [
  {
   "cell_type": "code",
   "execution_count": null,
   "metadata": {},
   "outputs": [],
   "source": [
    "from typing import Dict"
   ]
  },
  {
   "cell_type": "code",
   "execution_count": 42,
   "metadata": {},
   "outputs": [],
   "source": [
    "class Solution:\n",
    "    def lengthOfLongestSubstring(self, s: str) -> int:\n",
    "        letter_positions: Dict[str, int] = {}\n",
    "        start: int = 0\n",
    "        end: int = 1\n",
    "\n",
    "        output = 0\n",
    "        for index, letter in enumerate(s):\n",
    "            letter_exists: bool = True if letter_positions.get(letter) is not None else False\n",
    "\n",
    "            if letter_exists:\n",
    "                # Move the start of the output length if the duplicated value exists in the current substring.\n",
    "                if start < letter_positions[letter] + 1:\n",
    "                    start = letter_positions[letter] + 1\n",
    "\n",
    "            letter_positions[letter] = index\n",
    "            \n",
    "            if output < end - start:\n",
    "                output = end - start\n",
    "            end += 1\n",
    "        return output\n",
    "\n",
    "\n",
    "\n"
   ]
  },
  {
   "cell_type": "code",
   "execution_count": 43,
   "metadata": {},
   "outputs": [
    {
     "name": "stdout",
     "output_type": "stream",
     "text": [
      "a 0 1 1 {'a': 0}\n",
      "b 0 2 2 {'a': 0, 'b': 1}\n",
      "b 2 3 1 {'a': 0, 'b': 2}\n",
      "a 2 4 2 {'a': 3, 'b': 2}\n"
     ]
    },
    {
     "data": {
      "text/plain": [
       "2"
      ]
     },
     "execution_count": 43,
     "metadata": {},
     "output_type": "execute_result"
    }
   ],
   "source": [
    "s = \"abba\"\n",
    "sol = Solution()\n",
    "sol.lengthOfLongestSubstring(s)"
   ]
  },
  {
   "cell_type": "code",
   "execution_count": 3,
   "metadata": {},
   "outputs": [
    {
     "data": {
      "text/plain": [
       "True"
      ]
     },
     "execution_count": 3,
     "metadata": {},
     "output_type": "execute_result"
    }
   ],
   "source": [
    "\"\"\"Runtime56 ms\n",
    "Beats\n",
    "97.47%\n",
    "Memory14 MB\n",
    "Notes: The simple solution is to iterate over every substring, which runs in O(n**2) (This is because 1 + 2 + 3 + ... + N-1 comes out to n(n-1)/2). We can do this in O(n) with a hash\n",
    "map and 2-pointers for the start and end of the longest substring. If we see a duplicated value, we know that the current substring must start at the point after it's last occurence. Then\n",
    "we compare the current substring to the length of the longest one we already found and update if necessary.\n",
    "\"\"\"\n"
   ]
  },
  {
   "cell_type": "code",
   "execution_count": null,
   "metadata": {},
   "outputs": [],
   "source": []
  }
 ],
 "metadata": {
  "kernelspec": {
   "display_name": "Python 3.9.9 ('testing')",
   "language": "python",
   "name": "python3"
  },
  "language_info": {
   "codemirror_mode": {
    "name": "ipython",
    "version": 3
   },
   "file_extension": ".py",
   "mimetype": "text/x-python",
   "name": "python",
   "nbconvert_exporter": "python",
   "pygments_lexer": "ipython3",
   "version": "3.9.9"
  },
  "orig_nbformat": 4,
  "vscode": {
   "interpreter": {
    "hash": "fb79f887f98bf1425cfd8e046db197159ed36d1ac9d9565e603c221fb1d3efe4"
   }
  }
 },
 "nbformat": 4,
 "nbformat_minor": 2
}
