{
 "cells": [
  {
   "cell_type": "code",
   "execution_count": 12,
   "id": "dbc26d52",
   "metadata": {},
   "outputs": [],
   "source": [
    "class Solution:\n",
    "    def titleToNumber(self, columnTitle: str) -> int:\n",
    "        output = 0\n",
    "        for i, letter in enumerate(columnTitle[::-1]):\n",
    "            ordinal_value = ord(letter) - 64\n",
    "            number = ordinal_value * 26**i\n",
    "            output += number\n",
    "        return output"
   ]
  },
  {
   "cell_type": "code",
   "execution_count": 14,
   "id": "1d98f0c1",
   "metadata": {},
   "outputs": [
    {
     "data": {
      "text/plain": [
       "701"
      ]
     },
     "execution_count": 14,
     "metadata": {},
     "output_type": "execute_result"
    }
   ],
   "source": [
    "columnTitle = \"ZY\"\n",
    "sol = Solution()\n",
    "sol.titleToNumber(columnTitle)"
   ]
  },
  {
   "cell_type": "code",
   "execution_count": null,
   "id": "bc773353",
   "metadata": {},
   "outputs": [],
   "source": [
    "\"\"\"\n",
    "1002 / 1002 test cases passed.\n",
    "Status: Accepted\n",
    "Runtime: 45 ms\n",
    "Memory Usage: 13.9 MB\n",
    "Notes: Much easier than the reverse (number to letters). Convert to ordinal, then multiply by 26 to the power of the index.\n",
    "\"\"\""
   ]
  }
 ],
 "metadata": {
  "kernelspec": {
   "display_name": "Python 3 (ipykernel)",
   "language": "python",
   "name": "python3"
  },
  "language_info": {
   "codemirror_mode": {
    "name": "ipython",
    "version": 3
   },
   "file_extension": ".py",
   "mimetype": "text/x-python",
   "name": "python",
   "nbconvert_exporter": "python",
   "pygments_lexer": "ipython3",
   "version": "3.9.9"
  }
 },
 "nbformat": 4,
 "nbformat_minor": 5
}
