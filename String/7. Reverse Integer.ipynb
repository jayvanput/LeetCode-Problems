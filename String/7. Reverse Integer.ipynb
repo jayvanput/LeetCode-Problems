{
 "cells": [
  {
   "cell_type": "code",
   "execution_count": 77,
   "metadata": {},
   "outputs": [],
   "source": [
    "class Solution:\n",
    "    def reverse(self, x: int) -> int:\n",
    "        if x == 0:\n",
    "            return x\n",
    "        output_lst = []\n",
    "        zero_flag = True\n",
    "        if x < 0:\n",
    "            output_lst.append(\"-\")\n",
    "        for i in str(x)[::-1]:\n",
    "            if i == \"0\" and zero_flag:\n",
    "                zero_flag = False\n",
    "            elif i.isnumeric():\n",
    "                zero_flag = False\n",
    "                output_lst.append(i)\n",
    "        output = int(\"\".join(output_lst))\n",
    "        if output > 2147483648 or output < -2147483648:\n",
    "            return 0\n",
    "        return output"
   ]
  },
  {
   "cell_type": "code",
   "execution_count": 79,
   "metadata": {},
   "outputs": [
    {
     "data": {
      "text/plain": [
       "21"
      ]
     },
     "execution_count": 79,
     "metadata": {},
     "output_type": "execute_result"
    }
   ],
   "source": [
    "x = 120\n",
    "sol = Solution()\n",
    "sol.reverse(x)"
   ]
  },
  {
   "cell_type": "code",
   "execution_count": null,
   "metadata": {},
   "outputs": [],
   "source": [
    "\"\"\"\n",
    "Runtime40 ms\n",
    "Beats\n",
    "68.21%\n",
    "Memory13.8 MB\n",
    "Notes: Gross solution that converts to string but I know there are elegant ways to do it without. \n",
    "I don't care right now, I'm just glad I got an answer. This site is kicking my butt.\n",
    "\"\"\""
   ]
  }
 ],
 "metadata": {
  "kernelspec": {
   "display_name": "testing",
   "language": "python",
   "name": "python3"
  },
  "language_info": {
   "codemirror_mode": {
    "name": "ipython",
    "version": 3
   },
   "file_extension": ".py",
   "mimetype": "text/x-python",
   "name": "python",
   "nbconvert_exporter": "python",
   "pygments_lexer": "ipython3",
   "version": "3.9.9"
  },
  "orig_nbformat": 4,
  "vscode": {
   "interpreter": {
    "hash": "fb79f887f98bf1425cfd8e046db197159ed36d1ac9d9565e603c221fb1d3efe4"
   }
  }
 },
 "nbformat": 4,
 "nbformat_minor": 2
}
