{
 "cells": [
  {
   "cell_type": "code",
   "execution_count": 69,
   "id": "45b4d583",
   "metadata": {},
   "outputs": [],
   "source": [
    "class Solution:\n",
    "    def convertToTitle(self, columnNumber: int) -> str:\n",
    "        letters = []\n",
    "        while columnNumber > 26:\n",
    "            columnNumber, mod = divmod(columnNumber, 26)\n",
    "            if mod == 0:\n",
    "                columnNumber -= 1\n",
    "                mod = 26\n",
    "            letters.append(mod)\n",
    "        else:\n",
    "            letters.append(columnNumber)\n",
    "        return \"\".join([chr(mod+64) for mod in reversed(letters)])"
   ]
  },
  {
   "cell_type": "code",
   "execution_count": 70,
   "id": "8a2fa08b",
   "metadata": {},
   "outputs": [
    {
     "data": {
      "text/plain": [
       "'AZ'"
      ]
     },
     "execution_count": 70,
     "metadata": {},
     "output_type": "execute_result"
    }
   ],
   "source": [
    "columnNumber = 52\n",
    "sol = Solution()\n",
    "sol.convertToTitle(columnNumber)"
   ]
  },
  {
   "cell_type": "code",
   "execution_count": null,
   "id": "65f5ecf1",
   "metadata": {},
   "outputs": [],
   "source": [
    "\"\"\"\n",
    "18 / 18 test cases passed.\n",
    "Status: Accepted\n",
    "Runtime: 60 ms\n",
    "Memory Usage: 13.9 MB\n",
    "Notes: Also couldn't figure this one out without help. Still not sure I fully understand what the modulo has to do \n",
    "with anything...\n",
    "\"\"\""
   ]
  }
 ],
 "metadata": {
  "kernelspec": {
   "display_name": "Python 3 (ipykernel)",
   "language": "python",
   "name": "python3"
  },
  "language_info": {
   "codemirror_mode": {
    "name": "ipython",
    "version": 3
   },
   "file_extension": ".py",
   "mimetype": "text/x-python",
   "name": "python",
   "nbconvert_exporter": "python",
   "pygments_lexer": "ipython3",
   "version": "3.9.9"
  }
 },
 "nbformat": 4,
 "nbformat_minor": 5
}
