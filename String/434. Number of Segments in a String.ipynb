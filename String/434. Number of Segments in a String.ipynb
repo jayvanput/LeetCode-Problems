{
 "cells": [
  {
   "cell_type": "code",
   "execution_count": 30,
   "metadata": {},
   "outputs": [],
   "source": [
    "class Solution:\n",
    "    def countSegments(self, s: str) -> int:\n",
    "        if s.strip() == \"\":\n",
    "            return 0\n",
    "        space_flag: bool = False\n",
    "        output: int = 1\n",
    "        for i in s.strip():\n",
    "            if i == \" \" and not space_flag:\n",
    "                print(\"here\")\n",
    "                output += 1\n",
    "                space_flag = True\n",
    "            elif i != \" \":\n",
    "                print(i)\n",
    "                space_flag = False\n",
    "        return output"
   ]
  },
  {
   "cell_type": "code",
   "execution_count": null,
   "metadata": {},
   "outputs": [],
   "source": [
    "\"\"\"\n",
    "Runtime25 ms\n",
    "Beats\n",
    "92.83%\n",
    "Memory13.8 MB\n",
    "Notes: Deceptively difficult, lots of edge cases. Above solution runs in O(n). \n",
    "\"\"\""
   ]
  }
 ],
 "metadata": {
  "kernelspec": {
   "display_name": "Python 3",
   "language": "python",
   "name": "python3"
  },
  "language_info": {
   "codemirror_mode": {
    "name": "ipython",
    "version": 3
   },
   "file_extension": ".py",
   "mimetype": "text/x-python",
   "name": "python",
   "nbconvert_exporter": "python",
   "pygments_lexer": "ipython3",
   "version": "3.9.9"
  },
  "orig_nbformat": 4
 },
 "nbformat": 4,
 "nbformat_minor": 2
}
