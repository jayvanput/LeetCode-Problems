{
 "cells": [
  {
   "cell_type": "code",
   "execution_count": 2,
   "id": "5aaf2731",
   "metadata": {},
   "outputs": [],
   "source": [
    "from typing import *"
   ]
  },
  {
   "cell_type": "code",
   "execution_count": 21,
   "id": "7dcc9041",
   "metadata": {},
   "outputs": [],
   "source": [
    "class Solution:\n",
    "    def buildArray(self, nums: List[int]) -> List[int]:\n",
    "        return [nums[nums[i]] for i in range(len(nums))]"
   ]
  },
  {
   "cell_type": "code",
   "execution_count": 22,
   "id": "2e9c3e8c",
   "metadata": {},
   "outputs": [
    {
     "data": {
      "text/plain": [
       "[0, 1, 2, 4, 5, 3]"
      ]
     },
     "execution_count": 22,
     "metadata": {},
     "output_type": "execute_result"
    }
   ],
   "source": [
    "nums = [0,2,1,5,3,4]\n",
    "sol = Solution()\n",
    "sol.buildArray(nums)"
   ]
  },
  {
   "cell_type": "code",
   "execution_count": null,
   "id": "3a456cee",
   "metadata": {},
   "outputs": [],
   "source": [
    "\"\"\"\n",
    "140 / 140 test cases passed.\n",
    "Status: Accepted\n",
    "Runtime: 111 ms\n",
    "Memory Usage: 14.1 MB\n",
    "Submitted: 4 minutes ago\n",
    "Notes: Easy to breakdown to one-liner. But the O(1) time complexity solution is beyond my math skills and not what I'm about.\n",
    "\"\"\""
   ]
  }
 ],
 "metadata": {
  "kernelspec": {
   "display_name": "Python 3 (ipykernel)",
   "language": "python",
   "name": "python3"
  },
  "language_info": {
   "codemirror_mode": {
    "name": "ipython",
    "version": 3
   },
   "file_extension": ".py",
   "mimetype": "text/x-python",
   "name": "python",
   "nbconvert_exporter": "python",
   "pygments_lexer": "ipython3",
   "version": "3.9.9"
  }
 },
 "nbformat": 4,
 "nbformat_minor": 5
}
