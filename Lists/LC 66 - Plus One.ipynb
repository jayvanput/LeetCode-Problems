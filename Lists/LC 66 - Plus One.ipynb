{
 "cells": [
  {
   "cell_type": "code",
   "execution_count": 33,
   "id": "175590b9",
   "metadata": {},
   "outputs": [],
   "source": [
    "class Solution:\n",
    "    def plusOne(self, digits):\n",
    "        num = 0\n",
    "\n",
    "        for index, digit in enumerate(digits[::-1]):\n",
    "            num += digit * (10 ** index)\n",
    "        \n",
    "        num += 1\n",
    "        \n",
    "        output = [int(x) for x in str(num)]\n",
    "        \n",
    "        return output"
   ]
  },
  {
   "cell_type": "code",
   "execution_count": 34,
   "id": "adb7ee3a",
   "metadata": {},
   "outputs": [
    {
     "data": {
      "text/plain": [
       "[1, 2, 4]"
      ]
     },
     "execution_count": 34,
     "metadata": {},
     "output_type": "execute_result"
    }
   ],
   "source": [
    "sol = Solution()\n",
    "sol.plusOne([1,2,3])"
   ]
  },
  {
   "cell_type": "markdown",
   "id": "cee94a43",
   "metadata": {},
   "source": [
    "# Clever Recursive Solution"
   ]
  },
  {
   "cell_type": "code",
   "execution_count": null,
   "id": "8b88ccdb",
   "metadata": {},
   "outputs": [],
   "source": [
    "class Solution(object):\n",
    "    def plusOne(self, digits):\n",
    "        if digits[-1] == 9:\n",
    "            if len(digits) == 1:  # Already a 9\n",
    "                return [1, 0]\n",
    "            return self.plusOne(digits[:-1]) + [0]\n",
    "        else:\n",
    "            digits[-1] += 1\n",
    "        return digits"
   ]
  }
 ],
 "metadata": {
  "kernelspec": {
   "display_name": "Python 3 (ipykernel)",
   "language": "python",
   "name": "python3"
  },
  "language_info": {
   "codemirror_mode": {
    "name": "ipython",
    "version": 3
   },
   "file_extension": ".py",
   "mimetype": "text/x-python",
   "name": "python",
   "nbconvert_exporter": "python",
   "pygments_lexer": "ipython3",
   "version": "3.9.9"
  }
 },
 "nbformat": 4,
 "nbformat_minor": 5
}
