{
 "cells": [
  {
   "cell_type": "code",
   "execution_count": null,
   "id": "88d00987",
   "metadata": {},
   "outputs": [],
   "source": [
    "class Solution:\n",
    "    def minimumOperations(self, nums: List[int]) -> int:\n",
    "        set_nums = set(nums)\n",
    "        output = len(set_nums)\n",
    "        if 0 in set_nums:\n",
    "            output -= 1\n",
    "        return output"
   ]
  },
  {
   "cell_type": "code",
   "execution_count": null,
   "id": "43890ace",
   "metadata": {},
   "outputs": [],
   "source": [
    "\"\"\"\n",
    "95 / 95 test cases passed.\n",
    "Status: Accepted\n",
    "Runtime: 71 ms\n",
    "Memory Usage: 13.7 MB\n",
    "Submitted: 4 minutes ago\n",
    "Notes: 2nd \"priority queue\" problem that doesn't need to use a priority queue at all. IDK.\n",
    "\"\"\""
   ]
  }
 ],
 "metadata": {
  "kernelspec": {
   "display_name": "Python 3 (ipykernel)",
   "language": "python",
   "name": "python3"
  },
  "language_info": {
   "codemirror_mode": {
    "name": "ipython",
    "version": 3
   },
   "file_extension": ".py",
   "mimetype": "text/x-python",
   "name": "python",
   "nbconvert_exporter": "python",
   "pygments_lexer": "ipython3",
   "version": "3.9.9"
  }
 },
 "nbformat": 4,
 "nbformat_minor": 5
}
