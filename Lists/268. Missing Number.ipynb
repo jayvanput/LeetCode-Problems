{
 "cells": [
  {
   "cell_type": "code",
   "execution_count": 3,
   "metadata": {},
   "outputs": [],
   "source": [
    "from typing import *"
   ]
  },
  {
   "cell_type": "code",
   "execution_count": 18,
   "metadata": {},
   "outputs": [],
   "source": [
    "class Solution:\n",
    "    def missingNumber(self, nums: List[int]) -> int:\n",
    "        n = len(nums)\n",
    "        theoretical_sum = n * (n+1) // 2\n",
    "        actual_sum = sum(nums)\n",
    "\n",
    "        return theoretical_sum - actual_sum\n"
   ]
  },
  {
   "cell_type": "code",
   "execution_count": 19,
   "metadata": {},
   "outputs": [
    {
     "data": {
      "text/plain": [
       "8"
      ]
     },
     "execution_count": 19,
     "metadata": {},
     "output_type": "execute_result"
    }
   ],
   "source": [
    "nums = [9,6,4,2,3,5,7,0,1]\n",
    "sol = Solution()\n",
    "sol.missingNumber(nums)"
   ]
  },
  {
   "cell_type": "code",
   "execution_count": null,
   "metadata": {},
   "outputs": [],
   "source": [
    "\"\"\"\n",
    "122 / 122 test cases passed.\n",
    "Status: Accepted\n",
    "Runtime: 146 ms\n",
    "Memory Usage: 15.3 MB\n",
    "Notes: runs in O(n), can't think of anything faster. Originally used list comprehension on the range but you can just \n",
    "use the range. You can reduce an extra O(n) by using the formula: n * (n+1) // 2.\n",
    "\"\"\""
   ]
  }
 ],
 "metadata": {
  "kernelspec": {
   "display_name": "testing",
   "language": "python",
   "name": "testing"
  },
  "language_info": {
   "codemirror_mode": {
    "name": "ipython",
    "version": 3
   },
   "file_extension": ".py",
   "mimetype": "text/x-python",
   "name": "python",
   "nbconvert_exporter": "python",
   "pygments_lexer": "ipython3",
   "version": "3.9.9"
  },
  "orig_nbformat": 4,
  "vscode": {
   "interpreter": {
    "hash": "b1c4bd91ad397085e435f1a10a9627bc2777b867b376c923459e6205c6d480f8"
   }
  }
 },
 "nbformat": 4,
 "nbformat_minor": 2
}
