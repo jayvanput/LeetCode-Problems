{
 "cells": [
  {
   "cell_type": "code",
   "execution_count": 50,
   "metadata": {},
   "outputs": [],
   "source": [
    "class Solution:\n",
    "    def nextPermutation(self, arr: list[int]) -> None:\n",
    "        \"\"\"\n",
    "        Do not return anything, modify nums in-place instead.\n",
    "        \"\"\"\n",
    "        bPoint, n = -1, len(arr)\n",
    "        for i in range(n-2,-1,-1):\n",
    "            if arr[i] >= arr[i+1]: continue                   # Skip the non-increasing sequence\n",
    "            bPoint = i                                        # Got our breakpoint\n",
    "            for j in range(n-1,i,-1):                         # again traverse from end\n",
    "                if arr[j] > arr[bPoint]:                      # Search an element greater the element present at the breakPoint.\n",
    "                    arr[j], arr[bPoint] = arr[bPoint], arr[j] # Swap it\n",
    "                    break                                     # We just need to swap once\n",
    "            break                                             # Break this loop too\n",
    "        arr[bPoint+1:] = reversed(arr[bPoint+1:]) \n",
    "        print(arr)\n",
    "\n"
   ]
  },
  {
   "cell_type": "code",
   "execution_count": 51,
   "metadata": {},
   "outputs": [
    {
     "name": "stdout",
     "output_type": "stream",
     "text": [
      "[1, 3, 2, 6, 5]\n"
     ]
    }
   ],
   "source": [
    "nums = [1,3,2,5,6]\n",
    "sol = Solution()\n",
    "sol.nextPermutation(nums)"
   ]
  },
  {
   "cell_type": "code",
   "execution_count": 52,
   "metadata": {},
   "outputs": [
    {
     "data": {
      "text/plain": [
       "''"
      ]
     },
     "execution_count": 52,
     "metadata": {},
     "output_type": "execute_result"
    }
   ],
   "source": [
    "\"\"\"\n",
    "Notes: Ripped this from the solutions. I don't even know what to make of it. \n",
    "\"\"\""
   ]
  },
  {
   "cell_type": "code",
   "execution_count": null,
   "metadata": {},
   "outputs": [],
   "source": []
  }
 ],
 "metadata": {
  "kernelspec": {
   "display_name": "webapps",
   "language": "python",
   "name": "python3"
  },
  "language_info": {
   "codemirror_mode": {
    "name": "ipython",
    "version": 3
   },
   "file_extension": ".py",
   "mimetype": "text/x-python",
   "name": "python",
   "nbconvert_exporter": "python",
   "pygments_lexer": "ipython3",
   "version": "3.11.1"
  },
  "orig_nbformat": 4,
  "vscode": {
   "interpreter": {
    "hash": "8b9e562a1f76a5948467e158169a887b2175c9af000d18d2164309069a882c35"
   }
  }
 },
 "nbformat": 4,
 "nbformat_minor": 2
}
