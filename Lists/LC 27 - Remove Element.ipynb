{
 "cells": [
  {
   "cell_type": "code",
   "execution_count": 6,
   "id": "acd0a4ea",
   "metadata": {},
   "outputs": [],
   "source": [
    "from typing import *"
   ]
  },
  {
   "cell_type": "code",
   "execution_count": 49,
   "id": "24949258",
   "metadata": {},
   "outputs": [],
   "source": [
    "class Solution:\n",
    "    def removeElement(self, nums: List[int], val: int) -> int:\n",
    "        i = 0\n",
    "        max_index = len(nums)\n",
    "        while i < max_index:\n",
    "            if nums[i] == val:\n",
    "                nums.pop(i)\n",
    "                max_index -= 1\n",
    "            else:\n",
    "                i += 1\n",
    "        return len(nums), nums"
   ]
  },
  {
   "cell_type": "code",
   "execution_count": 50,
   "id": "199aa086",
   "metadata": {},
   "outputs": [
    {
     "name": "stdout",
     "output_type": "stream",
     "text": [
      "(5, [0, 1, 3, 0, 4, 0, 4, 2])\n"
     ]
    }
   ],
   "source": [
    "nums = [0,1,2,2,3,0,4,2]\n",
    "val = 2\n",
    "\n",
    "test = Solution()\n",
    "print(test.removeElement(nums, val))"
   ]
  },
  {
   "cell_type": "code",
   "execution_count": null,
   "id": "e923ed68",
   "metadata": {},
   "outputs": [],
   "source": []
  }
 ],
 "metadata": {
  "kernelspec": {
   "display_name": "Python 3 (ipykernel)",
   "language": "python",
   "name": "python3"
  },
  "language_info": {
   "codemirror_mode": {
    "name": "ipython",
    "version": 3
   },
   "file_extension": ".py",
   "mimetype": "text/x-python",
   "name": "python",
   "nbconvert_exporter": "python",
   "pygments_lexer": "ipython3",
   "version": "3.9.9"
  }
 },
 "nbformat": 4,
 "nbformat_minor": 5
}
