{
 "cells": [
  {
   "cell_type": "code",
   "execution_count": 2,
   "id": "21f9286e",
   "metadata": {},
   "outputs": [],
   "source": [
    "from typing import *"
   ]
  },
  {
   "cell_type": "code",
   "execution_count": 7,
   "id": "2282eb1b",
   "metadata": {},
   "outputs": [],
   "source": [
    "class Solution:\n",
    "    def maxProduct(self, nums: List[int]) -> int:\n",
    "        maximum, second_max = 0, 0\n",
    "        for value in nums:\n",
    "            if value > maximum:\n",
    "                second_max, maximum = maximum, value\n",
    "            elif value > second_max:\n",
    "                second_max = value\n",
    "        return (maximum-1) * (second_max-1)"
   ]
  },
  {
   "cell_type": "code",
   "execution_count": 8,
   "id": "4e62f3df",
   "metadata": {},
   "outputs": [
    {
     "data": {
      "text/plain": [
       "16"
      ]
     },
     "execution_count": 8,
     "metadata": {},
     "output_type": "execute_result"
    }
   ],
   "source": [
    "nums = [1,5,4,5]\n",
    "sol = Solution()\n",
    "sol.maxProduct(nums)"
   ]
  },
  {
   "cell_type": "code",
   "execution_count": null,
   "id": "c54c4d5e",
   "metadata": {},
   "outputs": [],
   "source": [
    "\"\"\"\n",
    "104 / 104 test cases passed.\n",
    "Status: Accepted\n",
    "Runtime: 55 ms\n",
    "Memory Usage: 14 MB\n",
    "Submitted: 0 minutes ago\n",
    "Notes: Not sure what this has to do with priority queues but I did it. Cleaned up to be more pythonic and not need max, second_max initialization.\n",
    "\"\"\""
   ]
  }
 ],
 "metadata": {
  "kernelspec": {
   "display_name": "Python 3 (ipykernel)",
   "language": "python",
   "name": "python3"
  },
  "language_info": {
   "codemirror_mode": {
    "name": "ipython",
    "version": 3
   },
   "file_extension": ".py",
   "mimetype": "text/x-python",
   "name": "python",
   "nbconvert_exporter": "python",
   "pygments_lexer": "ipython3",
   "version": "3.9.9"
  }
 },
 "nbformat": 4,
 "nbformat_minor": 5
}
