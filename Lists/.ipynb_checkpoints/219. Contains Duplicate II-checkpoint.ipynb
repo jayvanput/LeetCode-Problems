{
 "cells": [
  {
   "cell_type": "code",
   "execution_count": 2,
   "id": "7ae1a539",
   "metadata": {},
   "outputs": [],
   "source": [
    "from typing import *"
   ]
  },
  {
   "cell_type": "code",
   "execution_count": 153,
   "id": "2a5e68df",
   "metadata": {},
   "outputs": [],
   "source": [
    "class Solution:\n",
    "    def containsNearbyDuplicate(self, nums: List[int], k: int) -> bool:\n",
    "        hashmap = {}\n",
    "        for index, i in enumerate(nums):\n",
    "            if i not in hashmap:\n",
    "                hashmap[i] = [index]\n",
    "            else:\n",
    "                for value in hashmap[i]:\n",
    "                    if index - value <= k:\n",
    "                        return True\n",
    "                hashmap[i].append(index)\n",
    "        return False"
   ]
  },
  {
   "cell_type": "code",
   "execution_count": 157,
   "id": "47e17d34",
   "metadata": {},
   "outputs": [
    {
     "data": {
      "text/plain": [
       "True"
      ]
     },
     "execution_count": 157,
     "metadata": {},
     "output_type": "execute_result"
    }
   ],
   "source": [
    "nums = [99,99]\n",
    "k = 2\n",
    "sol = Solution()\n",
    "sol.containsNearbyDuplicate(nums, k)"
   ]
  },
  {
   "cell_type": "code",
   "execution_count": null,
   "id": "5d8d71bb",
   "metadata": {},
   "outputs": [],
   "source": [
    "\"\"\"\n",
    "52 / 52 test cases passed.\n",
    "Status: Accepted\n",
    "Runtime: 659 ms\n",
    "Memory Usage: 32 MB\n",
    "Notes: Needed the hint to use a dictionary for O(n) solution. Original solution was too slow with O(n*k) but better\n",
    "than O(n2). C'est la vie.\n",
    "\"\"\""
   ]
  }
 ],
 "metadata": {
  "kernelspec": {
   "display_name": "Python 3 (ipykernel)",
   "language": "python",
   "name": "python3"
  },
  "language_info": {
   "codemirror_mode": {
    "name": "ipython",
    "version": 3
   },
   "file_extension": ".py",
   "mimetype": "text/x-python",
   "name": "python",
   "nbconvert_exporter": "python",
   "pygments_lexer": "ipython3",
   "version": "3.9.9"
  }
 },
 "nbformat": 4,
 "nbformat_minor": 5
}
