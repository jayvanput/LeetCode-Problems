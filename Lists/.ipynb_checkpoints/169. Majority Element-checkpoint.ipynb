{
 "cells": [
  {
   "cell_type": "code",
   "execution_count": 1,
   "id": "c843c929",
   "metadata": {},
   "outputs": [],
   "source": [
    "from typing import *"
   ]
  },
  {
   "cell_type": "code",
   "execution_count": 21,
   "id": "14069a42",
   "metadata": {},
   "outputs": [],
   "source": [
    "class Solution:\n",
    "    def majorityElement(self, nums: List[int]) -> int:\n",
    "        nums_dict = {}\n",
    "        for i in nums:\n",
    "            if i in nums_dict.keys():\n",
    "                nums_dict[i] += 1\n",
    "            else:\n",
    "                nums_dict[i] = 1\n",
    "            if nums_dict[i] > len(nums) // 2:\n",
    "                return i"
   ]
  },
  {
   "cell_type": "code",
   "execution_count": 22,
   "id": "32dfee41",
   "metadata": {},
   "outputs": [
    {
     "data": {
      "text/plain": [
       "2"
      ]
     },
     "execution_count": 22,
     "metadata": {},
     "output_type": "execute_result"
    }
   ],
   "source": [
    "nums = [2,2,1,1,1,2,2]\n",
    "sol = Solution()\n",
    "sol.majorityElement(nums)"
   ]
  },
  {
   "cell_type": "code",
   "execution_count": null,
   "id": "1f6f35a0",
   "metadata": {},
   "outputs": [],
   "source": [
    "\"\"\"\n",
    "43 / 43 test cases passed.\n",
    "Status: Accepted\n",
    "Runtime: 188 ms\n",
    "Memory Usage: 15.5 MB\n",
    "Notes: I greatly overcomplicated this since I didn't know there were only 2 elements in the \n",
    "list (and it isn't specified anywhere..). Break early when majority is found.\n",
    "\"\"\""
   ]
  }
 ],
 "metadata": {
  "kernelspec": {
   "display_name": "Python 3 (ipykernel)",
   "language": "python",
   "name": "python3"
  },
  "language_info": {
   "codemirror_mode": {
    "name": "ipython",
    "version": 3
   },
   "file_extension": ".py",
   "mimetype": "text/x-python",
   "name": "python",
   "nbconvert_exporter": "python",
   "pygments_lexer": "ipython3",
   "version": "3.9.9"
  }
 },
 "nbformat": 4,
 "nbformat_minor": 5
}
