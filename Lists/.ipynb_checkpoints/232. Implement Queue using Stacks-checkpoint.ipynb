{
 "cells": [
  {
   "cell_type": "code",
   "execution_count": 32,
   "id": "7709bb48",
   "metadata": {},
   "outputs": [],
   "source": [
    "class MyQueue:\n",
    "\n",
    "    def __init__(self):\n",
    "        self.stack_1 = []\n",
    "        self.stack_2 = []\n",
    "\n",
    "    def push(self, x: int) -> None:\n",
    "        self.stack_1.append(x)\n",
    "\n",
    "    def pop(self) -> int:\n",
    "        while self.stack_1:\n",
    "            item = self.stack_1.pop()\n",
    "            self.stack_2.append(item)\n",
    "        output = self.stack_2.pop()\n",
    "        while self.stack_2:\n",
    "            item = self.stack_2.pop()\n",
    "            self.stack_1.append(item)\n",
    "        return output\n",
    "\n",
    "    def peek(self) -> int:\n",
    "        while self.stack_1:\n",
    "            item = self.stack_1.pop()\n",
    "            self.stack_2.append(item)\n",
    "        output = self.stack_2[-1]\n",
    "        while self.stack_2:\n",
    "            item = self.stack_2.pop()\n",
    "            self.stack_1.append(item)\n",
    "        return output\n",
    "\n",
    "    def empty(self) -> bool:\n",
    "        return len(self.stack_1) == 0\n",
    "\n",
    "\n",
    "# Your MyQueue object will be instantiated and called as such:\n",
    "# obj = MyQueue()\n",
    "# obj.push(x)\n",
    "# param_2 = obj.pop()\n",
    "# param_3 = obj.peek()\n",
    "# param_4 = obj.empty()"
   ]
  },
  {
   "cell_type": "code",
   "execution_count": 33,
   "id": "ae3ab5c9",
   "metadata": {},
   "outputs": [
    {
     "data": {
      "text/plain": [
       "True"
      ]
     },
     "execution_count": 33,
     "metadata": {},
     "output_type": "execute_result"
    }
   ],
   "source": [
    "directions = [\"MyQueue\", \"push\", \"push\", \"peek\", \"pop\", \"empty\"]\n",
    "my_queue = MyQueue()\n",
    "my_queue.push(1)\n",
    "my_queue.push(2)\n",
    "my_queue.peek()\n",
    "my_queue.pop()\n",
    "my_queue.pop()\n",
    "my_queue.empty()"
   ]
  },
  {
   "cell_type": "code",
   "execution_count": null,
   "id": "560aa5a3",
   "metadata": {},
   "outputs": [],
   "source": [
    "\"\"\"\n",
    "22 / 22 test cases passed.\n",
    "Status: Accepted\n",
    "Runtime: 51 ms\n",
    "Memory Usage: 14.1 MB\n",
    "Notes: My solution was O(n) for pop and peek but you can do better with an amortized O(1) by emptying out stack 1 only \n",
    "when a pop() is needed and stack 2 is empty. Otherwise, stack 2 can just be continually popped until its empty. \n",
    "Very clever.\n",
    "\"\"\""
   ]
  }
 ],
 "metadata": {
  "kernelspec": {
   "display_name": "Python 3 (ipykernel)",
   "language": "python",
   "name": "python3"
  },
  "language_info": {
   "codemirror_mode": {
    "name": "ipython",
    "version": 3
   },
   "file_extension": ".py",
   "mimetype": "text/x-python",
   "name": "python",
   "nbconvert_exporter": "python",
   "pygments_lexer": "ipython3",
   "version": "3.9.9"
  }
 },
 "nbformat": 4,
 "nbformat_minor": 5
}
