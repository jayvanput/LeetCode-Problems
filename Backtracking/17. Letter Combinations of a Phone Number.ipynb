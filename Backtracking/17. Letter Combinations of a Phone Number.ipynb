{
 "cells": [
  {
   "cell_type": "code",
   "execution_count": 37,
   "metadata": {},
   "outputs": [],
   "source": [
    "class Solution:\n",
    "    BUTTONS = {\n",
    "        \"2\":\"abc\",\n",
    "        \"3\":\"def\",\n",
    "        \"4\":\"ghi\",\n",
    "        \"5\":\"jkl\",\n",
    "        \"6\":\"mno\",\n",
    "        \"7\":\"pqrs\",\n",
    "        \"8\":\"tuv\",\n",
    "        \"9\":\"wxyz\"\n",
    "    }\n",
    "    def letterCombinations(self, digits: str) -> list[str]:\n",
    "        if len(digits) == 0:\n",
    "            return []\n",
    "        max_depth = len(digits)\n",
    "        start = [\"\"]\n",
    "        output = self.backtrack(max_depth, 0, digits, start)\n",
    "        return output\n",
    "\n",
    "    def backtrack(self, max_depth, current_depth, digits, current_output):\n",
    "        if current_depth == max_depth:\n",
    "            return current_output\n",
    "        letters = self.BUTTONS[digits[current_depth]]\n",
    "        new_output = []\n",
    "        for letter in letters:\n",
    "            for value in current_output:\n",
    "                new_output.append(value + letter)\n",
    "        return self.backtrack(max_depth, current_depth+1, digits, new_output)\n"
   ]
  },
  {
   "cell_type": "code",
   "execution_count": 38,
   "metadata": {},
   "outputs": [
    {
     "name": "stdout",
     "output_type": "stream",
     "text": [
      "['ad', 'bd', 'cd', 'ae', 'be', 'ce', 'af', 'bf', 'cf']\n"
     ]
    }
   ],
   "source": [
    "digits = \"23\"\n",
    "sol = Solution()\n",
    "print(sol.letterCombinations(digits))"
   ]
  },
  {
   "cell_type": "code",
   "execution_count": null,
   "metadata": {},
   "outputs": [],
   "source": [
    "\"\"\"\n",
    "Runtime30 ms\n",
    "Beats\n",
    "80.88%\n",
    "Memory13.8 MB\n",
    "Notes: Originally was gonna go crazy with recursively building a tree to append the new levels but I felt like that wasn't right.\n",
    "Learned about the concept of \"backtracking\" which is less insane and makes sense. Will need to do more problems to learn the concept.\n",
    "\"\"\""
   ]
  }
 ],
 "metadata": {
  "kernelspec": {
   "display_name": "webapps",
   "language": "python",
   "name": "python3"
  },
  "language_info": {
   "codemirror_mode": {
    "name": "ipython",
    "version": 3
   },
   "file_extension": ".py",
   "mimetype": "text/x-python",
   "name": "python",
   "nbconvert_exporter": "python",
   "pygments_lexer": "ipython3",
   "version": "3.11.1"
  },
  "orig_nbformat": 4,
  "vscode": {
   "interpreter": {
    "hash": "8b9e562a1f76a5948467e158169a887b2175c9af000d18d2164309069a882c35"
   }
  }
 },
 "nbformat": 4,
 "nbformat_minor": 2
}
