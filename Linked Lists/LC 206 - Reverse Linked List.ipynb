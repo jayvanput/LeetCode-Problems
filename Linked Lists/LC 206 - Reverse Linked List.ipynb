{
 "cells": [
  {
   "cell_type": "code",
   "execution_count": 3,
   "id": "97b69ad0",
   "metadata": {},
   "outputs": [],
   "source": [
    "from typing import *"
   ]
  },
  {
   "cell_type": "code",
   "execution_count": 14,
   "id": "7201661c",
   "metadata": {},
   "outputs": [],
   "source": [
    "def list_to_linked_list(lst):\n",
    "    \n",
    "    if not lst:\n",
    "        return ListNode()\n",
    "    head = ListNode(lst[0])\n",
    "    curr = head\n",
    "    for x in lst[1:]:\n",
    "        node = ListNode(x)\n",
    "        curr.next = node\n",
    "        curr = curr.next\n",
    "        \n",
    "    return head"
   ]
  },
  {
   "cell_type": "code",
   "execution_count": 57,
   "id": "74060d50",
   "metadata": {},
   "outputs": [],
   "source": [
    "# Definition for singly-linked list.\n",
    "class ListNode:\n",
    "    def __init__(self, val=0, next=None):\n",
    "        self.val = val\n",
    "        self.next = next\n",
    "        \n",
    "class Solution:\n",
    "    def reverseList(self, head: Optional[ListNode]) -> Optional[ListNode]:\n",
    "        if not head:\n",
    "            return head\n",
    "        \n",
    "        stack = []\n",
    "        curr = head\n",
    "        while curr:\n",
    "            stack.append(ListNode(curr.val))\n",
    "            curr = curr.next\n",
    "        \n",
    "        output = stack.pop()\n",
    "        curr = output\n",
    "        while stack:\n",
    "            curr.next = stack.pop()\n",
    "            curr = curr.next\n",
    "        return output"
   ]
  },
  {
   "cell_type": "code",
   "execution_count": 60,
   "id": "a5ff1cfe",
   "metadata": {},
   "outputs": [],
   "source": [
    "head = list_to_linked_list([1,2,3,4,5])\n",
    "sol = Solution()\n",
    "output = sol.reverseList(head)\n",
    "\n",
    "# head = list_to_linked_list([1,2])\n",
    "# sol = Solution()\n",
    "# sol.reverseList(head)\n",
    "\n",
    "# head = list_to_linked_list([])\n",
    "# sol = Solution()\n",
    "# sol.reverseList(head)"
   ]
  },
  {
   "cell_type": "code",
   "execution_count": null,
   "id": "cc7001f8",
   "metadata": {},
   "outputs": [],
   "source": [
    "\"\"\"\n",
    "28 / 28 test cases passed.\n",
    "Status: Accepted\n",
    "Runtime: 59 ms\n",
    "Memory Usage: 16.1 MB\n",
    "Submitted: 2 minutes ago\n",
    "Notes: \n",
    "\"\"\""
   ]
  }
 ],
 "metadata": {
  "kernelspec": {
   "display_name": "Python 3 (ipykernel)",
   "language": "python",
   "name": "python3"
  },
  "language_info": {
   "codemirror_mode": {
    "name": "ipython",
    "version": 3
   },
   "file_extension": ".py",
   "mimetype": "text/x-python",
   "name": "python",
   "nbconvert_exporter": "python",
   "pygments_lexer": "ipython3",
   "version": "3.9.9"
  }
 },
 "nbformat": 4,
 "nbformat_minor": 5
}
