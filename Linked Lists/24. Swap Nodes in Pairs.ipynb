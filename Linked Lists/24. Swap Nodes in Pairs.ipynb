{
 "cells": [
  {
   "cell_type": "code",
   "execution_count": 2,
   "metadata": {},
   "outputs": [],
   "source": [
    "# Definition for singly-linked list.\n",
    "class ListNode:\n",
    "    def __init__(self, val=0, next=None):\n",
    "        self.val = val\n",
    "        self.next = next\n",
    "class Solution:\n",
    "    def swapPairs(self, head: ListNode|None) -> ListNode|None:\n",
    "        if not head:\n",
    "            return None\n",
    "        curr = head\n",
    "        index = 0\n",
    "        while curr.next:\n",
    "            if index % 2 == 0:\n",
    "                curr.val, curr.next.val = curr.next.val, curr.val\n",
    "            curr = curr.next\n",
    "            index += 1\n",
    "        return head"
   ]
  },
  {
   "cell_type": "code",
   "execution_count": 9,
   "metadata": {},
   "outputs": [],
   "source": [
    "head = ListNode(1)\n",
    "sol = Solution()\n",
    "output = sol.swapPairs(head)"
   ]
  },
  {
   "cell_type": "code",
   "execution_count": 10,
   "metadata": {},
   "outputs": [
    {
     "name": "stdout",
     "output_type": "stream",
     "text": [
      "1\n"
     ]
    }
   ],
   "source": [
    "while output:\n",
    "    print(output.val)\n",
    "    output = output.next"
   ]
  },
  {
   "cell_type": "code",
   "execution_count": null,
   "metadata": {},
   "outputs": [],
   "source": [
    "\"\"\"\n",
    "Runtime37 ms\n",
    "Beats\n",
    "59.13%\n",
    "Memory13.8 MB\n",
    "Notes: Pretty straightforward. To avoid swapping every time we update curr, we just add an index to only do it every other time.\n",
    "\"\"\""
   ]
  }
 ],
 "metadata": {
  "kernelspec": {
   "display_name": "webapps",
   "language": "python",
   "name": "python3"
  },
  "language_info": {
   "codemirror_mode": {
    "name": "ipython",
    "version": 3
   },
   "file_extension": ".py",
   "mimetype": "text/x-python",
   "name": "python",
   "nbconvert_exporter": "python",
   "pygments_lexer": "ipython3",
   "version": "3.11.1"
  },
  "orig_nbformat": 4,
  "vscode": {
   "interpreter": {
    "hash": "8b9e562a1f76a5948467e158169a887b2175c9af000d18d2164309069a882c35"
   }
  }
 },
 "nbformat": 4,
 "nbformat_minor": 2
}
