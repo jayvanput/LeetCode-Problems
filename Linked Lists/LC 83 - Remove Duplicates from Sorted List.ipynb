{
 "cells": [
  {
   "cell_type": "code",
   "execution_count": 1,
   "id": "891e8302",
   "metadata": {},
   "outputs": [],
   "source": [
    "# Definition for singly-linked list.\n",
    "class ListNode:\n",
    "    def __init__(self, val=0, next=None):\n",
    "        self.val = val\n",
    "        self.next = next        "
   ]
  },
  {
   "cell_type": "code",
   "execution_count": 96,
   "id": "d1dd54d0",
   "metadata": {},
   "outputs": [],
   "source": [
    "class Solution:\n",
    "    def deleteDuplicates(self, head):\n",
    "        if head == None:\n",
    "            return head\n",
    "\n",
    "        curr = head\n",
    "        while curr != None:\n",
    "            next_node = curr\n",
    "            \n",
    "            while next_node and next_node.val == curr.val:\n",
    "                next_node = next_node.next\n",
    "            \n",
    "            curr.next = next_node\n",
    "            curr = curr.next\n",
    "\n",
    "        return head\n"
   ]
  },
  {
   "cell_type": "code",
   "execution_count": 97,
   "id": "ccaabf05",
   "metadata": {},
   "outputs": [
    {
     "ename": "KeyboardInterrupt",
     "evalue": "",
     "output_type": "error",
     "traceback": [
      "\u001b[1;31m---------------------------------------------------------------------------\u001b[0m",
      "\u001b[1;31mKeyboardInterrupt\u001b[0m                         Traceback (most recent call last)",
      "Input \u001b[1;32mIn [97]\u001b[0m, in \u001b[0;36m<cell line: 4>\u001b[1;34m()\u001b[0m\n\u001b[0;32m      2\u001b[0m linked_list \u001b[38;5;241m=\u001b[39m list_to_linked_list(lst)\n\u001b[0;32m      3\u001b[0m sol \u001b[38;5;241m=\u001b[39m Solution()\n\u001b[1;32m----> 4\u001b[0m test \u001b[38;5;241m=\u001b[39m \u001b[43msol\u001b[49m\u001b[38;5;241;43m.\u001b[39;49m\u001b[43mdeleteDuplicates\u001b[49m\u001b[43m(\u001b[49m\u001b[43mlinked_list\u001b[49m\u001b[43m)\u001b[49m\n",
      "Input \u001b[1;32mIn [96]\u001b[0m, in \u001b[0;36mSolution.deleteDuplicates\u001b[1;34m(self, head)\u001b[0m\n\u001b[0;32m      7\u001b[0m \u001b[38;5;28;01mwhile\u001b[39;00m curr:\n\u001b[0;32m      8\u001b[0m     next_node \u001b[38;5;241m=\u001b[39m curr\n\u001b[1;32m---> 10\u001b[0m     \u001b[38;5;28;01mwhile\u001b[39;00m \u001b[43mcurr\u001b[49m\u001b[38;5;241;43m.\u001b[39;49m\u001b[43mnext\u001b[49m \u001b[38;5;129;01mand\u001b[39;00m curr\u001b[38;5;241m.\u001b[39mnext\u001b[38;5;241m.\u001b[39mval \u001b[38;5;241m==\u001b[39m curr\u001b[38;5;241m.\u001b[39mval:\n\u001b[0;32m     11\u001b[0m         curr\u001b[38;5;241m.\u001b[39mnext \u001b[38;5;241m=\u001b[39m curr\u001b[38;5;241m.\u001b[39mnext\u001b[38;5;241m.\u001b[39mnext\n\u001b[0;32m     13\u001b[0m \u001b[38;5;28;01mreturn\u001b[39;00m head\n",
      "\u001b[1;31mKeyboardInterrupt\u001b[0m: "
     ]
    }
   ],
   "source": [
    "lst = [1,1,2,3,3,3]\n",
    "linked_list = list_to_linked_list(lst)\n",
    "sol = Solution()\n",
    "test = sol.deleteDuplicates(linked_list)"
   ]
  },
  {
   "cell_type": "code",
   "execution_count": 34,
   "id": "da39b546",
   "metadata": {},
   "outputs": [],
   "source": [
    "def list_to_linked_list(lst):\n",
    "    \n",
    "    if not lst:\n",
    "        raise Exception(\"No List\")\n",
    "    head = ListNode(lst[0])\n",
    "    curr = head\n",
    "    for x in lst[1:]:\n",
    "        node = ListNode(x)\n",
    "        curr.next = node\n",
    "        curr = curr.next\n",
    "        \n",
    "    return head"
   ]
  },
  {
   "cell_type": "code",
   "execution_count": 52,
   "id": "34a32aa3",
   "metadata": {},
   "outputs": [],
   "source": [
    "test = list_to_linked_list([0,1,2])"
   ]
  },
  {
   "cell_type": "code",
   "execution_count": 53,
   "id": "f9026778",
   "metadata": {},
   "outputs": [],
   "source": [
    "curr = test\n",
    "while curr != None:\n",
    "    if curr.next and curr.next.val == 1:\n",
    "        curr.next = curr.next.next\n",
    "    curr = curr.next"
   ]
  },
  {
   "cell_type": "code",
   "execution_count": null,
   "id": "7bf028df",
   "metadata": {},
   "outputs": [],
   "source": []
  }
 ],
 "metadata": {
  "kernelspec": {
   "display_name": "Python 3 (ipykernel)",
   "language": "python",
   "name": "python3"
  },
  "language_info": {
   "codemirror_mode": {
    "name": "ipython",
    "version": 3
   },
   "file_extension": ".py",
   "mimetype": "text/x-python",
   "name": "python",
   "nbconvert_exporter": "python",
   "pygments_lexer": "ipython3",
   "version": "3.9.9"
  }
 },
 "nbformat": 4,
 "nbformat_minor": 5
}
