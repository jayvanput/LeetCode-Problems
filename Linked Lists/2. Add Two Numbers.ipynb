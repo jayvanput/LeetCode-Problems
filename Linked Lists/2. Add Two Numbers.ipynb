{
 "cells": [
  {
   "cell_type": "code",
   "execution_count": 3,
   "metadata": {},
   "outputs": [],
   "source": [
    "from typing import *"
   ]
  },
  {
   "cell_type": "code",
   "execution_count": 89,
   "metadata": {},
   "outputs": [],
   "source": [
    "# Definition for singly-linked list.\n",
    "class ListNode:\n",
    "    def __init__(self, val: int = 0, next: Optional['ListNode'] = None):\n",
    "        self.val = val\n",
    "        self.next = next\n",
    "\n",
    "class Solution:\n",
    "    def addTwoNumbers(self, l1: Optional[ListNode], l2: Optional[ListNode]) -> Optional[ListNode]:\n",
    "\n",
    "        if not l1:\n",
    "            return l2\n",
    "        if not l2:\n",
    "            return l1\n",
    "\n",
    "        def helper(carry, l1_val = 0, l2_val = 0, ):\n",
    "            value = l1_val + l2_val + carry\n",
    "            carry = 0\n",
    "\n",
    "            if value >= 10:\n",
    "                carry = 1\n",
    "                value -= 10\n",
    "            \n",
    "            return value, carry\n",
    "\n",
    "        carry = 0\n",
    "        output = head = ListNode()\n",
    "        \n",
    "        while l1 is not None and l2 is not None:\n",
    "            value, carry = helper(carry, l1.val, l2.val)\n",
    "            \n",
    "            output.next = ListNode(value)\n",
    "\n",
    "            output = output.next\n",
    "            l1 = l1.next\n",
    "            l2 = l2.next\n",
    "\n",
    "        # Handle remaining linked list if uneven lengths.\n",
    "        while l2:\n",
    "            value, carry = helper(carry, l2_val = l2.val)\n",
    "            \n",
    "            output.next = ListNode(value)\n",
    "            output = output.next\n",
    "            l2 = l2.next\n",
    "        while l1:\n",
    "            value, carry = helper(carry, l1_val = l1.val)\n",
    "            \n",
    "            output.next = ListNode(value)\n",
    "            output = output.next\n",
    "            l1 = l1.next\n",
    "        if carry:\n",
    "            output.next = ListNode(carry)\n",
    "        return head.next"
   ]
  },
  {
   "cell_type": "code",
   "execution_count": 90,
   "metadata": {},
   "outputs": [
    {
     "name": "stdout",
     "output_type": "stream",
     "text": [
      "7\n",
      "0\n",
      "8\n"
     ]
    }
   ],
   "source": [
    "l1 = ListNode(2, ListNode(4, ListNode(3)))\n",
    "l2 = ListNode(5, ListNode(6, ListNode(4)))\n",
    "sol = Solution()\n",
    "\n",
    "test = sol.addTwoNumbers(l1, l2)\n",
    "while test:\n",
    "    print(test.val)b\n",
    "    test = test.next"
   ]
  },
  {
   "cell_type": "code",
   "execution_count": null,
   "metadata": {},
   "outputs": [],
   "source": [
    "\"\"\"\n",
    "Runtime132 ms\n",
    "Beats\n",
    "63.8%\n",
    "Memory14.2 MB\n",
    "Notes: Runs in O(n) for whichever linked list is longer. Doesn't seem to be a faster or more elegant solution, just cleaner code doing the same thing.\n",
    "\"\"\""
   ]
  }
 ],
 "metadata": {
  "kernelspec": {
   "display_name": "Python 3.9.9 ('testing')",
   "language": "python",
   "name": "python3"
  },
  "language_info": {
   "codemirror_mode": {
    "name": "ipython",
    "version": 3
   },
   "file_extension": ".py",
   "mimetype": "text/x-python",
   "name": "python",
   "nbconvert_exporter": "python",
   "pygments_lexer": "ipython3",
   "version": "3.9.9"
  },
  "orig_nbformat": 4,
  "vscode": {
   "interpreter": {
    "hash": "fb79f887f98bf1425cfd8e046db197159ed36d1ac9d9565e603c221fb1d3efe4"
   }
  }
 },
 "nbformat": 4,
 "nbformat_minor": 2
}
