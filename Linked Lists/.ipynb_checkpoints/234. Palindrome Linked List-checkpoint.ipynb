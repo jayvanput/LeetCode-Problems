{
 "cells": [
  {
   "cell_type": "code",
   "execution_count": 2,
   "id": "75a7bd22",
   "metadata": {},
   "outputs": [],
   "source": [
    "from typing import *"
   ]
  },
  {
   "cell_type": "code",
   "execution_count": 14,
   "id": "e573f996",
   "metadata": {},
   "outputs": [],
   "source": [
    "# Definition for singly-linked list.\n",
    "class ListNode:\n",
    "    def __init__(self, val=0, next=None):\n",
    "        self.val = val\n",
    "        self.next = next\n",
    "class Solution:\n",
    "    def isPalindrome(self, head: Optional[ListNode]) -> bool:\n",
    "        stack = []\n",
    "        curr = head\n",
    "        while curr != None:\n",
    "            stack.append(curr.val)\n",
    "            curr = curr.next\n",
    "        curr = head\n",
    "        limit = len(stack) // 2\n",
    "        i = 0\n",
    "        while i != limit:\n",
    "            if stack.pop() != curr.val:\n",
    "                return False\n",
    "            curr = curr.next\n",
    "            i += 1\n",
    "        return True"
   ]
  },
  {
   "cell_type": "code",
   "execution_count": 18,
   "id": "46de4be2",
   "metadata": {},
   "outputs": [
    {
     "data": {
      "text/plain": [
       "False"
      ]
     },
     "execution_count": 18,
     "metadata": {},
     "output_type": "execute_result"
    }
   ],
   "source": [
    "ll = ListNode(1, ListNode(2, ListNode(3, ListNode(1))))\n",
    "sol = Solution()\n",
    "sol.isPalindrome(ll)"
   ]
  },
  {
   "cell_type": "code",
   "execution_count": null,
   "id": "e53e2adf",
   "metadata": {},
   "outputs": [],
   "source": [
    "\"\"\"\n",
    "88 / 88 test cases passed.\n",
    "Status: Accepted\n",
    "Runtime: 891 ms\n",
    "Memory Usage: 47 MB\n",
    "Note: Solves in O(n), but optimization to only search half of the stack improves time. This solution is O(n) space but \n",
    "there is a solution to use O(1) space with fast and slow pointers. If slow increases by 1 and fast increases by 2, then\n",
    "slow will be at the half way point when fast hits the trailer. Using slow you can build a new listnode in reverse to compare\n",
    "it to slow when it's at the halfway point. I'm not sure how it's O(1) when the length of rev depends on the length of \n",
    "the original though.\n",
    "\"\"\""
   ]
  }
 ],
 "metadata": {
  "kernelspec": {
   "display_name": "Python 3 (ipykernel)",
   "language": "python",
   "name": "python3"
  },
  "language_info": {
   "codemirror_mode": {
    "name": "ipython",
    "version": 3
   },
   "file_extension": ".py",
   "mimetype": "text/x-python",
   "name": "python",
   "nbconvert_exporter": "python",
   "pygments_lexer": "ipython3",
   "version": "3.9.9"
  }
 },
 "nbformat": 4,
 "nbformat_minor": 5
}
