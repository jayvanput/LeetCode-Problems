{
 "cells": [
  {
   "cell_type": "code",
   "execution_count": 3,
   "id": "cf64e871",
   "metadata": {},
   "outputs": [],
   "source": [
    "from typing import *\n",
    "from ListTree import list_to_tree"
   ]
  },
  {
   "cell_type": "code",
   "execution_count": 46,
   "id": "652c34db",
   "metadata": {},
   "outputs": [],
   "source": [
    "# Definition for a binary tree node.\n",
    "class TreeNode:\n",
    "    def __init__(self, val=0, left=None, right=None):\n",
    "        self.val = val\n",
    "        self.left = left\n",
    "        self.right = right\n",
    "class Solution:\n",
    "    def binaryTreePaths(self, root: Optional[TreeNode]) -> List[str]:\n",
    "        output = []\n",
    "        def helper(root, prev_path, res):\n",
    "            if not root:\n",
    "                return\n",
    "            current_path = prev_path + f\"->{root.val}\"\n",
    "            if root.left:\n",
    "                helper(root.left, current_path, res)\n",
    "            if root.right:\n",
    "                helper(root.right, current_path, res)\n",
    "            if not root.left and not root.right:\n",
    "                res.append(current_path)\n",
    "        if not root.left and not root.right:\n",
    "            return [str(root.val)]\n",
    "        helper(root.left, f\"{root.val}\", output)\n",
    "        helper(root.right, f\"{root.val}\", output)\n",
    "        return output"
   ]
  },
  {
   "cell_type": "code",
   "execution_count": 48,
   "id": "b6199afe",
   "metadata": {},
   "outputs": [
    {
     "name": "stdout",
     "output_type": "stream",
     "text": [
      "['1']\n"
     ]
    }
   ],
   "source": [
    "root = list_to_tree([1])\n",
    "sol = Solution()\n",
    "print(sol.binaryTreePaths(root))"
   ]
  },
  {
   "cell_type": "code",
   "execution_count": null,
   "id": "7996ad8d",
   "metadata": {},
   "outputs": [],
   "source": [
    "\"\"\"\n",
    "208 / 208 test cases passed.\n",
    "Status: Accepted\n",
    "Runtime: 42 ms\n",
    "Memory Usage: 13.8 MB\n",
    "Submitted: 3 minutes ago\n",
    "Notes: Some solutions had the helper function outside of the main function but mine is a nested function. \n",
    "This helps with encapsulation (I will never need to call helper from outside binaryTreePaths) but directly accesses the parent's attribute (output).\n",
    "PEP 20 states \"namespaces are one honking good idea\" so accessing output directly feels wrong. \n",
    "It might be better in the future to pass the parent attribute as an argument to the nested function (already done).\n",
    "\"\"\""
   ]
  }
 ],
 "metadata": {
  "kernelspec": {
   "display_name": "Python 3 (ipykernel)",
   "language": "python",
   "name": "python3"
  },
  "language_info": {
   "codemirror_mode": {
    "name": "ipython",
    "version": 3
   },
   "file_extension": ".py",
   "mimetype": "text/x-python",
   "name": "python",
   "nbconvert_exporter": "python",
   "pygments_lexer": "ipython3",
   "version": "3.9.9"
  }
 },
 "nbformat": 4,
 "nbformat_minor": 5
}
