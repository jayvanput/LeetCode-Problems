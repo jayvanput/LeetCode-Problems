{
 "cells": [
  {
   "cell_type": "code",
   "execution_count": 66,
   "id": "8b10d8f3",
   "metadata": {},
   "outputs": [],
   "source": [
    "# Definition for a binary tree node.\n",
    "class TreeNode(object):\n",
    "    def __init__(self, val=0, left=None, right=None):\n",
    "        self.val = val\n",
    "        self.left = left\n",
    "        self.right = right\n",
    "\n",
    "class Solution(object):\n",
    "    def isSymmetric(self, root):\n",
    "        \"\"\"\n",
    "        :type root: TreeNode\n",
    "        :rtype: bool\n",
    "        \"\"\"\n",
    "        def compare_children(l, r):\n",
    "            if not l and not r:\n",
    "                return True\n",
    "            if not l or not r:\n",
    "                return False\n",
    "            if l.val == r.val:\n",
    "                lst_bool = compare_children(l.left, r.right)\n",
    "                rst_bool = compare_children(l.right, r.left)\n",
    "                return (lst_bool and rst_bool)\n",
    "        \n",
    "        l_subtree = root.left\n",
    "        r_subtree = root.right\n",
    "        \n",
    "        return compare_children(l_subtree, r_subtree)\n",
    "        "
   ]
  },
  {
   "cell_type": "code",
   "execution_count": 67,
   "id": "769889dc",
   "metadata": {},
   "outputs": [
    {
     "name": "stdout",
     "output_type": "stream",
     "text": [
      "True\n",
      "True\n"
     ]
    }
   ],
   "source": [
    "root = TreeNode(1, left=TreeNode(2, left=TreeNode(3), right=TreeNode(4)), right=TreeNode(2, left=TreeNode(4), right=TreeNode(3)))\n",
    "sol = Solution()\n",
    "print(sol.isSymmetric(root) == True)\n",
    "\n",
    "root = TreeNode(1, left=TreeNode(2,right=TreeNode(3)), right=TreeNode(2,right=TreeNode(3)))\n",
    "sol = Solution()\n",
    "print(sol.isSymmetric(root) == False)"
   ]
  },
  {
   "cell_type": "code",
   "execution_count": null,
   "id": "f8da3537",
   "metadata": {},
   "outputs": [],
   "source": [
    "\"\"\"\n",
    "198 / 198 test cases passed.\n",
    "Status: Accepted\n",
    "Runtime: 20 ms\n",
    "Memory Usage: 13.8 MB\n",
    "Submitted: 2 minutes ago\n",
    "Notes: It's all about recursion through the subtrees and returning the combined boolean values.\n",
    "\"\"\""
   ]
  }
 ],
 "metadata": {
  "kernelspec": {
   "display_name": "Python 3 (ipykernel)",
   "language": "python",
   "name": "python3"
  },
  "language_info": {
   "codemirror_mode": {
    "name": "ipython",
    "version": 3
   },
   "file_extension": ".py",
   "mimetype": "text/x-python",
   "name": "python",
   "nbconvert_exporter": "python",
   "pygments_lexer": "ipython3",
   "version": "3.9.9"
  }
 },
 "nbformat": 4,
 "nbformat_minor": 5
}
