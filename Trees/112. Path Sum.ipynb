{
 "cells": [
  {
   "cell_type": "code",
   "execution_count": 2,
   "id": "a96a11e2",
   "metadata": {},
   "outputs": [],
   "source": [
    "from typing import *\n",
    "from ListTree import list_to_tree"
   ]
  },
  {
   "cell_type": "code",
   "execution_count": 27,
   "id": "ad7082d2",
   "metadata": {},
   "outputs": [],
   "source": [
    "# Definition for a binary tree node.\n",
    "class TreeNode:\n",
    "    def __init__(self, val=0, left=None, right=None):\n",
    "        self.val = val\n",
    "        self.left = left\n",
    "        self.right = right\n",
    "        \n",
    "    \n",
    "class Solution:\n",
    "    output = False\n",
    "    def hasPathSum(self, root: Optional[TreeNode], targetSum: int) -> bool:\n",
    "        def getSum(root, prev_sum, target):\n",
    "            curr_sum = prev_sum + root.val\n",
    "            if root.left:\n",
    "                getSum(root.left, curr_sum, target)\n",
    "            if root.right:\n",
    "                getSum(root.right, curr_sum, target)\n",
    "            if not root.left and not root.right:\n",
    "                if curr_sum == target:\n",
    "                    self.output = True\n",
    "        if not root:\n",
    "            return False\n",
    "        getSum(root, 0, targetSum)\n",
    "        return self.output"
   ]
  },
  {
   "cell_type": "code",
   "execution_count": 28,
   "id": "fa1ae556",
   "metadata": {
    "collapsed": true
   },
   "outputs": [
    {
     "ename": "TypeError",
     "evalue": "unsupported operand type(s) for +: 'int' and 'NoneType'",
     "output_type": "error",
     "traceback": [
      "\u001b[1;31m---------------------------------------------------------------------------\u001b[0m",
      "\u001b[1;31mTypeError\u001b[0m                                 Traceback (most recent call last)",
      "Input \u001b[1;32mIn [28]\u001b[0m, in \u001b[0;36m<cell line: 3>\u001b[1;34m()\u001b[0m\n\u001b[0;32m      1\u001b[0m root \u001b[38;5;241m=\u001b[39m list_to_tree([\u001b[38;5;241m5\u001b[39m,\u001b[38;5;241m4\u001b[39m,\u001b[38;5;241m8\u001b[39m,\u001b[38;5;241m11\u001b[39m,\u001b[38;5;28;01mNone\u001b[39;00m,\u001b[38;5;241m13\u001b[39m,\u001b[38;5;241m4\u001b[39m,\u001b[38;5;241m7\u001b[39m,\u001b[38;5;241m2\u001b[39m,\u001b[38;5;28;01mNone\u001b[39;00m,\u001b[38;5;28;01mNone\u001b[39;00m,\u001b[38;5;28;01mNone\u001b[39;00m,\u001b[38;5;241m1\u001b[39m])\n\u001b[0;32m      2\u001b[0m sol \u001b[38;5;241m=\u001b[39m Solution()\n\u001b[1;32m----> 3\u001b[0m \u001b[38;5;28mprint\u001b[39m(\u001b[43msol\u001b[49m\u001b[38;5;241;43m.\u001b[39;49m\u001b[43mhasPathSum\u001b[49m\u001b[43m(\u001b[49m\u001b[43mroot\u001b[49m\u001b[43m,\u001b[49m\u001b[43m \u001b[49m\u001b[38;5;241;43m22\u001b[39;49m\u001b[43m)\u001b[49m)\n",
      "Input \u001b[1;32mIn [27]\u001b[0m, in \u001b[0;36mSolution.hasPathSum\u001b[1;34m(self, root, targetSum)\u001b[0m\n\u001b[0;32m     22\u001b[0m \u001b[38;5;28;01mif\u001b[39;00m \u001b[38;5;129;01mnot\u001b[39;00m root:\n\u001b[0;32m     23\u001b[0m     \u001b[38;5;28;01mreturn\u001b[39;00m \u001b[38;5;28;01mFalse\u001b[39;00m\n\u001b[1;32m---> 24\u001b[0m \u001b[43mgetSum\u001b[49m\u001b[43m(\u001b[49m\u001b[43mroot\u001b[49m\u001b[43m,\u001b[49m\u001b[43m \u001b[49m\u001b[38;5;241;43m0\u001b[39;49m\u001b[43m,\u001b[49m\u001b[43m \u001b[49m\u001b[43mtargetSum\u001b[49m\u001b[43m)\u001b[49m\n\u001b[0;32m     25\u001b[0m \u001b[38;5;28;01mif\u001b[39;00m targetSum \u001b[38;5;129;01min\u001b[39;00m sums:\n\u001b[0;32m     26\u001b[0m     \u001b[38;5;28;01mreturn\u001b[39;00m \u001b[38;5;28;01mTrue\u001b[39;00m\n",
      "Input \u001b[1;32mIn [27]\u001b[0m, in \u001b[0;36mSolution.hasPathSum.<locals>.getSum\u001b[1;34m(root, prev_sum, target)\u001b[0m\n\u001b[0;32m     16\u001b[0m     getSum(root\u001b[38;5;241m.\u001b[39mleft, curr_sum, target)\n\u001b[0;32m     17\u001b[0m \u001b[38;5;28;01mif\u001b[39;00m root\u001b[38;5;241m.\u001b[39mright:\n\u001b[1;32m---> 18\u001b[0m     \u001b[43mgetSum\u001b[49m\u001b[43m(\u001b[49m\u001b[43mroot\u001b[49m\u001b[38;5;241;43m.\u001b[39;49m\u001b[43mright\u001b[49m\u001b[43m,\u001b[49m\u001b[43m \u001b[49m\u001b[43mcurr_sum\u001b[49m\u001b[43m,\u001b[49m\u001b[43m \u001b[49m\u001b[43mtarget\u001b[49m\u001b[43m)\u001b[49m\n\u001b[0;32m     19\u001b[0m \u001b[38;5;28;01mif\u001b[39;00m \u001b[38;5;129;01mnot\u001b[39;00m root\u001b[38;5;241m.\u001b[39mleft \u001b[38;5;129;01mand\u001b[39;00m \u001b[38;5;129;01mnot\u001b[39;00m root\u001b[38;5;241m.\u001b[39mright:\n\u001b[0;32m     20\u001b[0m     \u001b[38;5;28;01mif\u001b[39;00m curr_sum \u001b[38;5;241m==\u001b[39m target:\n",
      "Input \u001b[1;32mIn [27]\u001b[0m, in \u001b[0;36mSolution.hasPathSum.<locals>.getSum\u001b[1;34m(root, prev_sum, target)\u001b[0m\n\u001b[0;32m     14\u001b[0m curr_sum \u001b[38;5;241m=\u001b[39m prev_sum \u001b[38;5;241m+\u001b[39m root\u001b[38;5;241m.\u001b[39mval\n\u001b[0;32m     15\u001b[0m \u001b[38;5;28;01mif\u001b[39;00m root\u001b[38;5;241m.\u001b[39mleft:\n\u001b[1;32m---> 16\u001b[0m     \u001b[43mgetSum\u001b[49m\u001b[43m(\u001b[49m\u001b[43mroot\u001b[49m\u001b[38;5;241;43m.\u001b[39;49m\u001b[43mleft\u001b[49m\u001b[43m,\u001b[49m\u001b[43m \u001b[49m\u001b[43mcurr_sum\u001b[49m\u001b[43m,\u001b[49m\u001b[43m \u001b[49m\u001b[43mtarget\u001b[49m\u001b[43m)\u001b[49m\n\u001b[0;32m     17\u001b[0m \u001b[38;5;28;01mif\u001b[39;00m root\u001b[38;5;241m.\u001b[39mright:\n\u001b[0;32m     18\u001b[0m     getSum(root\u001b[38;5;241m.\u001b[39mright, curr_sum, target)\n",
      "Input \u001b[1;32mIn [27]\u001b[0m, in \u001b[0;36mSolution.hasPathSum.<locals>.getSum\u001b[1;34m(root, prev_sum, target)\u001b[0m\n\u001b[0;32m     14\u001b[0m curr_sum \u001b[38;5;241m=\u001b[39m prev_sum \u001b[38;5;241m+\u001b[39m root\u001b[38;5;241m.\u001b[39mval\n\u001b[0;32m     15\u001b[0m \u001b[38;5;28;01mif\u001b[39;00m root\u001b[38;5;241m.\u001b[39mleft:\n\u001b[1;32m---> 16\u001b[0m     \u001b[43mgetSum\u001b[49m\u001b[43m(\u001b[49m\u001b[43mroot\u001b[49m\u001b[38;5;241;43m.\u001b[39;49m\u001b[43mleft\u001b[49m\u001b[43m,\u001b[49m\u001b[43m \u001b[49m\u001b[43mcurr_sum\u001b[49m\u001b[43m,\u001b[49m\u001b[43m \u001b[49m\u001b[43mtarget\u001b[49m\u001b[43m)\u001b[49m\n\u001b[0;32m     17\u001b[0m \u001b[38;5;28;01mif\u001b[39;00m root\u001b[38;5;241m.\u001b[39mright:\n\u001b[0;32m     18\u001b[0m     getSum(root\u001b[38;5;241m.\u001b[39mright, curr_sum, target)\n",
      "Input \u001b[1;32mIn [27]\u001b[0m, in \u001b[0;36mSolution.hasPathSum.<locals>.getSum\u001b[1;34m(root, prev_sum, target)\u001b[0m\n\u001b[0;32m     13\u001b[0m \u001b[38;5;28;01mdef\u001b[39;00m \u001b[38;5;21mgetSum\u001b[39m(root, prev_sum, target):\n\u001b[1;32m---> 14\u001b[0m     curr_sum \u001b[38;5;241m=\u001b[39m \u001b[43mprev_sum\u001b[49m\u001b[43m \u001b[49m\u001b[38;5;241;43m+\u001b[39;49m\u001b[43m \u001b[49m\u001b[43mroot\u001b[49m\u001b[38;5;241;43m.\u001b[39;49m\u001b[43mval\u001b[49m\n\u001b[0;32m     15\u001b[0m     \u001b[38;5;28;01mif\u001b[39;00m root\u001b[38;5;241m.\u001b[39mleft:\n\u001b[0;32m     16\u001b[0m         getSum(root\u001b[38;5;241m.\u001b[39mleft, curr_sum, target)\n",
      "\u001b[1;31mTypeError\u001b[0m: unsupported operand type(s) for +: 'int' and 'NoneType'"
     ]
    }
   ],
   "source": [
    "root = list_to_tree([5,4,8,11,None,13,4,7,2,None,None,None,1])\n",
    "sol = Solution()\n",
    "print(sol.hasPathSum(root, 22))"
   ]
  },
  {
   "cell_type": "code",
   "execution_count": 30,
   "id": "15e6ef62",
   "metadata": {},
   "outputs": [],
   "source": [
    "root.right.left.left.val"
   ]
  },
  {
   "cell_type": "code",
   "execution_count": null,
   "id": "2ff7bd68",
   "metadata": {},
   "outputs": [],
   "source": [
    "\"\"\"\n",
    "117 / 117 test cases passed.\n",
    "Status: Accepted\n",
    "Runtime: 56 ms\n",
    "Memory Usage: 15.1 MB\n",
    "Submitted: 2 minutes ago\n",
    "Notes: More elegant answers exist but this one makes the most intuitive sense to me.\n",
    "\"\"\""
   ]
  }
 ],
 "metadata": {
  "kernelspec": {
   "display_name": "Python 3 (ipykernel)",
   "language": "python",
   "name": "python3"
  },
  "language_info": {
   "codemirror_mode": {
    "name": "ipython",
    "version": 3
   },
   "file_extension": ".py",
   "mimetype": "text/x-python",
   "name": "python",
   "nbconvert_exporter": "python",
   "pygments_lexer": "ipython3",
   "version": "3.9.9"
  }
 },
 "nbformat": 4,
 "nbformat_minor": 5
}
