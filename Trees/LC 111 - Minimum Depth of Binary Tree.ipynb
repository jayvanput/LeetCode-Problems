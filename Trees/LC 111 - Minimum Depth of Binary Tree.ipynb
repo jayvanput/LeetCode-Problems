{
 "cells": [
  {
   "cell_type": "code",
   "execution_count": 6,
   "id": "856d5dae",
   "metadata": {},
   "outputs": [],
   "source": [
    "from typing import *\n",
    "from collections import deque"
   ]
  },
  {
   "cell_type": "code",
   "execution_count": 60,
   "id": "a1773526",
   "metadata": {},
   "outputs": [],
   "source": [
    "# Definition for a binary tree node.\n",
    "class TreeNode:\n",
    "    def __init__(self, val=0, left=None, right=None):\n",
    "        self.val = val\n",
    "        self.left = left\n",
    "        self.right = right\n",
    "class Solution:\n",
    "    def minDepth(self, root: Optional[TreeNode]) -> int:\n",
    "        if not root:\n",
    "            return 0\n",
    "        queue = deque([(root, 1)])\n",
    "        while deque:\n",
    "            node, depth = queue.popleft()\n",
    "            if not node.left and not node.right:\n",
    "                return depth\n",
    "            else:\n",
    "                if node.left:\n",
    "                    queue.append((node.left, depth+1))\n",
    "                if node.right:\n",
    "                    queue.append((node.right, depth+1))\n",
    "        "
   ]
  },
  {
   "cell_type": "code",
   "execution_count": 61,
   "id": "ee7ab89a",
   "metadata": {},
   "outputs": [
    {
     "name": "stdout",
     "output_type": "stream",
     "text": [
      "True\n"
     ]
    }
   ],
   "source": [
    "root = TreeNode(3, left=TreeNode(9), right=TreeNode(20, left=TreeNode(15), right=TreeNode(7)))\n",
    "sol = Solution()\n",
    "print(sol.minDepth(root) == 2)\n"
   ]
  },
  {
   "cell_type": "code",
   "execution_count": null,
   "id": "324d2988",
   "metadata": {},
   "outputs": [],
   "source": [
    "\"\"\"\n",
    "52 / 52 test cases passed.\n",
    "Status: Accepted\n",
    "Runtime: 654 ms\n",
    "Memory Usage: 49.5 MB\n",
    "Notes: We want BFS here since that will find shallower nodes first. \n",
    "\"\"\""
   ]
  }
 ],
 "metadata": {
  "kernelspec": {
   "display_name": "Python 3 (ipykernel)",
   "language": "python",
   "name": "python3"
  },
  "language_info": {
   "codemirror_mode": {
    "name": "ipython",
    "version": 3
   },
   "file_extension": ".py",
   "mimetype": "text/x-python",
   "name": "python",
   "nbconvert_exporter": "python",
   "pygments_lexer": "ipython3",
   "version": "3.9.9"
  }
 },
 "nbformat": 4,
 "nbformat_minor": 5
}
