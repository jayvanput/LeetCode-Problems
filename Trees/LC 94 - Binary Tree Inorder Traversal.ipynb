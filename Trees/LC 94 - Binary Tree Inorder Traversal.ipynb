{
 "cells": [
  {
   "cell_type": "code",
   "execution_count": 1,
   "id": "1ba06305",
   "metadata": {},
   "outputs": [],
   "source": [
    "from typing import *"
   ]
  },
  {
   "cell_type": "code",
   "execution_count": 70,
   "id": "ec6371e8",
   "metadata": {},
   "outputs": [],
   "source": [
    "# Definition for a binary tree node.\n",
    "class TreeNode(object):\n",
    "    def __init__(self, val=0, left=None, right=None):\n",
    "        self.val = val\n",
    "        self.left = left\n",
    "        self.right = right\n",
    "        \n",
    "class Solution(object):\n",
    "    def inorderTraversal(self, root):\n",
    "        \"\"\"\n",
    "        :type root: TreeNode\n",
    "        :rtype: List[int]\n",
    "        \"\"\"\n",
    "        output = []\n",
    "        current = root\n",
    "        # If no left or right, return nothing.\n",
    "        if not current:\n",
    "            return [None]\n",
    "        # Check if there's a right subtree. If so, get the whole output of the subtree and extend it to this current (sub)tree.\n",
    "        output.extend(self.inorderTraversal(current.left))\n",
    "        # Check the current node\n",
    "        output.append(current.val)\n",
    "        # Check if there's a right subtree. If so, get the whole output of the subtree and extend it to this current (sub)tree.\n",
    "        output.extend(self.inorderTraversal(current.right))\n",
    "        return output"
   ]
  },
  {
   "cell_type": "code",
   "execution_count": 71,
   "id": "7b260b1d",
   "metadata": {},
   "outputs": [
    {
     "data": {
      "text/plain": [
       "[None, 1, None, 3, None, 2, None]"
      ]
     },
     "execution_count": 71,
     "metadata": {},
     "output_type": "execute_result"
    }
   ],
   "source": [
    "tree = tree1\n",
    "\n",
    "sol = Solution()\n",
    "sol.inorderTraversal(tree)"
   ]
  },
  {
   "cell_type": "code",
   "execution_count": 42,
   "id": "e79ee51c",
   "metadata": {},
   "outputs": [],
   "source": [
    "r_subtree = TreeNode(val=2,left=TreeNode(3))\n",
    "tree1 = TreeNode(val=1,right=r_subtree)"
   ]
  },
  {
   "cell_type": "code",
   "execution_count": null,
   "id": "5486f573",
   "metadata": {},
   "outputs": [],
   "source": [
    "\"\"\"\n",
    "70 / 70 test cases passed.\n",
    "Status: Accepted\n",
    "Runtime: 25 ms\n",
    "Memory Usage: 13.4 MB\n",
    "Submitted: 0 minutes ago\n",
    "Notes: Our exit condition for the recursive solution is to return an empty list that can be extended to the parent's own output.\n",
    "\"\"\""
   ]
  }
 ],
 "metadata": {
  "kernelspec": {
   "display_name": "Python 3 (ipykernel)",
   "language": "python",
   "name": "python3"
  },
  "language_info": {
   "codemirror_mode": {
    "name": "ipython",
    "version": 3
   },
   "file_extension": ".py",
   "mimetype": "text/x-python",
   "name": "python",
   "nbconvert_exporter": "python",
   "pygments_lexer": "ipython3",
   "version": "3.9.9"
  }
 },
 "nbformat": 4,
 "nbformat_minor": 5
}
