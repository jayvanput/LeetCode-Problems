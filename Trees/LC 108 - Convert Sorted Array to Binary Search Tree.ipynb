{
 "cells": [
  {
   "cell_type": "code",
   "execution_count": 40,
   "id": "7fadcaaf",
   "metadata": {},
   "outputs": [],
   "source": [
    "# Definition for a binary tree node.\n",
    "class TreeNode(object):\n",
    "    def __init__(self, val=0, left=None, right=None):\n",
    "        self.val = val\n",
    "        self.left = left\n",
    "        self.right = right\n",
    "        \n",
    "class Solution(object):\n",
    "    def sortedArrayToBST(self, nums):\n",
    "        \"\"\"\n",
    "        :type nums: List[int]\n",
    "        :rtype: TreeNode\n",
    "        \"\"\"    \n",
    "        \n",
    "        # Gets the mid-index of the array. Right of mid for even length arrays.\n",
    "        root_idx = len(nums)//2\n",
    "        root_value = nums[root_idx]\n",
    "        root_node = TreeNode(root_value)\n",
    "        \n",
    "        def build_children(root, nums):\n",
    "            mid = (len(nums)) // 2\n",
    "            \n",
    "            left_sub_array = nums[:mid]\n",
    "            right_sub_array = nums[mid + 1:]\n",
    "            \n",
    "            if len(left_sub_array) > 1:\n",
    "                mid_of_left_sub_array = left_sub_array[len(left_sub_array) // 2]\n",
    "                left_child_node = TreeNode(mid_of_left_sub_array)\n",
    "                \n",
    "                root.left = build_children(left_child_node, left_sub_array)\n",
    "            elif len(left_sub_array) == 1:\n",
    "                root.left = TreeNode(left_sub_array[0])\n",
    "                \n",
    "            if len(right_sub_array) > 1:\n",
    "                mid_of_right_sub_array =right_sub_array[len(right_sub_array) // 2]\n",
    "                right_child_node = TreeNode(mid_of_right_sub_array)\n",
    "            \n",
    "                root.right = build_children(right_child_node, right_sub_array)\n",
    "            elif len(right_sub_array) == 1:\n",
    "                root.right = TreeNode(right_sub_array[0])\n",
    "                \n",
    "            return root\n",
    "        \n",
    "        return build_children(root_node, nums)\n",
    "        "
   ]
  },
  {
   "cell_type": "code",
   "execution_count": 41,
   "id": "a8693e09",
   "metadata": {},
   "outputs": [],
   "source": [
    "nums = [-10,-3,0,5,9]\n",
    "sol = Solution()\n",
    "tree = sol.sortedArrayToBST(nums)"
   ]
  },
  {
   "cell_type": "code",
   "execution_count": null,
   "id": "24a8cc8f",
   "metadata": {},
   "outputs": [],
   "source": [
    "\"\"\"\n",
    "31 / 31 test cases passed.\n",
    "Status: Accepted\n",
    "Runtime: 123 ms\n",
    "Memory Usage: 16.2 MB\n",
    "Submitted: 0 minutes ago\n",
    "Notes: Surprised I got this one tbh. Uses the same idea as binary search where you replace the mid value as the high or low\n",
    "of the next iteration. Lots of fiddling with the edge case (Always EXCLUDE the current mid I guess). Base condition is \n",
    "when it's a list of len 1, just return a node of that value. If the len is empty, don't return anything\n",
    "\"\"\""
   ]
  }
 ],
 "metadata": {
  "kernelspec": {
   "display_name": "Python 3 (ipykernel)",
   "language": "python",
   "name": "python3"
  },
  "language_info": {
   "codemirror_mode": {
    "name": "ipython",
    "version": 3
   },
   "file_extension": ".py",
   "mimetype": "text/x-python",
   "name": "python",
   "nbconvert_exporter": "python",
   "pygments_lexer": "ipython3",
   "version": "3.9.9"
  }
 },
 "nbformat": 4,
 "nbformat_minor": 5
}
