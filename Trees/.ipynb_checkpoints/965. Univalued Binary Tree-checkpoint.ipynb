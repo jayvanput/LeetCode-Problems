{
 "cells": [
  {
   "cell_type": "code",
   "execution_count": 2,
   "id": "48c3311f",
   "metadata": {},
   "outputs": [],
   "source": [
    "from typing import *\n",
    "from ListTree import list_to_tree"
   ]
  },
  {
   "cell_type": "code",
   "execution_count": 7,
   "id": "7530b8a3",
   "metadata": {},
   "outputs": [],
   "source": [
    "# Definition for a binary tree node.\n",
    "class TreeNode:\n",
    "    def __init__(self, val=0, left=None, right=None):\n",
    "        self.val = val\n",
    "        self.left = left\n",
    "        self.right = right\n",
    "class Solution:\n",
    "    output = True\n",
    "    def isUnivalTree(self, root: Optional[TreeNode]) -> bool:\n",
    "        def is_unival_tree_rec(root, value):\n",
    "            if root.left:\n",
    "                is_unival_tree_rec(root.left, value)\n",
    "            if root.right:\n",
    "                is_unival_tree_rec(root.right, value)\n",
    "            if root.val != value:\n",
    "                self.output = False\n",
    "        \n",
    "        is_unival_tree_rec(root, root.val)\n",
    "        \n",
    "        return self.output\n",
    "    \n",
    "    def isUnivalTreeAlt(self, root):\n",
    "        if not root:\n",
    "            return True\n",
    "        \n",
    "        if root.right:\n",
    "            if root.val != root.right.val:\n",
    "                return False\n",
    "            \n",
    "        if root.left:\n",
    "            if root.val != root.left.val:\n",
    "                return False\n",
    "            \n",
    "        return self.isUnivalTreeAlt(root.left) and self.isUnivalTreeAlt(root.right)"
   ]
  },
  {
   "cell_type": "code",
   "execution_count": 8,
   "id": "5991079d",
   "metadata": {},
   "outputs": [
    {
     "data": {
      "text/plain": [
       "False"
      ]
     },
     "execution_count": 8,
     "metadata": {},
     "output_type": "execute_result"
    }
   ],
   "source": [
    "root = list_to_tree([1,1,1,1,1,None,1])\n",
    "sol = Solution()\n",
    "sol.isUnivalTreeAlt(root)"
   ]
  },
  {
   "cell_type": "code",
   "execution_count": null,
   "id": "ddee76c9",
   "metadata": {},
   "outputs": [],
   "source": [
    "\"\"\"\n",
    "72 / 72 test cases passed.\n",
    "Status: Accepted\n",
    "Runtime: 42 ms\n",
    "Memory Usage: 14 MB\n",
    "Submitted: 4 minutes ago\n",
    "Notes: Nothing special. I want to get better at identifying solutions that don't have inner functions.\n",
    "\"\"\""
   ]
  }
 ],
 "metadata": {
  "kernelspec": {
   "display_name": "Python 3 (ipykernel)",
   "language": "python",
   "name": "python3"
  },
  "language_info": {
   "codemirror_mode": {
    "name": "ipython",
    "version": 3
   },
   "file_extension": ".py",
   "mimetype": "text/x-python",
   "name": "python",
   "nbconvert_exporter": "python",
   "pygments_lexer": "ipython3",
   "version": "3.9.9"
  }
 },
 "nbformat": 4,
 "nbformat_minor": 5
}
