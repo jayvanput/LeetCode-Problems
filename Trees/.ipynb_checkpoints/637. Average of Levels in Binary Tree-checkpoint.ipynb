{
 "cells": [
  {
   "cell_type": "code",
   "execution_count": 1,
   "id": "fe45ed29",
   "metadata": {},
   "outputs": [],
   "source": [
    "from typing import *\n",
    "from ListTree import list_to_tree"
   ]
  },
  {
   "cell_type": "code",
   "execution_count": 43,
   "id": "6c7748d4",
   "metadata": {},
   "outputs": [],
   "source": [
    "# Definition for a binary tree node.\n",
    "class TreeNode:\n",
    "    def __init__(self, val=0, left=None, right=None):\n",
    "        self.val = val\n",
    "        self.left = left\n",
    "        self.right = right\n",
    "class Solution:\n",
    "    def averageOfLevels(self, root: Optional[TreeNode]) -> List[float]:\n",
    "        def avg_of_levels(root, curr_depth):\n",
    "            if not root:\n",
    "                return\n",
    "            if not curr_depth in levels.keys():\n",
    "                levels[curr_depth] = [root.val]\n",
    "            else:\n",
    "                levels[curr_depth].append(root.val)\n",
    "                \n",
    "            avg_of_levels(root.left, curr_depth+1)\n",
    "            avg_of_levels(root.right, curr_depth+1)\n",
    "        \n",
    "        levels = {}\n",
    "        avg_of_levels(root, 0)\n",
    "        output = [sum(levels[x]) / len(levels[x]) for x in range(max(levels.keys()) + 1)]\n",
    "\n",
    "        return output"
   ]
  },
  {
   "cell_type": "code",
   "execution_count": 44,
   "id": "016c5317",
   "metadata": {},
   "outputs": [
    {
     "data": {
      "text/plain": [
       "[1.0, 1.0]"
      ]
     },
     "execution_count": 44,
     "metadata": {},
     "output_type": "execute_result"
    }
   ],
   "source": [
    "root = list_to_tree([1,1])\n",
    "sol = Solution()\n",
    "sol.averageOfLevels(root)"
   ]
  },
  {
   "cell_type": "code",
   "execution_count": 45,
   "id": "d3830aee",
   "metadata": {},
   "outputs": [
    {
     "data": {
      "text/plain": [
       "'\\n66 / 66 test cases passed.\\nStatus: Accepted\\nRuntime: 73 ms\\nMemory Usage: 17.2 MB\\nSubmitted: 0 minutes ago\\nNotes:\\n'"
      ]
     },
     "execution_count": 45,
     "metadata": {},
     "output_type": "execute_result"
    }
   ],
   "source": [
    "\"\"\"\n",
    "66 / 66 test cases passed.\n",
    "Status: Accepted\n",
    "Runtime: 73 ms\n",
    "Memory Usage: 17.2 MB\n",
    "Submitted: 0 minutes ago\n",
    "Notes: Recursive solution using a dictionary. Seems to be the consensus on the forums which is nice validation. \n",
    "\"\"\""
   ]
  },
  {
   "cell_type": "code",
   "execution_count": null,
   "id": "8bd34c2e",
   "metadata": {},
   "outputs": [],
   "source": []
  }
 ],
 "metadata": {
  "kernelspec": {
   "display_name": "Python 3 (ipykernel)",
   "language": "python",
   "name": "python3"
  },
  "language_info": {
   "codemirror_mode": {
    "name": "ipython",
    "version": 3
   },
   "file_extension": ".py",
   "mimetype": "text/x-python",
   "name": "python",
   "nbconvert_exporter": "python",
   "pygments_lexer": "ipython3",
   "version": "3.9.9"
  }
 },
 "nbformat": 4,
 "nbformat_minor": 5
}
