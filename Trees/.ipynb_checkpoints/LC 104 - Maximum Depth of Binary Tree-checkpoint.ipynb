{
 "cells": [
  {
   "cell_type": "code",
   "execution_count": 12,
   "id": "8e9f8410",
   "metadata": {},
   "outputs": [],
   "source": [
    "# Definition for a binary tree node.\n",
    "class TreeNode(object):\n",
    "    def __init__(self, val=0, left=None, right=None):\n",
    "        self.val = val\n",
    "        self.left = left\n",
    "        self.right = right\n",
    "        \n",
    "class Solution(object):\n",
    "    def maxDepth(self, root):\n",
    "        \"\"\"\n",
    "        :type root: TreeNode\n",
    "        :rtype: int\n",
    "        \"\"\"\n",
    "        if not root.left and not root.right:\n",
    "            return 1\n",
    "        else:\n",
    "            left_depth = self.maxDepth(root.left)\n",
    "            right_depth = self.maxDepth(root.right)\n",
    "            return 1 + max(left_depth, right_depth)\n",
    "        "
   ]
  },
  {
   "cell_type": "code",
   "execution_count": 13,
   "id": "6b4057ba",
   "metadata": {},
   "outputs": [
    {
     "data": {
      "text/plain": [
       "3"
      ]
     },
     "execution_count": 13,
     "metadata": {},
     "output_type": "execute_result"
    }
   ],
   "source": [
    "root = TreeNode(3,left=TreeNode(9),right=TreeNode(20, left=TreeNode(15),right=TreeNode(7)))\n",
    "sol = Solution()\n",
    "sol.maxDepth(root)"
   ]
  },
  {
   "cell_type": "code",
   "execution_count": null,
   "id": "0ccbcfe8",
   "metadata": {},
   "outputs": [],
   "source": [
    "\"\"\"\n",
    "39 / 39 test cases passed.\n",
    "Status: Accepted\n",
    "Runtime: 28 ms\n",
    "Memory Usage: 16.1 MB\n",
    "Submitted: 0 minutes ago\n",
    "Notes: Simple recursive depth of tree. If it's a left (no left or right), return 0. Otherwise +1 of max of children.\n",
    "\"\"\""
   ]
  }
 ],
 "metadata": {
  "kernelspec": {
   "display_name": "Python 3 (ipykernel)",
   "language": "python",
   "name": "python3"
  },
  "language_info": {
   "codemirror_mode": {
    "name": "ipython",
    "version": 3
   },
   "file_extension": ".py",
   "mimetype": "text/x-python",
   "name": "python",
   "nbconvert_exporter": "python",
   "pygments_lexer": "ipython3",
   "version": "3.9.9"
  }
 },
 "nbformat": 4,
 "nbformat_minor": 5
}
