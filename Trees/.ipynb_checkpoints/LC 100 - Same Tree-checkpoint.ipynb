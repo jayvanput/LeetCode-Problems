{
 "cells": [
  {
   "cell_type": "code",
   "execution_count": 8,
   "id": "f5aedb36",
   "metadata": {},
   "outputs": [],
   "source": [
    "from typing import *"
   ]
  },
  {
   "cell_type": "code",
   "execution_count": 94,
   "id": "7f90568e",
   "metadata": {},
   "outputs": [],
   "source": [
    "# Definition for a binary tree node.\n",
    "class TreeNode(object):\n",
    "    def __init__(self, val=0, left=None, right=None):\n",
    "        self.val = val\n",
    "        self.left = left\n",
    "        self.right = right\n",
    "        \n",
    "class Solution(object):\n",
    "    def isSameTree(self, p, q):\n",
    "        if not p and not q:\n",
    "            return True\n",
    "        if p and q:\n",
    "            return (p.val == q.val and self.isSameTree(p.left, q.left) and self.isSameTree(p.right, q.right))\n",
    "        return False"
   ]
  },
  {
   "cell_type": "code",
   "execution_count": 95,
   "id": "14444fce",
   "metadata": {},
   "outputs": [
    {
     "name": "stdout",
     "output_type": "stream",
     "text": [
      "True\n",
      "True\n",
      "True\n",
      "True\n"
     ]
    }
   ],
   "source": [
    "p = TreeNode(1, left=TreeNode(2),right=TreeNode(3))\n",
    "q = TreeNode(1, left=TreeNode(2),right=TreeNode(3))\n",
    "sol = Solution()\n",
    "print(sol.isSameTree(p,q) == True)\n",
    "\n",
    "p = TreeNode(1, left=TreeNode(2))\n",
    "q = TreeNode(1, right=TreeNode(2))\n",
    "sol = Solution()\n",
    "print(sol.isSameTree(p,q) == False)\n",
    "\n",
    "p = TreeNode(1, left=TreeNode(2), right=TreeNode(1))\n",
    "q = TreeNode(1, left=TreeNode(1), right=TreeNode(2))\n",
    "sol = Solution()\n",
    "print(sol.isSameTree(p,q) == False)\n",
    "\n",
    "p = TreeNode(1, left=TreeNode(1))\n",
    "q = TreeNode(1, right=TreeNode(1))\n",
    "sol = Solution()\n",
    "print(sol.isSameTree(p,q) == False)"
   ]
  },
  {
   "cell_type": "code",
   "execution_count": null,
   "id": "2a435548",
   "metadata": {},
   "outputs": [],
   "source": [
    "\"\"\"\n",
    "60 / 60 test cases passed.\n",
    "Status: Accepted\n",
    "Runtime: 29 ms\n",
    "Memory Usage: 13.6 MB\n",
    "Submitted: 0 minutes ago\n",
    "Notes: Inorder traversal doesn't work on \"mirrored\" trees since they are represented the same. Recursively compare each node and then subtrees. Base condition is if neither node exists (child of leaf node) then return True.\n",
    "\"\"\""
   ]
  }
 ],
 "metadata": {
  "kernelspec": {
   "display_name": "Python 3 (ipykernel)",
   "language": "python",
   "name": "python3"
  },
  "language_info": {
   "codemirror_mode": {
    "name": "ipython",
    "version": 3
   },
   "file_extension": ".py",
   "mimetype": "text/x-python",
   "name": "python",
   "nbconvert_exporter": "python",
   "pygments_lexer": "ipython3",
   "version": "3.9.9"
  }
 },
 "nbformat": 4,
 "nbformat_minor": 5
}
