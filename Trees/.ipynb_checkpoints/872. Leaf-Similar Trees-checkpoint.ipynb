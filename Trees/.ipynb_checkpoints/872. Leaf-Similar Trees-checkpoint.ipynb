{
 "cells": [
  {
   "cell_type": "code",
   "execution_count": 7,
   "id": "8966ab7a",
   "metadata": {},
   "outputs": [],
   "source": [
    "from typing import *\n",
    "from ListTree import list_to_tree"
   ]
  },
  {
   "cell_type": "code",
   "execution_count": 8,
   "id": "97ba098c",
   "metadata": {},
   "outputs": [],
   "source": [
    "# Definition for a binary tree node.\n",
    "class TreeNode:\n",
    "    def __init__(self, val=0, left=None, right=None):\n",
    "        self.val = val\n",
    "        self.left = left\n",
    "        self.right = right\n",
    "class Solution:\n",
    "    def leafSimilar(self, root1: Optional[TreeNode], root2: Optional[TreeNode]) -> bool:\n",
    "        root1_leaves = []\n",
    "        root2_leaves = []\n",
    "        \n",
    "        def add_root(root, leaves_list):\n",
    "            if root and not root.left and not root.right:\n",
    "                leaves_list.append(root.val)\n",
    "            if root.left:\n",
    "                add_root(root.left, leaves_list)\n",
    "            if root.right:\n",
    "                add_root(root.right, leaves_list)\n",
    "        \n",
    "        add_root(root1, root1_leaves)\n",
    "        add_root(root2, root2_leaves)\n",
    "        \n",
    "        return root1_leaves == root2_leaves\n",
    "    \n",
    "    def leafSimilarGenerator(self, root1: Optional[TreeNode], root2: Optional[TreeNode]) -> bool:\n",
    "        def add_root(root):\n",
    "            if root:\n",
    "                if not root.left and not root.right:\n",
    "                    yield root.val\n",
    "                yield from add_root(root.left)\n",
    "                \n",
    "                yield from add_root(root.right)\n",
    "                \n",
    "        return list(add_root(root1)) == list(add_root(root2))"
   ]
  },
  {
   "cell_type": "code",
   "execution_count": 9,
   "id": "185db87e",
   "metadata": {},
   "outputs": [
    {
     "data": {
      "text/plain": [
       "False"
      ]
     },
     "execution_count": 9,
     "metadata": {},
     "output_type": "execute_result"
    }
   ],
   "source": [
    "root1 = list_to_tree([3,5,1,6,2,9,8,None,None,7,4])\n",
    "root2 = list_to_tree([3,5,1,6,7,4,2,None,None,None,None,None,None,9,8])\n",
    "sol = Solution()\n",
    "sol.leafSimilarGenerator(root1, root2)"
   ]
  },
  {
   "cell_type": "code",
   "execution_count": null,
   "id": "beacc210",
   "metadata": {},
   "outputs": [],
   "source": [
    "\"\"\"\n",
    "40 / 40 test cases passed.\n",
    "Status: Accepted\n",
    "Runtime: 35 ms\n",
    "Memory Usage: 13.9 MB\n",
    "Submitted: 3 minutes ago\n",
    "Notes: Need to use a help function to hoist the values to the lists. \n",
    "I also like the approach of using a generator to yield each result into a list. This requires \"yield from\" which allows us \n",
    "to recursively call the generator (each call to add_root is its own generator and we want it to continue the operation into the parent).\n",
    "This is more succinct and cleaner IMO.\n",
    "\"\"\""
   ]
  }
 ],
 "metadata": {
  "kernelspec": {
   "display_name": "Python 3 (ipykernel)",
   "language": "python",
   "name": "python3"
  },
  "language_info": {
   "codemirror_mode": {
    "name": "ipython",
    "version": 3
   },
   "file_extension": ".py",
   "mimetype": "text/x-python",
   "name": "python",
   "nbconvert_exporter": "python",
   "pygments_lexer": "ipython3",
   "version": "3.9.9"
  }
 },
 "nbformat": 4,
 "nbformat_minor": 5
}
