{
 "cells": [
  {
   "cell_type": "code",
   "execution_count": 1,
   "id": "a0e19219",
   "metadata": {},
   "outputs": [],
   "source": [
    "from typing import *\n",
    "from ListTree import list_to_tree"
   ]
  },
  {
   "cell_type": "code",
   "execution_count": 69,
   "id": "c4a56dd9",
   "metadata": {},
   "outputs": [],
   "source": [
    "# Definition for a binary tree node.\n",
    "class TreeNode:\n",
    "    def __init__(self, val=0, left=None, right=None):\n",
    "        self.val = val\n",
    "        self.left = left\n",
    "        self.right = right\n",
    "class Solution:\n",
    "    def searchBST(self, root: Optional[TreeNode], val: int) -> Optional[TreeNode]:\n",
    "        if val == root.val:\n",
    "            return root\n",
    "        if val > root.val and root.right:\n",
    "            return self.searchBST(root.right,val)\n",
    "        if val < root.val and root.left:\n",
    "            return self.searchBST(root.left,val)\n",
    "        return None"
   ]
  },
  {
   "cell_type": "code",
   "execution_count": 74,
   "id": "8788c4e9",
   "metadata": {},
   "outputs": [],
   "source": [
    "root = list_to_tree([4,2,7,1,3])\n",
    "sol = Solution()\n",
    "outcome = sol.searchBST(root, 5)"
   ]
  },
  {
   "cell_type": "code",
   "execution_count": null,
   "id": "ba243abf",
   "metadata": {},
   "outputs": [],
   "source": [
    "\"\"\"\n",
    "36 / 36 test cases passed.\n",
    "Status: Accepted\n",
    "Runtime: 112 ms\n",
    "Memory Usage: 16.5 MB\n",
    "Submitted: 0 minutes ago\n",
    "Notes: Simple recursive binary search algorithm. Remember to return the recursive function calls!\n",
    "\"\"\""
   ]
  }
 ],
 "metadata": {
  "kernelspec": {
   "display_name": "Python 3 (ipykernel)",
   "language": "python",
   "name": "python3"
  },
  "language_info": {
   "codemirror_mode": {
    "name": "ipython",
    "version": 3
   },
   "file_extension": ".py",
   "mimetype": "text/x-python",
   "name": "python",
   "nbconvert_exporter": "python",
   "pygments_lexer": "ipython3",
   "version": "3.9.9"
  }
 },
 "nbformat": 4,
 "nbformat_minor": 5
}
