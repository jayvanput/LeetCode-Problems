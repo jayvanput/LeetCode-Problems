{
 "cells": [
  {
   "cell_type": "code",
   "execution_count": 1,
   "id": "caf0b7a9",
   "metadata": {},
   "outputs": [],
   "source": [
    "from typing import *\n",
    "from ListTree import list_to_tree"
   ]
  },
  {
   "cell_type": "code",
   "execution_count": 21,
   "id": "3cec8b2f",
   "metadata": {},
   "outputs": [],
   "source": [
    "# Definition for a binary tree node.\n",
    "class TreeNode:\n",
    "    def __init__(self, val=0, left=None, right=None):\n",
    "        self.val = val\n",
    "        self.left = left\n",
    "        self.right = right\n",
    "class Solution:\n",
    "    def __init__(self):\n",
    "        self.output = 0\n",
    "    def sumRootToLeaf(self, root: Optional[TreeNode]) -> int:\n",
    "        def get_full_branch(root, prev_binary_number):\n",
    "            curr_binary_number = prev_binary_number + str(root.val)\n",
    "            print(curr_binary_number)\n",
    "            if not root.left and not root.right:\n",
    "                self.output += int(curr_binary_number, 2)\n",
    "            if root.left:\n",
    "                get_full_branch(root.left, curr_binary_number)\n",
    "            if root.right:\n",
    "                get_full_branch(root.right, curr_binary_number)\n",
    "        get_full_branch(root, \"\")\n",
    "        return self.output"
   ]
  },
  {
   "cell_type": "code",
   "execution_count": 22,
   "id": "5d3e9a03",
   "metadata": {},
   "outputs": [
    {
     "name": "stdout",
     "output_type": "stream",
     "text": [
      "1\n",
      "10\n",
      "100\n",
      "101\n",
      "11\n",
      "110\n",
      "111\n"
     ]
    },
    {
     "data": {
      "text/plain": [
       "22"
      ]
     },
     "execution_count": 22,
     "metadata": {},
     "output_type": "execute_result"
    }
   ],
   "source": [
    "root = list_to_tree([1,0,1,0,1,0,1])\n",
    "sol = Solution()\n",
    "sol.sumRootToLeaf(root)"
   ]
  },
  {
   "cell_type": "code",
   "execution_count": 16,
   "id": "064c7338",
   "metadata": {},
   "outputs": [
    {
     "data": {
      "text/plain": [
       "'\\n63 / 63 test cases passed.\\nStatus: Accepted\\nRuntime: 38 ms\\nMemory Usage: 14.2 MB\\nSubmitted: 0 minutes ago\\n'"
      ]
     },
     "execution_count": 16,
     "metadata": {},
     "output_type": "execute_result"
    }
   ],
   "source": [
    "\"\"\"\n",
    "63 / 63 test cases passed.\n",
    "Status: Accepted\n",
    "Runtime: 38 ms\n",
    "Memory Usage: 14.2 MB\n",
    "Submitted: 0 minutes ago\n",
    "Note: Originally made a list to store the values and then some. But you can just make a class or instance variable and add directly to it.\n",
    "\"\"\""
   ]
  },
  {
   "cell_type": "code",
   "execution_count": null,
   "id": "01e3d364",
   "metadata": {},
   "outputs": [],
   "source": []
  }
 ],
 "metadata": {
  "kernelspec": {
   "display_name": "Python 3 (ipykernel)",
   "language": "python",
   "name": "python3"
  },
  "language_info": {
   "codemirror_mode": {
    "name": "ipython",
    "version": 3
   },
   "file_extension": ".py",
   "mimetype": "text/x-python",
   "name": "python",
   "nbconvert_exporter": "python",
   "pygments_lexer": "ipython3",
   "version": "3.9.9"
  }
 },
 "nbformat": 4,
 "nbformat_minor": 5
}
