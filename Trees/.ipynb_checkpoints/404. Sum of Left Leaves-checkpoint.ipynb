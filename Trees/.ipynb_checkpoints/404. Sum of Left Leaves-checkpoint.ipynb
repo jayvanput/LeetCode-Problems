{
 "cells": [
  {
   "cell_type": "code",
   "execution_count": 1,
   "id": "f2ca0a9c",
   "metadata": {},
   "outputs": [],
   "source": [
    "from typing import *\n",
    "from ListTree import list_to_tree"
   ]
  },
  {
   "cell_type": "code",
   "execution_count": 16,
   "id": "d283d954",
   "metadata": {},
   "outputs": [],
   "source": [
    "# Definition for a binary tree node.\n",
    "class TreeNode:\n",
    "    def __init__(self, val=0, left=None, right=None):\n",
    "        self.val = val\n",
    "        self.left = left\n",
    "        self.right = right\n",
    "class Solution:\n",
    "    output = 0\n",
    "    def sumOfLeftLeaves(self, root: Optional[TreeNode]) -> int:\n",
    "        def helper(root):\n",
    "            # Check if the left child is a leaf.\n",
    "            if root.left:\n",
    "                if not root.left.left and not root.left.right:\n",
    "                    self.output += root.left.val\n",
    "                else:\n",
    "                    helper(root.left)\n",
    "            if root.right:\n",
    "                helper(root.right)\n",
    "        helper(root)\n",
    "        return self.output"
   ]
  },
  {
   "cell_type": "code",
   "execution_count": 18,
   "id": "d46cedb8",
   "metadata": {},
   "outputs": [
    {
     "data": {
      "text/plain": [
       "0"
      ]
     },
     "execution_count": 18,
     "metadata": {},
     "output_type": "execute_result"
    }
   ],
   "source": [
    "tree = list_to_tree([1])\n",
    "sol = Solution()\n",
    "sol.sumOfLeftLeaves(tree)"
   ]
  },
  {
   "cell_type": "code",
   "execution_count": null,
   "id": "1273dcde",
   "metadata": {},
   "outputs": [],
   "source": [
    "\"\"\"\n",
    "100 / 100 test cases passed.\n",
    "Status: Accepted\n",
    "Runtime: 70 ms\n",
    "Memory Usage: 14.8 MB\n",
    "Notes: DFS that just checks if the child is left and a leaf. This needs to be done in the parent since the child doesn't\n",
    "know if it is a left or right child. I saw a nice solution that uses a stack and appends the node with a flag to signal\n",
    "if it's a left leaf. Very clever.\n",
    "\"\"\""
   ]
  }
 ],
 "metadata": {
  "kernelspec": {
   "display_name": "Python 3 (ipykernel)",
   "language": "python",
   "name": "python3"
  },
  "language_info": {
   "codemirror_mode": {
    "name": "ipython",
    "version": 3
   },
   "file_extension": ".py",
   "mimetype": "text/x-python",
   "name": "python",
   "nbconvert_exporter": "python",
   "pygments_lexer": "ipython3",
   "version": "3.9.9"
  }
 },
 "nbformat": 4,
 "nbformat_minor": 5
}
