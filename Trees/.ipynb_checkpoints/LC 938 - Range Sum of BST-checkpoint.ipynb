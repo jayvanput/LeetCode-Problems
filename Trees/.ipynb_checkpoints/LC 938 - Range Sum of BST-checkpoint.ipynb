{
 "cells": [
  {
   "cell_type": "code",
   "execution_count": 26,
   "id": "3cae623b",
   "metadata": {},
   "outputs": [],
   "source": [
    "# Definition for a binary tree node.\n",
    "class TreeNode(object):\n",
    "    def __init__(self, val=0, left=None, right=None):\n",
    "        self.val = val\n",
    "        self.left = left\n",
    "        self.right = right\n",
    "        \n",
    "class Solution(object):\n",
    "    output = 0\n",
    "    def rangeSumBST(self, root, low, high):\n",
    "        \"\"\"\n",
    "        :type root: TreeNode\n",
    "        :type low: int\n",
    "        :type high: int\n",
    "        :rtype: int\n",
    "        \"\"\"\n",
    "        if not root:\n",
    "            return\n",
    "        if low <= root.val <= high:\n",
    "            self.output += root.val\n",
    "        \n",
    "        self.rangeSumBST(root.left, low, high)\n",
    "        self.rangeSumBST(root.right, low, high)\n",
    "        \n",
    "        return self.output\n",
    "            "
   ]
  },
  {
   "cell_type": "code",
   "execution_count": 30,
   "id": "17d7bcf9",
   "metadata": {},
   "outputs": [
    {
     "name": "stdout",
     "output_type": "stream",
     "text": [
      "True\n",
      "True\n"
     ]
    }
   ],
   "source": [
    "root = TreeNode(10, left=TreeNode(5, left=TreeNode(3), right=TreeNode(7)), right=TreeNode(15, right=TreeNode(18)))\n",
    "sol = Solution()\n",
    "print(sol.rangeSumBST(root, 7, 15) == 32)\n",
    "\n",
    "root = TreeNode(10, left=TreeNode(5, left=TreeNode(3, left=TreeNode(1)), right=TreeNode(7, left=TreeNode(6))), right=TreeNode(15, left=TreeNode(13, right=TreeNode(18))))\n",
    "sol = Solution()\n",
    "print(sol.rangeSumBST(root, 6, 10) == 23)"
   ]
  },
  {
   "cell_type": "code",
   "execution_count": null,
   "id": "8ad1ac4d",
   "metadata": {},
   "outputs": [],
   "source": [
    "\"\"\"\n",
    "41 / 41 test cases passed.\n",
    "Status: Accepted\n",
    "Runtime: 269 ms\n",
    "Memory Usage: 29.7 MB\n",
    "Submitted: 0 minutes ago\n",
    "Notes: DFS for fun. Use a class level attribute to store the value outside of the recursive function. Could be handle by an inner function.\n",
    "\"\"\""
   ]
  }
 ],
 "metadata": {
  "kernelspec": {
   "display_name": "Python 3 (ipykernel)",
   "language": "python",
   "name": "python3"
  },
  "language_info": {
   "codemirror_mode": {
    "name": "ipython",
    "version": 3
   },
   "file_extension": ".py",
   "mimetype": "text/x-python",
   "name": "python",
   "nbconvert_exporter": "python",
   "pygments_lexer": "ipython3",
   "version": "3.9.9"
  }
 },
 "nbformat": 4,
 "nbformat_minor": 5
}
