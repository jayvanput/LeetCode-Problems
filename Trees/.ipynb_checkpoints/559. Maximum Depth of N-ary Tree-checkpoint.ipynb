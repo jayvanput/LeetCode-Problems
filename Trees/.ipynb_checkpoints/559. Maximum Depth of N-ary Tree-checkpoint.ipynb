{
 "cells": [
  {
   "cell_type": "code",
   "execution_count": 18,
   "id": "117ce021",
   "metadata": {},
   "outputs": [],
   "source": [
    "# Definition for a Node.\n",
    "class Node:\n",
    "    def __init__(self, val=None, children=None):\n",
    "        self.val = val\n",
    "        self.children = children\n",
    "\n",
    "\n",
    "class Solution:\n",
    "    def maxDepth(self, root: 'Node') -> int:\n",
    "        if not root:\n",
    "            return 0\n",
    "        if not root.children:\n",
    "                return 1    \n",
    "        return max([self.maxDepth(child) for child in root.children]) + 1"
   ]
  },
  {
   "cell_type": "code",
   "execution_count": 19,
   "id": "ab058a17",
   "metadata": {},
   "outputs": [
    {
     "data": {
      "text/plain": [
       "3"
      ]
     },
     "execution_count": 19,
     "metadata": {},
     "output_type": "execute_result"
    }
   ],
   "source": [
    "root = Node(1, children=[Node(3,children=[Node(5),Node(6)]), Node(2), Node(4)])\n",
    "sol = Solution()\n",
    "sol.maxDepth(root)"
   ]
  },
  {
   "cell_type": "code",
   "execution_count": null,
   "id": "29e67272",
   "metadata": {},
   "outputs": [],
   "source": [
    "\"\"\"\n",
    "38 / 38 test cases passed.\n",
    "Status: Accepted\n",
    "Runtime: 44 ms\n",
    "Memory Usage: 16.2 MB\n",
    "Submitted: 0 minutes ago\n",
    "Notes: Submission said always try recursion first, might be good in the future. Similar to the textbook example.\n",
    "\"\"\""
   ]
  }
 ],
 "metadata": {
  "kernelspec": {
   "display_name": "Python 3 (ipykernel)",
   "language": "python",
   "name": "python3"
  },
  "language_info": {
   "codemirror_mode": {
    "name": "ipython",
    "version": 3
   },
   "file_extension": ".py",
   "mimetype": "text/x-python",
   "name": "python",
   "nbconvert_exporter": "python",
   "pygments_lexer": "ipython3",
   "version": "3.9.9"
  }
 },
 "nbformat": 4,
 "nbformat_minor": 5
}
