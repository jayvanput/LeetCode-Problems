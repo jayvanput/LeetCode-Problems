{
 "cells": [
  {
   "cell_type": "code",
   "execution_count": 30,
   "id": "e357ce29",
   "metadata": {},
   "outputs": [],
   "source": [
    "from typing import *\n",
    "from collections import deque"
   ]
  },
  {
   "cell_type": "code",
   "execution_count": 40,
   "id": "74051227",
   "metadata": {},
   "outputs": [],
   "source": [
    "# Definition for a binary tree node.\n",
    "class TreeNode:\n",
    "    def __init__(self, val=0, left=None, right=None):\n",
    "        self.val = val\n",
    "        self.left = left\n",
    "        self.right = right\n",
    "class Solution:\n",
    "    def preorderTraversal(self, root: Optional[TreeNode]) -> List[int]:\n",
    "        output = []\n",
    "        if not root:\n",
    "            return []\n",
    "        def traverse(root):\n",
    "            output.append(root.val)\n",
    "            if root.left:\n",
    "                traverse(root.left)\n",
    "            if root.right:\n",
    "                traverse(root.right)\n",
    "        traverse(root)\n",
    "        return output\n",
    "    def preorderTraversalIteratively(self, root: Optional[TreeNode]) -> List[int]:\n",
    "        if not root:\n",
    "            return []\n",
    "        deq = deque([root])\n",
    "        output = []\n",
    "        while deq:\n",
    "            node = deq.pop()\n",
    "            output.append(node.val)\n",
    "            if node.right:\n",
    "                deq.append(node.right)\n",
    "            if node.left:\n",
    "                deq.append(node.left)\n",
    "        return output"
   ]
  },
  {
   "cell_type": "code",
   "execution_count": 41,
   "id": "31329716",
   "metadata": {},
   "outputs": [
    {
     "name": "stdout",
     "output_type": "stream",
     "text": [
      "True\n"
     ]
    }
   ],
   "source": [
    "root = TreeNode(1, left=TreeNode(2, right=TreeNode(5)), right=TreeNode(3, left=TreeNode(4)))\n",
    "sol = Solution()\n",
    "print(sol.preorderTraversalIteratively(root) == [1,2,5,3,4])"
   ]
  },
  {
   "cell_type": "code",
   "execution_count": 42,
   "id": "64b929df",
   "metadata": {},
   "outputs": [
    {
     "data": {
      "text/plain": [
       "[1, 2, 5, 3, 4]"
      ]
     },
     "execution_count": 42,
     "metadata": {},
     "output_type": "execute_result"
    }
   ],
   "source": [
    "sol.preorderTraversalIteratively(root)"
   ]
  },
  {
   "cell_type": "code",
   "execution_count": null,
   "id": "8a573a3a",
   "metadata": {},
   "outputs": [],
   "source": [
    "\"\"\"\n",
    "69 / 69 test cases passed.\n",
    "Status: Accepted\n",
    "Runtime: 45 ms\n",
    "Memory Usage: 13.9 MB\n",
    "Submitted: 0 minutes ago\n",
    "Notes: Speedran recursive solution in ~4 min (with full scenario setup). Iterative solution was done with a \"stack\" that I\n",
    "learned about last time.\n",
    "\"\"\""
   ]
  }
 ],
 "metadata": {
  "kernelspec": {
   "display_name": "Python 3 (ipykernel)",
   "language": "python",
   "name": "python3"
  },
  "language_info": {
   "codemirror_mode": {
    "name": "ipython",
    "version": 3
   },
   "file_extension": ".py",
   "mimetype": "text/x-python",
   "name": "python",
   "nbconvert_exporter": "python",
   "pygments_lexer": "ipython3",
   "version": "3.9.9"
  }
 },
 "nbformat": 4,
 "nbformat_minor": 5
}
