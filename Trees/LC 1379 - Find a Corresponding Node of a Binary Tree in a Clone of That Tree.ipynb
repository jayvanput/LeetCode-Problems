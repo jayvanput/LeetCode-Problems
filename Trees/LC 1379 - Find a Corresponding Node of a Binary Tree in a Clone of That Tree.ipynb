{
 "cells": [
  {
   "cell_type": "code",
   "execution_count": 3,
   "id": "f6b710ba",
   "metadata": {},
   "outputs": [],
   "source": [
    "from collections import deque"
   ]
  },
  {
   "cell_type": "code",
   "execution_count": 90,
   "id": "b285e9cd",
   "metadata": {},
   "outputs": [],
   "source": [
    "# Definition for a binary tree node.\n",
    "class TreeNode(object):\n",
    "    def __init__(self, x,left=None,right=None):\n",
    "        self.val = x\n",
    "        self.left = left\n",
    "        self.right = right\n",
    "\n",
    "class Solution(object):\n",
    "    def getTargetCopyBFS(self, original, cloned, target):\n",
    "        \"\"\"\n",
    "        :type original: TreeNode\n",
    "        :type cloned: TreeNode\n",
    "        :type target: TreeNode\n",
    "        :rtype: TreeNode\n",
    "        \"\"\"\n",
    "        bfs = deque([cloned])\n",
    "        while bfs:\n",
    "            node = bfs.popleft()\n",
    "            if node.val == target.val:\n",
    "                return node\n",
    "            if node.left:\n",
    "                bfs.append(node.left)\n",
    "            if node.right:\n",
    "                bfs.append(node.right)\n",
    "                \n",
    "    def getTargetCopyDFS(self, original, cloned, target):\n",
    "        \"\"\"\n",
    "        :type original: TreeNode\n",
    "        :type cloned: TreeNode\n",
    "        :type target: TreeNode\n",
    "        :rtype: TreeNode\n",
    "        \"\"\"\n",
    "        def checkValue(node):\n",
    "            if node.val == target.val:\n",
    "                return node\n",
    "            else:\n",
    "                left_subtree = None\n",
    "                right_subtree = None\n",
    "                if node.left:\n",
    "                    left_subtree = checkValue(node.left)\n",
    "                if node.right:\n",
    "                    right_subtree = checkValue(node.right)\n",
    "                return left_subtree or right_subtree\n",
    "        return checkValue(cloned)"
   ]
  },
  {
   "cell_type": "code",
   "execution_count": 91,
   "id": "7d070cd6",
   "metadata": {},
   "outputs": [
    {
     "name": "stdout",
     "output_type": "stream",
     "text": [
      "True\n",
      "True\n"
     ]
    }
   ],
   "source": [
    "original = TreeNode(7, left=TreeNode(4),right=TreeNode(3, left=TreeNode(6),right=TreeNode(19)))\n",
    "cloned = TreeNode(7, left=TreeNode(4),right=TreeNode(3, left=TreeNode(6),right=TreeNode(19)))\n",
    "target = original.right\n",
    "sol = Solution()\n",
    "print(sol.getTargetCopyDFS(original, cloned, target) == cloned.right)\n",
    "\n",
    "original = TreeNode(8, right=TreeNode(6, right=TreeNode(5, right=TreeNode(4, right=TreeNode(3, right=TreeNode(2, right=TreeNode(1)))))))\n",
    "cloned = TreeNode(8, right=TreeNode(6, right=TreeNode(5, right=TreeNode(4, right=TreeNode(3, right=TreeNode(2, right=TreeNode(1)))))))\n",
    "target = original.right.right.right\n",
    "sol = Solution()\n",
    "print(sol.getTargetCopyDFS(original, cloned, target) == cloned.right.right.right)\n"
   ]
  },
  {
   "cell_type": "code",
   "execution_count": null,
   "id": "2c9e4c5c",
   "metadata": {},
   "outputs": [],
   "source": [
    "\"\"\"\n",
    "56 / 56 test cases passed.\n",
    "Status: Accepted\n",
    "Runtime: 700 ms\n",
    "Memory Usage: 30.6 MB\n",
    "Submitted: 1 day, 3 hours ago\n",
    "Notes: Implemented both DFS (recursion) and BFS (deque) solutions. \n",
    "\"\"\""
   ]
  }
 ],
 "metadata": {
  "kernelspec": {
   "display_name": "Python 3 (ipykernel)",
   "language": "python",
   "name": "python3"
  },
  "language_info": {
   "codemirror_mode": {
    "name": "ipython",
    "version": 3
   },
   "file_extension": ".py",
   "mimetype": "text/x-python",
   "name": "python",
   "nbconvert_exporter": "python",
   "pygments_lexer": "ipython3",
   "version": "3.9.9"
  }
 },
 "nbformat": 4,
 "nbformat_minor": 5
}
