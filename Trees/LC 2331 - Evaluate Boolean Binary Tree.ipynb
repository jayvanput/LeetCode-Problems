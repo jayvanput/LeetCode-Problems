{
 "cells": [
  {
   "cell_type": "code",
   "execution_count": 3,
   "id": "cfd0d962",
   "metadata": {},
   "outputs": [],
   "source": [
    "from typing import *"
   ]
  },
  {
   "cell_type": "code",
   "execution_count": 18,
   "id": "a47c4f59",
   "metadata": {},
   "outputs": [],
   "source": [
    "# Definition for a binary tree node.\n",
    "class TreeNode:\n",
    "    def __init__(self, val=0, left=None, right=None):\n",
    "        self.val = val\n",
    "        self.left = left\n",
    "        self.right = right\n",
    "class Solution:\n",
    "    def evaluateTree(self, root: Optional[TreeNode]) -> bool:\n",
    "        if not root.left:\n",
    "            return bool(root.val)\n",
    "        else:\n",
    "            left = self.evaluateTree(root.left)\n",
    "            right = self.evaluateTree(root.right)\n",
    "            if root.val == 2:\n",
    "                result = left or right\n",
    "            elif root.val == 3:\n",
    "                result = left and right\n",
    "            print(result)\n",
    "            return result\n",
    "        return self.evaluateTree(root)"
   ]
  },
  {
   "cell_type": "code",
   "execution_count": 19,
   "id": "a1139f75",
   "metadata": {},
   "outputs": [
    {
     "name": "stdout",
     "output_type": "stream",
     "text": [
      "False\n",
      "True\n",
      "True\n"
     ]
    }
   ],
   "source": [
    "root = TreeNode(2, left=TreeNode(1), right=TreeNode(3, left=TreeNode(0), right=TreeNode(1)))\n",
    "sol = Solution()\n",
    "print(sol.evaluateTree(root) == True)"
   ]
  },
  {
   "cell_type": "code",
   "execution_count": null,
   "id": "c85a63b8",
   "metadata": {},
   "outputs": [],
   "source": [
    "\"\"\"\n",
    "75 / 75 test cases passed.\n",
    "Status: Accepted\n",
    "Runtime: 88 ms\n",
    "Memory Usage: 14.8 MB\n",
    "Submitted: 0 minutes ago\n",
    "Notes: DFS, easy peasy.\n",
    "\"\"\""
   ]
  }
 ],
 "metadata": {
  "kernelspec": {
   "display_name": "Python 3 (ipykernel)",
   "language": "python",
   "name": "python3"
  },
  "language_info": {
   "codemirror_mode": {
    "name": "ipython",
    "version": 3
   },
   "file_extension": ".py",
   "mimetype": "text/x-python",
   "name": "python",
   "nbconvert_exporter": "python",
   "pygments_lexer": "ipython3",
   "version": "3.9.9"
  }
 },
 "nbformat": 4,
 "nbformat_minor": 5
}
