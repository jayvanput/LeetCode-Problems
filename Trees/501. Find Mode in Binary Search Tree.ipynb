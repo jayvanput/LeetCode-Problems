{
 "cells": [
  {
   "cell_type": "code",
   "execution_count": 8,
   "metadata": {},
   "outputs": [],
   "source": [
    "from typing import *\n",
    "from ListTree import list_to_tree"
   ]
  },
  {
   "cell_type": "code",
   "execution_count": 61,
   "metadata": {},
   "outputs": [],
   "source": [
    "# Definition for a binary tree node.\n",
    "class TreeNode:\n",
    "    def __init__(self, val=0, left=None, right=None):\n",
    "        self.val = val\n",
    "        self.left = left\n",
    "        self.right = right\n",
    "class Solution:\n",
    "    max: int = 0\n",
    "    def findMode(self, root: Optional[TreeNode]) -> List[int]:\n",
    "        values = {}\n",
    "\n",
    "        def helper(root):\n",
    "            values[root.val] = values.get(root.val, 0) + 1\n",
    "            if self.max <= values[root.val]:\n",
    "                self.max = values[root.val]\n",
    "            \n",
    "            if root.left:\n",
    "                helper(root.left)\n",
    "            if root.right:\n",
    "                helper(root.right)\n",
    "\n",
    "        helper(root)\n",
    "\n",
    "        output = []\n",
    "        for key, value in values.items():\n",
    "            if value == self.max:\n",
    "                output.append(key)\n",
    "        return output\n",
    "\n"
   ]
  },
  {
   "cell_type": "code",
   "execution_count": 62,
   "metadata": {},
   "outputs": [
    {
     "name": "stdout",
     "output_type": "stream",
     "text": [
      "{1: 1} 1\n",
      "{1: 2} 2\n",
      "{1: 2, 2: 1} 2\n",
      "[1]\n"
     ]
    }
   ],
   "source": [
    "root = list_to_tree([1,1,2])\n",
    "sol = Solution()\n",
    "print(sol.findMode(root))"
   ]
  },
  {
   "cell_type": "code",
   "execution_count": 63,
   "metadata": {},
   "outputs": [
    {
     "data": {
      "text/plain": [
       "\"\\n23 / 23 test cases passed.\\nStatus: Accepted\\nRuntime: 54 ms\\nMemory Usage: 18.4 MB\\nNotes: It just works. solves in O(n) with the tree and looping the dictionary. the O(1) space solution probably leverages the fact that it's a BST, so you can check if either of the children \\ncontain the value of the parent recursively?\\n\""
      ]
     },
     "execution_count": 63,
     "metadata": {},
     "output_type": "execute_result"
    }
   ],
   "source": [
    "\"\"\"\n",
    "23 / 23 test cases passed.\n",
    "Status: Accepted\n",
    "Runtime: 54 ms\n",
    "Memory Usage: 18.4 MB\n",
    "Notes: It just works. solves in O(n) with the tree and looping the dictionary. the O(1) space solution probably leverages the fact that it's a BST, so you can check if either of the children \n",
    "contain the value of the parent recursively? \n",
    "I just checked and it does. Very elegant solutions out there for DFS.\n",
    "\"\"\""
   ]
  }
 ],
 "metadata": {
  "kernelspec": {
   "display_name": "Python 3.9.9 ('testing')",
   "language": "python",
   "name": "python3"
  },
  "language_info": {
   "codemirror_mode": {
    "name": "ipython",
    "version": 3
   },
   "file_extension": ".py",
   "mimetype": "text/x-python",
   "name": "python",
   "nbconvert_exporter": "python",
   "pygments_lexer": "ipython3",
   "version": "3.9.9"
  },
  "orig_nbformat": 4,
  "vscode": {
   "interpreter": {
    "hash": "fb79f887f98bf1425cfd8e046db197159ed36d1ac9d9565e603c221fb1d3efe4"
   }
  }
 },
 "nbformat": 4,
 "nbformat_minor": 2
}
