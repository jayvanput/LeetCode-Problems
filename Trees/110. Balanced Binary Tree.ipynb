{
 "cells": [
  {
   "cell_type": "code",
   "execution_count": 2,
   "id": "626e153b",
   "metadata": {},
   "outputs": [],
   "source": [
    "from typing import *\n",
    "from ListTree import list_to_tree"
   ]
  },
  {
   "cell_type": "code",
   "execution_count": 121,
   "id": "a9de132d",
   "metadata": {},
   "outputs": [],
   "source": [
    "# Definition for a binary tree node.\n",
    "class TreeNode:\n",
    "    def __init__(self, val=0, left=None, right=None):\n",
    "        self.val = val\n",
    "        self.left = left\n",
    "        self.right = right\n",
    "class Solution:\n",
    "    def isBalanced(self, root: Optional[TreeNode]) -> bool:\n",
    "        def node_height(root):\n",
    "            if not root:\n",
    "                return 0\n",
    "            left = node_height(root.left)\n",
    "            right = node_height(root.right)\n",
    "            if abs(left - right) > 1 or left < 0 or right < 0:\n",
    "                return -1\n",
    "            return max(node_height(root.left), node_height(root.right)) + 1\n",
    "        if not root:\n",
    "            return True\n",
    "        return node_height(root) >= 0\n",
    "            "
   ]
  },
  {
   "cell_type": "code",
   "execution_count": 122,
   "id": "29e849dd",
   "metadata": {},
   "outputs": [
    {
     "name": "stdout",
     "output_type": "stream",
     "text": [
      "[0, 0, 1, 0, 0, 1, 2, 0, 0, 1, 3]\n"
     ]
    }
   ],
   "source": [
    "root = list_to_tree([1,None,2,None,3])\n",
    "sol = Solution()\n",
    "print(sol.isBalanced(root))"
   ]
  },
  {
   "cell_type": "code",
   "execution_count": 63,
   "id": "a6a200b2",
   "metadata": {},
   "outputs": [
    {
     "data": {
      "text/plain": [
       "True"
      ]
     },
     "execution_count": 63,
     "metadata": {},
     "output_type": "execute_result"
    }
   ],
   "source": [
    "bool(root.left.left)"
   ]
  },
  {
   "cell_type": "code",
   "execution_count": null,
   "id": "fe592636",
   "metadata": {},
   "outputs": [],
   "source": [
    "\"\"\"\n",
    "228 / 228 test cases passed.\n",
    "Status: Accepted\n",
    "Runtime: 1131 ms\n",
    "Memory Usage: 18.6 MB\n",
    "Submitted: 8 minutes ago\n",
    "Notes: Really hated this one, idk why. It asks us to do too many things at once (get recursive depths and also compare to sibling node depth). \n",
    "\"\"\""
   ]
  }
 ],
 "metadata": {
  "kernelspec": {
   "display_name": "Python 3 (ipykernel)",
   "language": "python",
   "name": "python3"
  },
  "language_info": {
   "codemirror_mode": {
    "name": "ipython",
    "version": 3
   },
   "file_extension": ".py",
   "mimetype": "text/x-python",
   "name": "python",
   "nbconvert_exporter": "python",
   "pygments_lexer": "ipython3",
   "version": "3.9.9"
  }
 },
 "nbformat": 4,
 "nbformat_minor": 5
}
