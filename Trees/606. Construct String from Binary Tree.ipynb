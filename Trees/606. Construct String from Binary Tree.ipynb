{
 "cells": [
  {
   "cell_type": "code",
   "execution_count": 1,
   "id": "520f523e",
   "metadata": {},
   "outputs": [],
   "source": [
    "from typing import *\n",
    "from ListTree import list_to_tree"
   ]
  },
  {
   "cell_type": "code",
   "execution_count": 49,
   "id": "f3a4ab1f",
   "metadata": {},
   "outputs": [],
   "source": [
    " # Definition for a binary tree node.\n",
    "class TreeNode:\n",
    "    def __init__(self, val=0, left=None, right=None):\n",
    "        self.val = val\n",
    "        self.left = left\n",
    "        self.right = right\n",
    "class Solution:\n",
    "    def tree2str(self, root: Optional[TreeNode]) -> str:\n",
    "        def helper(root):\n",
    "            output = [str(root.val)]\n",
    "            if root.left or root.right:\n",
    "                output.append(\"(\")\n",
    "                if root.left:\n",
    "                    subtree = helper(root.left)\n",
    "                    output.append(f\"{subtree})\")\n",
    "                else:\n",
    "                    output.append(\")\")\n",
    "                if root.right:\n",
    "                    subtree = helper(root.right)\n",
    "                    output.append(f\"({subtree})\")\n",
    "            return \"\".join(output)\n",
    "        output = helper(root)\n",
    "        return output"
   ]
  },
  {
   "cell_type": "code",
   "execution_count": 50,
   "id": "741f058a",
   "metadata": {},
   "outputs": [
    {
     "data": {
      "text/plain": [
       "'1(2()(4))(3)'"
      ]
     },
     "execution_count": 50,
     "metadata": {},
     "output_type": "execute_result"
    }
   ],
   "source": [
    "root = list_to_tree([1,2,3,None,4])\n",
    "sol = Solution()\n",
    "sol.tree2str(root)"
   ]
  },
  {
   "cell_type": "code",
   "execution_count": null,
   "id": "b42bb7fb",
   "metadata": {},
   "outputs": [],
   "source": [
    "\"\"\"\n",
    "160 / 160 test cases passed.\n",
    "Status: Accepted\n",
    "Runtime: 83 ms\n",
    "Memory Usage: 16.6 MB\n",
    "Submitted: 3 minutes ago\n",
    "Notes: Simple DFS tree example.\n",
    "\"\"\""
   ]
  }
 ],
 "metadata": {
  "kernelspec": {
   "display_name": "Python 3 (ipykernel)",
   "language": "python",
   "name": "python3"
  },
  "language_info": {
   "codemirror_mode": {
    "name": "ipython",
    "version": 3
   },
   "file_extension": ".py",
   "mimetype": "text/x-python",
   "name": "python",
   "nbconvert_exporter": "python",
   "pygments_lexer": "ipython3",
   "version": "3.9.9"
  }
 },
 "nbformat": 4,
 "nbformat_minor": 5
}
