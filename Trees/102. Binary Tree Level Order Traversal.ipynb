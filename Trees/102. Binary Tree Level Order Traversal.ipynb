{
 "cells": [
  {
   "cell_type": "code",
   "execution_count": 5,
   "metadata": {},
   "outputs": [],
   "source": [
    "from typing import Optional\n",
    "from ListTree import list_to_tree\n",
    "from collections import deque"
   ]
  },
  {
   "cell_type": "code",
   "execution_count": 17,
   "metadata": {},
   "outputs": [],
   "source": [
    "# Definition for a binary tree node.\n",
    "class TreeNode:\n",
    "    def __init__(self, val: int=0, left=None, right=None):\n",
    "        self.val = val\n",
    "        self.left = left\n",
    "        self.right = right\n",
    "class Solution:\n",
    "    def levelOrder(self, root: Optional[TreeNode]) -> list[list[int]]:\n",
    "        if not root:\n",
    "            return []\n",
    "        levels: dict[int, list[int]] = {}\n",
    "        output = []\n",
    "        nodes = deque([(root,0)])\n",
    "        while nodes:\n",
    "            curr_node, curr_level = nodes.popleft()\n",
    "            curr_level_nodes = levels.get(curr_level, [])\n",
    "            curr_level_nodes.append(curr_node.val)\n",
    "            levels[curr_level] = curr_level_nodes\n",
    "            if curr_node.left:\n",
    "                nodes.append((curr_node.left,curr_level+1))\n",
    "            if curr_node.right:\n",
    "                nodes.append((curr_node.right,curr_level+1))\n",
    "        for i in range(len(levels.keys())):\n",
    "            output.append(levels[i])\n",
    "        return output\n"
   ]
  },
  {
   "cell_type": "code",
   "execution_count": 19,
   "metadata": {},
   "outputs": [
    {
     "data": {
      "text/plain": [
       "[[0]]"
      ]
     },
     "execution_count": 19,
     "metadata": {},
     "output_type": "execute_result"
    }
   ],
   "source": [
    "root = TreeNode()\n",
    "sol = Solution()\n",
    "sol.levelOrder(root)"
   ]
  },
  {
   "cell_type": "code",
   "execution_count": null,
   "metadata": {},
   "outputs": [],
   "source": [
    "\"\"\"\n",
    "Runtime41 ms\n",
    "Beats\n",
    "72.14%\n",
    "Memory14.2 MB\n",
    "Notes: I used a dictionary because it feels cleaner and shouldn't add any complexity (O(1) to access the current level and append, O(n) at the \n",
    "end to iterate over the dictionary which is okay because the main function is already O(n)). I saw solutions that added to the output when a new \n",
    "layer was found but it seems messier but probably faster.\n",
    "\"\"\""
   ]
  }
 ],
 "metadata": {
  "kernelspec": {
   "display_name": "testing",
   "language": "python",
   "name": "python3"
  },
  "language_info": {
   "codemirror_mode": {
    "name": "ipython",
    "version": 3
   },
   "file_extension": ".py",
   "mimetype": "text/x-python",
   "name": "python",
   "nbconvert_exporter": "python",
   "pygments_lexer": "ipython3",
   "version": "3.9.9"
  },
  "orig_nbformat": 4,
  "vscode": {
   "interpreter": {
    "hash": "fb79f887f98bf1425cfd8e046db197159ed36d1ac9d9565e603c221fb1d3efe4"
   }
  }
 },
 "nbformat": 4,
 "nbformat_minor": 2
}
