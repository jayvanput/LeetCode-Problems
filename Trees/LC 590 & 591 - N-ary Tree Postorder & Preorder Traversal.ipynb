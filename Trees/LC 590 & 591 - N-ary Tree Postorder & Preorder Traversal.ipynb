{
 "cells": [
  {
   "cell_type": "code",
   "execution_count": 3,
   "id": "9abc230a",
   "metadata": {},
   "outputs": [],
   "source": [
    "from typing import *"
   ]
  },
  {
   "cell_type": "code",
   "execution_count": 25,
   "id": "b798d625",
   "metadata": {},
   "outputs": [],
   "source": [
    "# Definition for a Node.\n",
    "class Node:\n",
    "    def __init__(self, val=None, children=None):\n",
    "        self.val = val\n",
    "        self.children = children\n",
    "\n",
    "\n",
    "class Solution:\n",
    "    def postorder(self, root: 'Node') -> List[int]:\n",
    "        if not root:\n",
    "            return []\n",
    "        def recursive_postorder(root):\n",
    "            if not root.children:\n",
    "                return [root.val]\n",
    "            children_lst = []\n",
    "            for child in root.children:\n",
    "                children_lst.extend(recursive_postorder(child))\n",
    "            children_lst.append(root.val)\n",
    "            return children_lst\n",
    "        return recursive_postorder(root)\n",
    "    \n",
    "    def preorder(self, root: 'Node') -> List[int]:\n",
    "        if not root:\n",
    "            return []\n",
    "        def recursive_preorder(root):\n",
    "            if not root.children:\n",
    "                return [root.val]\n",
    "            children_lst = []\n",
    "            children_lst.append(root.val)\n",
    "            for child in root.children:\n",
    "                children_lst.extend(recursive_preorder(child))\n",
    "            return children_lst\n",
    "        return recursive_preorder(root)"
   ]
  },
  {
   "cell_type": "code",
   "execution_count": 26,
   "id": "9f750c06",
   "metadata": {},
   "outputs": [
    {
     "data": {
      "text/plain": [
       "[1, 3, 5, 6, 2, 4]"
      ]
     },
     "execution_count": 26,
     "metadata": {},
     "output_type": "execute_result"
    }
   ],
   "source": [
    "root = Node(1, children=[Node(3, children=[Node(5), Node(6)]), Node(2), Node(4)])\n",
    "sol = Solution()\n",
    "sol.preorder(root)"
   ]
  },
  {
   "cell_type": "code",
   "execution_count": null,
   "id": "f62087ed",
   "metadata": {},
   "outputs": [],
   "source": [
    "\"\"\"\n",
    "38 / 38 test cases passed.\n",
    "Status: Accepted\n",
    "Runtime: 79 ms\n",
    "Memory Usage: 16.4 MB\n",
    "Submitted: 0 minutes ago\n",
    "Notes: Preorder is just when you handle the parent prior to the children, postorder is after the children. This could be cleaner.\n",
    "\"\"\""
   ]
  }
 ],
 "metadata": {
  "kernelspec": {
   "display_name": "Python 3 (ipykernel)",
   "language": "python",
   "name": "python3"
  },
  "language_info": {
   "codemirror_mode": {
    "name": "ipython",
    "version": 3
   },
   "file_extension": ".py",
   "mimetype": "text/x-python",
   "name": "python",
   "nbconvert_exporter": "python",
   "pygments_lexer": "ipython3",
   "version": "3.9.9"
  }
 },
 "nbformat": 4,
 "nbformat_minor": 5
}
