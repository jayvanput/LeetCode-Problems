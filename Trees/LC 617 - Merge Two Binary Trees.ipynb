{
 "cells": [
  {
   "cell_type": "code",
   "execution_count": 6,
   "id": "0e614af0",
   "metadata": {},
   "outputs": [],
   "source": [
    "from typing import *\n",
    "from ListTree import list_to_tree\n",
    "from collections import deque"
   ]
  },
  {
   "cell_type": "code",
   "execution_count": 13,
   "id": "3294cd2e",
   "metadata": {},
   "outputs": [],
   "source": [
    "# Definition for a binary tree node.\n",
    "class TreeNode:\n",
    "    def __init__(self, val=0, left=None, right=None):\n",
    "        self.val = val\n",
    "        self.left = left\n",
    "        self.right = right\n",
    "class Solution:\n",
    "    def mergeTrees(self, root1: Optional[TreeNode], root2: Optional[TreeNode]) -> Optional[TreeNode]:\n",
    "        if not root1 and not root2:\n",
    "            return None\n",
    "        if not root1:\n",
    "            return root2\n",
    "        if not root2:\n",
    "            return root1\n",
    "        \n",
    "        root_val = root1.val + root2.val\n",
    "        output = TreeNode(root_val)\n",
    "        \n",
    "        output.left = self.mergeTrees(root1.left, root2.left)\n",
    "        output.right = self.mergeTrees(root1.right, root2.right)\n",
    "        \n",
    "        return output"
   ]
  },
  {
   "cell_type": "code",
   "execution_count": 19,
   "id": "41ccda14",
   "metadata": {},
   "outputs": [
    {
     "name": "stdout",
     "output_type": "stream",
     "text": [
      "<ListTree.TreeNode object at 0x00000233D0E05F70>\n",
      "<ListTree.TreeNode object at 0x00000233D0E15940>\n",
      "<ListTree.TreeNode object at 0x00000233D0E15B20>\n"
     ]
    }
   ],
   "source": [
    "root1 = list_to_tree([1,3,2,5])\n",
    "root2 = list_to_tree([2,1,3,None,4,None,7])\n",
    "sol = Solution()\n",
    "output = sol.mergeTrees(root1, root2)"
   ]
  },
  {
   "cell_type": "code",
   "execution_count": 24,
   "id": "bceafd62",
   "metadata": {},
   "outputs": [
    {
     "data": {
      "text/plain": [
       "7"
      ]
     },
     "execution_count": 24,
     "metadata": {},
     "output_type": "execute_result"
    }
   ],
   "source": [
    "output.right.right.val"
   ]
  },
  {
   "cell_type": "code",
   "execution_count": 11,
   "id": "25f481aa",
   "metadata": {},
   "outputs": [
    {
     "data": {
      "text/plain": [
       "\"\\n182 / 182 test cases passed.\\nStatus: Accepted\\nRuntime: 122 ms\\nMemory Usage: 15.6 MB\\nSubmitted: 7 minutes ago\\nNotes: Didn't really make intuitive sense for trees with different heights. But we are just returning the remaining subtrees if one is longer than the other.\\n\""
      ]
     },
     "execution_count": 11,
     "metadata": {},
     "output_type": "execute_result"
    }
   ],
   "source": [
    "\"\"\"\n",
    "182 / 182 test cases passed.\n",
    "Status: Accepted\n",
    "Runtime: 122 ms\n",
    "Memory Usage: 15.6 MB\n",
    "Submitted: 7 minutes ago\n",
    "Notes: Didn't really make intuitive sense for trees with different heights. But we are just returning the remaining subtrees if one is longer than the other.\n",
    "\"\"\""
   ]
  },
  {
   "cell_type": "code",
   "execution_count": null,
   "id": "3a7e83f4",
   "metadata": {},
   "outputs": [],
   "source": [
    "test = list_to_tree([1,2])\n",
    "test.left"
   ]
  },
  {
   "cell_type": "code",
   "execution_count": null,
   "id": "05ab948e",
   "metadata": {},
   "outputs": [],
   "source": []
  }
 ],
 "metadata": {
  "kernelspec": {
   "display_name": "Python 3 (ipykernel)",
   "language": "python",
   "name": "python3"
  },
  "language_info": {
   "codemirror_mode": {
    "name": "ipython",
    "version": 3
   },
   "file_extension": ".py",
   "mimetype": "text/x-python",
   "name": "python",
   "nbconvert_exporter": "python",
   "pygments_lexer": "ipython3",
   "version": "3.9.9"
  }
 },
 "nbformat": 4,
 "nbformat_minor": 5
}
