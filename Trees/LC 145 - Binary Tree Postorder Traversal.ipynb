{
 "cells": [
  {
   "cell_type": "code",
   "execution_count": 3,
   "id": "ee162e26",
   "metadata": {},
   "outputs": [],
   "source": [
    "from typing import *"
   ]
  },
  {
   "cell_type": "code",
   "execution_count": 15,
   "id": "5c5ba065",
   "metadata": {},
   "outputs": [],
   "source": [
    "# Definition for a binary tree node.\n",
    "class TreeNode:\n",
    "    def __init__(self, val=0, left=None, right=None):\n",
    "        self.val = val\n",
    "        self.left = left\n",
    "        self.right = right\n",
    "class Solution:\n",
    "    def postorderTraversalRecursive(self, root: Optional[TreeNode]) -> List[int]:\n",
    "        output = []\n",
    "        def traversal(root):\n",
    "            if not root:\n",
    "                return []\n",
    "            if root.left:\n",
    "                traversal(root.left)\n",
    "            if root.right:\n",
    "                traversal(root.right)\n",
    "            output.append(root.val)\n",
    "        traversal(root)\n",
    "        return output\n",
    "    \n",
    "    def postorderTraversalIterative(self, root: Optional[TreeNode]) -> List[int]:\n",
    "        "
   ]
  },
  {
   "cell_type": "code",
   "execution_count": 16,
   "id": "7747b7d5",
   "metadata": {},
   "outputs": [
    {
     "data": {
      "text/plain": [
       "[3, 2, 1]"
      ]
     },
     "execution_count": 16,
     "metadata": {},
     "output_type": "execute_result"
    }
   ],
   "source": [
    "root = TreeNode(1, right=TreeNode(2, left=TreeNode(3)))\n",
    "sol = Solution()\n",
    "sol.postorderTraversal(root)"
   ]
  },
  {
   "cell_type": "code",
   "execution_count": null,
   "id": "4d87fffd",
   "metadata": {},
   "outputs": [],
   "source": [
    "\"\"\"\n",
    "68 / 68 test cases passed.\n",
    "Status: Accepted\n",
    "Runtime: 43 ms\n",
    "Memory Usage: 13.9 MB\n",
    "Submitted: 2 minutes ago\n",
    "Notes: Done recursively. Iteratively can be done with a stack, appending the \n",
    "\"\"\""
   ]
  }
 ],
 "metadata": {
  "kernelspec": {
   "display_name": "Python 3 (ipykernel)",
   "language": "python",
   "name": "python3"
  },
  "language_info": {
   "codemirror_mode": {
    "name": "ipython",
    "version": 3
   },
   "file_extension": ".py",
   "mimetype": "text/x-python",
   "name": "python",
   "nbconvert_exporter": "python",
   "pygments_lexer": "ipython3",
   "version": "3.9.9"
  }
 },
 "nbformat": 4,
 "nbformat_minor": 5
}
