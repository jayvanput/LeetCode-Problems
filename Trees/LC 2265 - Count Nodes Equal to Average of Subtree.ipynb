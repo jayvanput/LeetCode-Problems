{
 "cells": [
  {
   "cell_type": "code",
   "execution_count": 3,
   "id": "eafbc2bc",
   "metadata": {},
   "outputs": [],
   "source": [
    "from typing import *"
   ]
  },
  {
   "cell_type": "code",
   "execution_count": 19,
   "id": "22f64681",
   "metadata": {},
   "outputs": [],
   "source": [
    "# Definition for a binary tree node.\n",
    "class TreeNode:\n",
    "    def __init__(self, val=0, left=None, right=None):\n",
    "        self.val = val\n",
    "        self.left = left\n",
    "        self.right = right\n",
    "class Solution:\n",
    "    output = 0\n",
    "    def averageOfSubtree(self, root: Optional[TreeNode]) -> int:\n",
    "        def get_average_of_subtree(root):\n",
    "            if not root.left and not root.right:\n",
    "                self.output += 1\n",
    "                node_count = 1\n",
    "                return root.val, node_count\n",
    "            else:\n",
    "                left_subtree_sum, left_subtree_count = 0, 0\n",
    "                right_subtree_sum, right_subtree_count = 0, 0\n",
    "                \n",
    "                if root.left:\n",
    "                    left_subtree_sum, left_subtree_count = get_average_of_subtree(root.left)\n",
    "                if root.right:\n",
    "                    right_subtree_sum, right_subtree_count = get_average_of_subtree(root.right)\n",
    "                \n",
    "                subtree_sum = left_subtree_sum + right_subtree_sum + root.val\n",
    "                subtree_count = left_subtree_count + right_subtree_count + 1\n",
    "                \n",
    "                if root.val == subtree_sum // subtree_count:\n",
    "                    self.output += 1\n",
    "                \n",
    "                return subtree_sum, subtree_count\n",
    "            \n",
    "        get_average_of_subtree(root)\n",
    "        return self.output"
   ]
  },
  {
   "cell_type": "code",
   "execution_count": 20,
   "id": "217ce4b9",
   "metadata": {},
   "outputs": [
    {
     "name": "stdout",
     "output_type": "stream",
     "text": [
      "8 3\n",
      "5 5\n",
      "4 4\n"
     ]
    },
    {
     "data": {
      "text/plain": [
       "5"
      ]
     },
     "execution_count": 20,
     "metadata": {},
     "output_type": "execute_result"
    }
   ],
   "source": [
    "root = TreeNode(4, left=TreeNode(8, left=TreeNode(0), right=TreeNode(1)), right=TreeNode(5, right=TreeNode(6)))\n",
    "sol = Solution()\n",
    "sol.averageOfSubtree(root)"
   ]
  },
  {
   "cell_type": "code",
   "execution_count": null,
   "id": "9758d25d",
   "metadata": {},
   "outputs": [],
   "source": [
    "\"\"\"\n",
    "138 / 138 test cases passed.\n",
    "Status: Accepted\n",
    "Runtime: 55 ms\n",
    "Memory Usage: 15.1 MB\n",
    "Submitted: 1 minute ago\n",
    "Notes: Not sure if BFS is possible with this, DFS makes intuitive sense since you need subtree values.\n",
    "\"\"\""
   ]
  }
 ],
 "metadata": {
  "kernelspec": {
   "display_name": "Python 3 (ipykernel)",
   "language": "python",
   "name": "python3"
  },
  "language_info": {
   "codemirror_mode": {
    "name": "ipython",
    "version": 3
   },
   "file_extension": ".py",
   "mimetype": "text/x-python",
   "name": "python",
   "nbconvert_exporter": "python",
   "pygments_lexer": "ipython3",
   "version": "3.9.9"
  }
 },
 "nbformat": 4,
 "nbformat_minor": 5
}
