{
 "cells": [
  {
   "cell_type": "code",
   "execution_count": 68,
   "id": "4a1eb705",
   "metadata": {},
   "outputs": [],
   "source": [
    "from typing import *"
   ]
  },
  {
   "cell_type": "code",
   "execution_count": 77,
   "id": "6c1a4e30",
   "metadata": {},
   "outputs": [],
   "source": [
    "# Definition for a binary tree node.\n",
    "class TreeNode:\n",
    "    def __init__(self, val=0, left=None, right=None):\n",
    "        self.val = val\n",
    "        self.left = left\n",
    "        self.right = right\n",
    "class Solution:\n",
    "    output = 0\n",
    "    def sumEvenGrandparent(self, root: TreeNode) -> int:\n",
    "        def check_add_sum(root, grandparent=None, parent=None):\n",
    "            if not parent:\n",
    "                if root.left:\n",
    "                    check_add_sum(root.left, grandparent=None, parent=root)\n",
    "                if root.right:\n",
    "                    check_add_sum(root.right, grandparent=None, parent=root)\n",
    "            else:        \n",
    "                if grandparent and grandparent.val % 2 == 0:\n",
    "                    print(root.val)\n",
    "                    self.output += root.val\n",
    "                if root.left:\n",
    "                    check_add_sum(root.left, grandparent=parent, parent=root)\n",
    "                if root.right:\n",
    "                    check_add_sum(root.right, grandparent=parent, parent=root)\n",
    "                \n",
    "        check_add_sum(root, None, None)\n",
    "        return self.output"
   ]
  },
  {
   "cell_type": "code",
   "execution_count": 78,
   "id": "edc1d3fb",
   "metadata": {},
   "outputs": [
    {
     "name": "stdout",
     "output_type": "stream",
     "text": [
      "2\n",
      "7\n",
      "1\n",
      "3\n",
      "5\n"
     ]
    },
    {
     "data": {
      "text/plain": [
       "18"
      ]
     },
     "execution_count": 78,
     "metadata": {},
     "output_type": "execute_result"
    }
   ],
   "source": [
    "root = TreeNode(6, left=TreeNode(7, left=TreeNode(2, left=TreeNode(9)), right=TreeNode(7, left=TreeNode(1), right=TreeNode(4))), right=TreeNode(8, left=TreeNode(1), right=TreeNode(3, right=TreeNode(5))))\n",
    "# root = TreeNode(1)\n",
    "sol = Solution()\n",
    "sol.sumEvenGrandparent(root)"
   ]
  },
  {
   "cell_type": "code",
   "execution_count": null,
   "id": "8b223835",
   "metadata": {},
   "outputs": [],
   "source": [
    "\"\"\"\n",
    "76 / 76 test cases passed.\n",
    "Status: Accepted\n",
    "Runtime: 166 ms\n",
    "Memory Usage: 17.8 MB\n",
    "Submitted: 1 minute ago\n",
    "Notes: Requires DFS while passing the grandparent and parent down the recursion. \n",
    "\"\"\""
   ]
  }
 ],
 "metadata": {
  "kernelspec": {
   "display_name": "Python 3 (ipykernel)",
   "language": "python",
   "name": "python3"
  },
  "language_info": {
   "codemirror_mode": {
    "name": "ipython",
    "version": 3
   },
   "file_extension": ".py",
   "mimetype": "text/x-python",
   "name": "python",
   "nbconvert_exporter": "python",
   "pygments_lexer": "ipython3",
   "version": "3.9.9"
  }
 },
 "nbformat": 4,
 "nbformat_minor": 5
}
