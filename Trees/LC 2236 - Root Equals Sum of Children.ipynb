{
 "cells": [
  {
   "cell_type": "code",
   "execution_count": 5,
   "id": "dc2ea075",
   "metadata": {},
   "outputs": [],
   "source": [
    "# Definition for a binary tree node.\n",
    "class TreeNode(object):\n",
    "    def __init__(self, val=0, left=None, right=None):\n",
    "        self.val = val\n",
    "        self.left = left\n",
    "        self.right = right\n",
    "        \n",
    "class Solution(object):\n",
    "    def checkTree(self, root):\n",
    "        \"\"\"\n",
    "        :type root: Optional[TreeNode]\n",
    "        :rtype: bool\n",
    "        \"\"\"\n",
    "        return root.left.val + root.right.val == root.val"
   ]
  },
  {
   "cell_type": "code",
   "execution_count": 7,
   "id": "192f5e3f",
   "metadata": {},
   "outputs": [
    {
     "name": "stdout",
     "output_type": "stream",
     "text": [
      "True\n",
      "True\n"
     ]
    }
   ],
   "source": [
    "root = TreeNode(10, left=TreeNode(4), right=TreeNode(6))\n",
    "sol = Solution()\n",
    "print(sol.checkTree(root) == True)\n",
    "\n",
    "root = TreeNode(5, left=TreeNode(3), right=TreeNode(1))\n",
    "sol = Solution()\n",
    "print(sol.checkTree(root) == False)"
   ]
  },
  {
   "cell_type": "code",
   "execution_count": null,
   "id": "9c0137fd",
   "metadata": {},
   "outputs": [],
   "source": [
    "\"\"\"\n",
    "309 / 309 test cases passed.\n",
    "Status: Accepted\n",
    "Runtime: 30 ms\n",
    "Memory Usage: 13.4 MB\n",
    "Submitted: 0 minutes ago\n",
    "Notes: Easy.\n",
    "\"\"\""
   ]
  }
 ],
 "metadata": {
  "kernelspec": {
   "display_name": "Python 3 (ipykernel)",
   "language": "python",
   "name": "python3"
  },
  "language_info": {
   "codemirror_mode": {
    "name": "ipython",
    "version": 3
   },
   "file_extension": ".py",
   "mimetype": "text/x-python",
   "name": "python",
   "nbconvert_exporter": "python",
   "pygments_lexer": "ipython3",
   "version": "3.9.9"
  }
 },
 "nbformat": 4,
 "nbformat_minor": 5
}
