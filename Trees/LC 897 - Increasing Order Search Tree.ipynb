{
 "cells": [
  {
   "cell_type": "code",
   "execution_count": 10,
   "id": "50019c07",
   "metadata": {},
   "outputs": [],
   "source": [
    "from ListTree import list_to_tree\n",
    "from typing import *\n",
    "from collections import deque"
   ]
  },
  {
   "cell_type": "code",
   "execution_count": 88,
   "id": "648afaed",
   "metadata": {},
   "outputs": [],
   "source": [
    "# Definition for a binary tree node.\n",
    "class TreeNode:\n",
    "    def __init__(self, val=0, left=None, right=None):\n",
    "        self.val = val\n",
    "        self.left = left\n",
    "        self.right = right\n",
    "class Solution:\n",
    "    \n",
    "    def increasingBST(self, root: TreeNode) -> TreeNode:\n",
    "        \n",
    "        def increasingBSTrec(root):\n",
    "            if root.left:\n",
    "                increasingBSTrec(root.left)\n",
    "\n",
    "            right_nodes.append(root.val)\n",
    "\n",
    "            if root.right:\n",
    "                increasingBSTrec(root.right)\n",
    "            \n",
    "        right_nodes = []\n",
    "        \n",
    "        increasingBSTrec(root)\n",
    "        \n",
    "        output = TreeNode(right_nodes.pop())\n",
    "        \n",
    "        if not right_nodes:\n",
    "            return output\n",
    "        while right_nodes:\n",
    "            tail = TreeNode(right_nodes.pop())\n",
    "            tail.right = output\n",
    "            output = tail\n",
    "        return tail"
   ]
  },
  {
   "cell_type": "code",
   "execution_count": 93,
   "id": "e2cb3ace",
   "metadata": {},
   "outputs": [],
   "source": [
    "root = TreeNode(5, left=TreeNode(3, left=TreeNode(2, left=TreeNode(1)), right=TreeNode(4)), right=TreeNode(6, right=TreeNode(8, left=TreeNode(7), right=TreeNode(9))))\n",
    "sol = Solution()\n",
    "result = sol.increasingBST(root)"
   ]
  },
  {
   "cell_type": "code",
   "execution_count": null,
   "id": "60f47e36",
   "metadata": {},
   "outputs": [],
   "source": [
    "\"\"\"\n",
    "38 / 38 test cases passed.\n",
    "Status: Accepted\n",
    "Runtime: 51 ms\n",
    "Memory Usage: 14.1 MB\n",
    "Notes: Tricky thing with this is you have to append a new TreeNode with the values, not the nodes themselves. \n",
    "If you don't think you will get what looks correct if you just traverse the right nodes but is incorrect.\n",
    "\"\"\""
   ]
  }
 ],
 "metadata": {
  "kernelspec": {
   "display_name": "Python 3 (ipykernel)",
   "language": "python",
   "name": "python3"
  },
  "language_info": {
   "codemirror_mode": {
    "name": "ipython",
    "version": 3
   },
   "file_extension": ".py",
   "mimetype": "text/x-python",
   "name": "python",
   "nbconvert_exporter": "python",
   "pygments_lexer": "ipython3",
   "version": "3.9.9"
  }
 },
 "nbformat": 4,
 "nbformat_minor": 5
}
