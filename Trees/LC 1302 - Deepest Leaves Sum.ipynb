{
 "cells": [
  {
   "cell_type": "code",
   "execution_count": 48,
   "id": "a884f8f5",
   "metadata": {},
   "outputs": [],
   "source": [
    "# Definition for a binary tree node.\n",
    "class TreeNode(object):\n",
    "    def __init__(self, val=0, left=None, right=None):\n",
    "        self.val = val\n",
    "        self.left = left\n",
    "        self.right = right\n",
    "class Solution(object):\n",
    "    output = 0\n",
    "    def deepestLeavesSumDict(self, root):\n",
    "        \"\"\"\n",
    "        :type root: TreeNode\n",
    "        :rtype: int\n",
    "        \"\"\"\n",
    "        depth_values = {}\n",
    "        def get_depth_and_value(root, depth):\n",
    "            if depth not in depth_values:\n",
    "                depth_values[depth] = []\n",
    "                depth_values[depth].append(root.val)\n",
    "            else:\n",
    "                depth_values[depth].append(root.val)\n",
    "            if root.left:\n",
    "                get_depth_and_value(root.left, depth + 1)\n",
    "            if root.right:\n",
    "                get_depth_and_value(root.right, depth + 1)\n",
    "        \n",
    "        get_depth_and_value(root, 1)\n",
    "        \n",
    "        max_depth = depth_values[max(depth_values)]\n",
    "        \n",
    "        return sum(max_depth)\n",
    "    def deepestLeavesSum(self, root):\n",
    "        \"\"\"\n",
    "        :type root: TreeNode\n",
    "        :rtype: int\n",
    "        \"\"\"\n",
    "        def get_height(root, depth):\n",
    "            if not root:\n",
    "                return depth - 1\n",
    "            left = get_height(root.left, depth+1)\n",
    "            right = get_height(root.right, depth+1)\n",
    "            return max(left, right)\n",
    "        \n",
    "        height = get_height(root, 0)\n",
    "        \n",
    "        def get_deepest_sums(root, depth: int):\n",
    "            if depth == height:\n",
    "                self.output += root.val\n",
    "            else:\n",
    "                if root.left:\n",
    "                    get_deepest_sums(root.left, depth+1)\n",
    "                if root.right:\n",
    "                    get_deepest_sums(root.right, depth+1)\n",
    "                    \n",
    "        get_deepest_sums(root, 0)\n",
    "        return self.output"
   ]
  },
  {
   "cell_type": "code",
   "execution_count": 49,
   "id": "c53981d8",
   "metadata": {},
   "outputs": [
    {
     "data": {
      "text/plain": [
       "15"
      ]
     },
     "execution_count": 49,
     "metadata": {},
     "output_type": "execute_result"
    }
   ],
   "source": [
    "root = TreeNode(1, left=TreeNode(2, left=TreeNode(4, left=TreeNode(7)), right=TreeNode(5)), right=TreeNode(3, right=TreeNode(6, right=TreeNode(8))))\n",
    "sol = Solution()\n",
    "sol.deepestLeavesSum(root)\n",
    "\n",
    "# root = TreeNode(1, left=TreeNode(2, left=TreeNode(4, left=TreeNode(7)), right=TreeNode(5)), right=TreeNode(3, right=TreeNode(6, right=TreeNode(8))))\n",
    "# sol = Solution()\n",
    "# sol.deepestLeavesSum(root)"
   ]
  },
  {
   "cell_type": "code",
   "execution_count": null,
   "id": "b7bdbb45",
   "metadata": {},
   "outputs": [],
   "source": [
    "\"\"\"\n",
    "39 / 39 test cases passed.\n",
    "Status: Accepted\n",
    "Runtime: 328 ms\n",
    "Memory Usage: 18 MB\n",
    "Submitted: 0 minutes ago\n",
    "Notes: First medium difficulty tree problem done!\n",
    "Used a dict my first time which seems like overkill but works and can return an arbitrary depth's sum which is nice. \n",
    "Then I tried the more intuitive idea of getting the tree's height and then only returning node values whose depths equalled the heights.\n",
    "\"\"\""
   ]
  }
 ],
 "metadata": {
  "kernelspec": {
   "display_name": "Python 3 (ipykernel)",
   "language": "python",
   "name": "python3"
  },
  "language_info": {
   "codemirror_mode": {
    "name": "ipython",
    "version": 3
   },
   "file_extension": ".py",
   "mimetype": "text/x-python",
   "name": "python",
   "nbconvert_exporter": "python",
   "pygments_lexer": "ipython3",
   "version": "3.9.9"
  }
 },
 "nbformat": 4,
 "nbformat_minor": 5
}
