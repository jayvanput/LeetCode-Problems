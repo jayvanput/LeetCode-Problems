{
 "cells": [
  {
   "cell_type": "code",
   "execution_count": 3,
   "id": "9cd42edf",
   "metadata": {},
   "outputs": [],
   "source": [
    "from typing import *"
   ]
  },
  {
   "cell_type": "code",
   "execution_count": 175,
   "id": "381e4946",
   "metadata": {},
   "outputs": [],
   "source": [
    "class Solution:\n",
    "    def generate(self, numRows: int) -> List[List[int]]:\n",
    "        current_iteration = 1\n",
    "        row = [0,1,0]\n",
    "        total_rows = [[1]]\n",
    "        while current_iteration < numRows:\n",
    "            new_row = [0] + [row[x] + row[x+1] for x in range(len(row) - 1)] + [0]\n",
    "            row = new_row\n",
    "            total_rows.append(row[1:-1])\n",
    "            print(row)\n",
    "            current_iteration += 1\n",
    "        return total_rows"
   ]
  },
  {
   "cell_type": "code",
   "execution_count": 176,
   "id": "bdccf740",
   "metadata": {},
   "outputs": [
    {
     "name": "stdout",
     "output_type": "stream",
     "text": [
      "[0, 1, 1, 0]\n",
      "[0, 1, 2, 1, 0]\n",
      "[0, 1, 3, 3, 1, 0]\n",
      "[0, 1, 4, 6, 4, 1, 0]\n"
     ]
    },
    {
     "data": {
      "text/plain": [
       "[[1], [1, 1], [1, 2, 1], [1, 3, 3, 1], [1, 4, 6, 4, 1]]"
      ]
     },
     "execution_count": 176,
     "metadata": {},
     "output_type": "execute_result"
    }
   ],
   "source": [
    "n = 5\n",
    "sol = Solution()\n",
    "sol.generate(5)"
   ]
  },
  {
   "cell_type": "code",
   "execution_count": 82,
   "id": "6f86a15f",
   "metadata": {},
   "outputs": [
    {
     "data": {
      "text/plain": [
       "2"
      ]
     },
     "execution_count": 82,
     "metadata": {},
     "output_type": "execute_result"
    }
   ],
   "source": [
    "5 // 2"
   ]
  },
  {
   "cell_type": "code",
   "execution_count": null,
   "id": "54b7c350",
   "metadata": {},
   "outputs": [],
   "source": [
    "\"\"\"\n",
    "14 / 14 test cases passed.\n",
    "Status: Accepted\n",
    "Runtime: 58 ms\n",
    "Memory Usage: 13.9 MB\n",
    "Submitted: 26 minutes ago\n",
    "Notes: I do not like DP since it is very unintuitive always. This iterative approach works fine enough. I'll come back to it.\n",
    "\"\"\""
   ]
  }
 ],
 "metadata": {
  "kernelspec": {
   "display_name": "Python 3 (ipykernel)",
   "language": "python",
   "name": "python3"
  },
  "language_info": {
   "codemirror_mode": {
    "name": "ipython",
    "version": 3
   },
   "file_extension": ".py",
   "mimetype": "text/x-python",
   "name": "python",
   "nbconvert_exporter": "python",
   "pygments_lexer": "ipython3",
   "version": "3.9.9"
  }
 },
 "nbformat": 4,
 "nbformat_minor": 5
}
