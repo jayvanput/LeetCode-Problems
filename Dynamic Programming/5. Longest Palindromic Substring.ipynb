{
 "cells": [
  {
   "cell_type": "code",
   "execution_count": 97,
   "metadata": {},
   "outputs": [],
   "source": [
    "from collections import deque"
   ]
  },
  {
   "cell_type": "code",
   "execution_count": 120,
   "metadata": {},
   "outputs": [],
   "source": [
    "class Solution:\n",
    "    def longestPalindrome(self, s: str) -> str:\n",
    "        output = \"\"\n",
    "        for index in range(len(s)):\n",
    "            check: deque[str] = deque()\n",
    "            # Handle the odd case\n",
    "            i = j = index\n",
    "            while s[i] == s[j]:\n",
    "                if i != j:\n",
    "                    check.appendleft(s[i])\n",
    "                    check.append(s[j])\n",
    "                else:\n",
    "                    check.appendleft(s[j])\n",
    "                i -= 1\n",
    "                j += 1\n",
    "                if i < 0 or j > len(s) -1:\n",
    "                    break\n",
    "            print(i, j)\n",
    "            if len(check) > len(output):\n",
    "                output = \"\".join(check)\n",
    "            # Handle the even case\n",
    "            check: deque[str] = deque()\n",
    "            i = index\n",
    "            j = index + 1\n",
    "            if j > len(s) - 1:\n",
    "                break\n",
    "            while s[i] == s[j]:\n",
    "                check.appendleft(s[i])\n",
    "                check.append(s[j])\n",
    "                i -= 1\n",
    "                j += 1\n",
    "                if i < 0 or j > len(s) -1:\n",
    "                    break\n",
    "            if len(check) > len(output):\n",
    "                output = \"\".join(check)\n",
    "        return output"
   ]
  },
  {
   "cell_type": "code",
   "execution_count": 121,
   "metadata": {},
   "outputs": [
    {
     "name": "stdout",
     "output_type": "stream",
     "text": [
      "-1 1\n",
      "0 1\n",
      "0 2\n",
      "0 3\n",
      "1 3\n",
      "2 3\n",
      "2 4\n"
     ]
    },
    {
     "data": {
      "text/plain": [
       "'bb'"
      ]
     },
     "execution_count": 121,
     "metadata": {},
     "output_type": "execute_result"
    }
   ],
   "source": [
    "s = \"abbd\"\n",
    "sol = Solution()\n",
    "sol.longestPalindrome(s)"
   ]
  },
  {
   "cell_type": "code",
   "execution_count": 66,
   "metadata": {},
   "outputs": [
    {
     "ename": "NameError",
     "evalue": "name 'reverse_s' is not defined",
     "output_type": "error",
     "traceback": [
      "\u001b[1;31m---------------------------------------------------------------------------\u001b[0m",
      "\u001b[1;31mNameError\u001b[0m                                 Traceback (most recent call last)",
      "\u001b[1;32md:\\Projects\\LeetCode problems\\Dynamic Programming\\5. Longest Palindromic Substring.ipynb Cell 3\u001b[0m in \u001b[0;36m<cell line: 1>\u001b[1;34m()\u001b[0m\n\u001b[1;32m----> <a href='vscode-notebook-cell:/d%3A/Projects/LeetCode%20problems/Dynamic%20Programming/5.%20Longest%20Palindromic%20Substring.ipynb#W2sZmlsZQ%3D%3D?line=0'>1</a>\u001b[0m reverse_s\n",
      "\u001b[1;31mNameError\u001b[0m: name 'reverse_s' is not defined"
     ]
    }
   ],
   "source": [
    "\"\"\"\n",
    "Runtime1005 ms\n",
    "Beats\n",
    "61.71%\n",
    "Memory14.2 MB\n",
    "Notes: 2 bad days in a row. I couldn't figure this one out and of course it's a dynamic programming problem. I hate these and still don't know\n",
    "how to do them even with the solutions. But at least I wrote this solution myself.\n",
    "\"\"\""
   ]
  },
  {
   "cell_type": "code",
   "execution_count": null,
   "metadata": {},
   "outputs": [],
   "source": []
  }
 ],
 "metadata": {
  "kernelspec": {
   "display_name": "testing",
   "language": "python",
   "name": "python3"
  },
  "language_info": {
   "codemirror_mode": {
    "name": "ipython",
    "version": 3
   },
   "file_extension": ".py",
   "mimetype": "text/x-python",
   "name": "python",
   "nbconvert_exporter": "python",
   "pygments_lexer": "ipython3",
   "version": "3.9.9"
  },
  "orig_nbformat": 4,
  "vscode": {
   "interpreter": {
    "hash": "fb79f887f98bf1425cfd8e046db197159ed36d1ac9d9565e603c221fb1d3efe4"
   }
  }
 },
 "nbformat": 4,
 "nbformat_minor": 2
}
