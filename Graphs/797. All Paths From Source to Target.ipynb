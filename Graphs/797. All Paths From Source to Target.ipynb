{
 "cells": [
  {
   "cell_type": "code",
   "execution_count": 11,
   "metadata": {},
   "outputs": [],
   "source": [
    "class Solution:\n",
    "    def allPathsSourceTarget(self, graph: list[list[int]]) -> list[list[int]]:\n",
    "        end = len(graph) - 1\n",
    "        output: list[list[int]] = []\n",
    "\n",
    "        def check_next_step(current_index: int, current_path: list[int]):\n",
    "            for node in graph[current_index]:\n",
    "                next_path = [x for x in current_path]\n",
    "                next_path.append(node)\n",
    "                if node == end:\n",
    "                    output.append(next_path)\n",
    "                else:\n",
    "                    check_next_step(node, next_path)\n",
    "        current_path = [0]\n",
    "\n",
    "        check_next_step(0, current_path)\n",
    "        return output"
   ]
  },
  {
   "cell_type": "code",
   "execution_count": 12,
   "metadata": {},
   "outputs": [
    {
     "data": {
      "text/plain": [
       "[[0, 4], [0, 3, 4], [0, 1, 3, 4], [0, 1, 2, 3, 4], [0, 1, 4]]"
      ]
     },
     "execution_count": 12,
     "metadata": {},
     "output_type": "execute_result"
    }
   ],
   "source": [
    "graph = [[1,2],[3],[3],[]]\n",
    "sol = Solution()\n",
    "sol.allPathsSourceTarget(graph)"
   ]
  },
  {
   "cell_type": "code",
   "execution_count": null,
   "metadata": {},
   "outputs": [],
   "source": [
    "\"\"\"\n",
    "Runtime101 ms\n",
    "Beats\n",
    "81.75%\n",
    "Memory15.8 MB\n",
    "Notes: DFS to find all paths. I think there are better ways to build \"next_path\" but this worked.\n",
    "\"\"\""
   ]
  }
 ],
 "metadata": {
  "kernelspec": {
   "display_name": "testing",
   "language": "python",
   "name": "python3"
  },
  "language_info": {
   "codemirror_mode": {
    "name": "ipython",
    "version": 3
   },
   "file_extension": ".py",
   "mimetype": "text/x-python",
   "name": "python",
   "nbconvert_exporter": "python",
   "pygments_lexer": "ipython3",
   "version": "3.9.9 (tags/v3.9.9:ccb0e6a, Nov 15 2021, 18:08:50) [MSC v.1929 64 bit (AMD64)]"
  },
  "orig_nbformat": 4,
  "vscode": {
   "interpreter": {
    "hash": "fb79f887f98bf1425cfd8e046db197159ed36d1ac9d9565e603c221fb1d3efe4"
   }
  }
 },
 "nbformat": 4,
 "nbformat_minor": 2
}
