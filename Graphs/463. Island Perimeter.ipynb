{
 "cells": [
  {
   "cell_type": "code",
   "execution_count": 23,
   "metadata": {},
   "outputs": [],
   "source": [
    "class Solution:\n",
    "    def islandPerimeter(self, grid: list[list[int]]) -> int:\n",
    "        edges = 0\n",
    "        ROW_NUM = len(grid)\n",
    "        COL_NUM = len(grid[0])\n",
    "        for row_idx, row in enumerate(grid):\n",
    "            for col_idx, col in enumerate(row):\n",
    "                if col != 1:\n",
    "                    continue\n",
    "                cell_edges = 4\n",
    "                # Handle above\n",
    "                if row_idx > 0:\n",
    "                    if grid[row_idx-1][col_idx] == 1:\n",
    "                        cell_edges -= 1\n",
    "                # Handle right\n",
    "                if row_idx < ROW_NUM - 1:\n",
    "                    if grid[row_idx+1][col_idx] == 1:\n",
    "                        cell_edges -= 1\n",
    "                # Handle below\n",
    "                if col_idx < COL_NUM - 1:\n",
    "                    if grid[row_idx][col_idx+1] == 1:\n",
    "                        cell_edges -= 1\n",
    "                # Handle left\n",
    "                if col_idx > 0:\n",
    "                    if grid[row_idx][col_idx-1] == 1:\n",
    "                        cell_edges -= 1\n",
    "                edges += cell_edges\n",
    "        return edges"
   ]
  },
  {
   "cell_type": "code",
   "execution_count": 24,
   "metadata": {},
   "outputs": [
    {
     "data": {
      "text/plain": [
       "16"
      ]
     },
     "execution_count": 24,
     "metadata": {},
     "output_type": "execute_result"
    }
   ],
   "source": [
    "grid = [[0,1,0,0],[1,1,1,0],[0,1,0,0],[1,1,0,0]]\n",
    "sol = Solution()\n",
    "sol.islandPerimeter(grid)"
   ]
  },
  {
   "cell_type": "code",
   "execution_count": null,
   "metadata": {},
   "outputs": [],
   "source": [
    "\"\"\"\n",
    "Runtime684 ms\n",
    "Beats\n",
    "67.42%\n",
    "Memory14.3 MB\n",
    "Notes: This was not BFS, since we can just loop over each cell and count the neighbors. Runs in O(n*m).\n",
    "\"\"\""
   ]
  }
 ],
 "metadata": {
  "kernelspec": {
   "display_name": "testing",
   "language": "python",
   "name": "python3"
  },
  "language_info": {
   "codemirror_mode": {
    "name": "ipython",
    "version": 3
   },
   "file_extension": ".py",
   "mimetype": "text/x-python",
   "name": "python",
   "nbconvert_exporter": "python",
   "pygments_lexer": "ipython3",
   "version": "3.9.9"
  },
  "orig_nbformat": 4,
  "vscode": {
   "interpreter": {
    "hash": "fb79f887f98bf1425cfd8e046db197159ed36d1ac9d9565e603c221fb1d3efe4"
   }
  }
 },
 "nbformat": 4,
 "nbformat_minor": 2
}
