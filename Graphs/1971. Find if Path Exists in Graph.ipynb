{
 "cells": [
  {
   "cell_type": "code",
   "execution_count": 113,
   "metadata": {},
   "outputs": [],
   "source": [
    "from collections import deque, defaultdict"
   ]
  },
  {
   "cell_type": "code",
   "execution_count": 114,
   "metadata": {},
   "outputs": [],
   "source": [
    "class Solution:\n",
    "    def validPath(self, n: int, edges: list[list[int]], source: int, destination: int) -> bool:\n",
    "        incident_edges: dict[int, list[int]] = defaultdict(list)\n",
    "        for n1, n2 in edges:\n",
    "\n",
    "            incident_edges[n1].append(n2)\n",
    "            incident_edges[n2].append(n1)\n",
    "\n",
    "        nodes: deque[int] = deque([source])\n",
    "        discovered: set[int] = set()\n",
    "        discovered.add(source)\n",
    "        output = False\n",
    "        while nodes:\n",
    "            for edge in incident_edges[nodes[0]]:\n",
    "                if edge not in discovered:\n",
    "                    nodes.append(edge)\n",
    "                discovered.add(edge)\n",
    "            nodes.popleft()\n",
    "        if destination in discovered:\n",
    "            output = True\n",
    "        return output\n"
   ]
  },
  {
   "cell_type": "code",
   "execution_count": 115,
   "metadata": {},
   "outputs": [
    {
     "data": {
      "text/plain": [
       "True"
      ]
     },
     "execution_count": 115,
     "metadata": {},
     "output_type": "execute_result"
    }
   ],
   "source": [
    "n = 10\n",
    "edges = [[4,3],[1,4],[4,8],[1,7],[6,4],[4,2],[7,4],[4,0],[0,9],[5,4]]\n",
    "source = 5\n",
    "destination = 9\n",
    "sol = Solution()\n",
    "sol.validPath(n, edges, source, destination)"
   ]
  },
  {
   "cell_type": "code",
   "execution_count": null,
   "metadata": {},
   "outputs": [],
   "source": [
    "\"\"\"\n",
    "Runtime2090 ms\n",
    "Beats\n",
    "76.57%\n",
    "Memory104.8 MB\n",
    "Notes: Had time complexity issue because I didn't build the adjacency list structure, so I kept looping over every edge instead of just\n",
    "node \"u\"'s incident edges. This lowered the complexity of looping from O(m) (where m is the # of edges) to O(deg(u)) (the # of incident \n",
    "edges of node u).\n",
    "\"\"\""
   ]
  }
 ],
 "metadata": {
  "kernelspec": {
   "display_name": "testing",
   "language": "python",
   "name": "python3"
  },
  "language_info": {
   "codemirror_mode": {
    "name": "ipython",
    "version": 3
   },
   "file_extension": ".py",
   "mimetype": "text/x-python",
   "name": "python",
   "nbconvert_exporter": "python",
   "pygments_lexer": "ipython3",
   "version": "3.9.9 (tags/v3.9.9:ccb0e6a, Nov 15 2021, 18:08:50) [MSC v.1929 64 bit (AMD64)]"
  },
  "orig_nbformat": 4,
  "vscode": {
   "interpreter": {
    "hash": "fb79f887f98bf1425cfd8e046db197159ed36d1ac9d9565e603c221fb1d3efe4"
   }
  }
 },
 "nbformat": 4,
 "nbformat_minor": 2
}
