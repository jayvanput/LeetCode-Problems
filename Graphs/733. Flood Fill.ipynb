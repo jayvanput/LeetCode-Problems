{
 "cells": [
  {
   "cell_type": "code",
   "execution_count": 48,
   "metadata": {},
   "outputs": [],
   "source": [
    "class Solution:\n",
    "    def floodFill(self, grid: list[list[int]], sr: int, sc: int, color: int) -> list[list[int]]:\n",
    "        VALUE = grid[sr][sc]\n",
    "        ROW_NUM = len(grid)\n",
    "        COL_NUM = len(grid[0])\n",
    "        pixels = [(sr, sc)]\n",
    "        discovered: set[tuple[int, int]] = set()\n",
    "        while pixels:\n",
    "            current_pixel = pixels.pop()\n",
    "            row_idx = current_pixel[0]\n",
    "            col_idx = current_pixel[1]\n",
    "            print(current_pixel, row_idx, col_idx, VALUE)\n",
    "            grid[row_idx][col_idx] = color\n",
    "            # Handle above\n",
    "            if row_idx > 0:\n",
    "                if grid[row_idx-1][col_idx] == VALUE:\n",
    "                    if (row_idx-1,col_idx) not in discovered:\n",
    "                        pixels.append((row_idx-1,col_idx))\n",
    "                    discovered.add((row_idx-1,col_idx))\n",
    "            # Handle right\n",
    "            if row_idx < ROW_NUM - 1:\n",
    "                if grid[row_idx+1][col_idx] == VALUE:\n",
    "                    if (row_idx,col_idx+1) not in discovered:\n",
    "                        pixels.append((row_idx+1,col_idx))\n",
    "                    discovered.add((row_idx+1,col_idx))\n",
    "            # Handle below\n",
    "            if col_idx < COL_NUM - 1:\n",
    "                if grid[row_idx][col_idx+1] == VALUE:\n",
    "                    if (row_idx,col_idx+1) not in discovered:\n",
    "                        pixels.append((row_idx,col_idx+1))\n",
    "                    discovered.add((row_idx,col_idx+1))\n",
    "            # Handle left\n",
    "            if col_idx > 0:\n",
    "                if grid[row_idx][col_idx-1] == VALUE:\n",
    "                    if (row_idx,col_idx-1) not in discovered:\n",
    "                        pixels.append((row_idx,col_idx-1))\n",
    "                    discovered.add((row_idx,col_idx-1))\n",
    "        return grid"
   ]
  },
  {
   "cell_type": "code",
   "execution_count": 49,
   "metadata": {},
   "outputs": [
    {
     "name": "stdout",
     "output_type": "stream",
     "text": [
      "(1, 1) 1 1 1\n",
      "(1, 0) 1 0 1\n",
      "(2, 0) 2 0 1\n",
      "(0, 0) 0 0 1\n",
      "(0, 1) 0 1 1\n",
      "(0, 2) 0 2 1\n"
     ]
    },
    {
     "data": {
      "text/plain": [
       "[[2, 2, 2], [2, 2, 0], [2, 0, 1]]"
      ]
     },
     "execution_count": 49,
     "metadata": {},
     "output_type": "execute_result"
    }
   ],
   "source": [
    "image = [[1,1,1],[1,1,0],[1,0,1]]\n",
    "sr = 1\n",
    "sc = 1\n",
    "color = 2\n",
    "sol = Solution()\n",
    "sol.floodFill(image, sr, sc, color)"
   ]
  },
  {
   "cell_type": "code",
   "execution_count": null,
   "metadata": {},
   "outputs": [],
   "source": [
    "\"\"\"\"\n",
    "Runtime84 ms\n",
    "Beats\n",
    "71.76%\n",
    "Memory14.2 MB\n",
    "Notes: BFS search. Big thing is to use tuple representation of the pixel positions since they are hashable. This is faster than iterating over \n",
    "a list of the values.\n",
    "\"\"\""
   ]
  },
  {
   "cell_type": "code",
   "execution_count": 43,
   "metadata": {},
   "outputs": [
    {
     "ename": "TypeError",
     "evalue": "unhashable type: 'list'",
     "output_type": "error",
     "traceback": [
      "\u001b[1;31m---------------------------------------------------------------------------\u001b[0m",
      "\u001b[1;31mTypeError\u001b[0m                                 Traceback (most recent call last)",
      "\u001b[1;32md:\\Projects\\LeetCode problems\\Graphs\\733. Flood Fill.ipynb Cell 4\u001b[0m in \u001b[0;36m<cell line: 1>\u001b[1;34m()\u001b[0m\n\u001b[1;32m----> <a href='vscode-notebook-cell:/d%3A/Projects/LeetCode%20problems/Graphs/733.%20Flood%20Fill.ipynb#W6sZmlsZQ%3D%3D?line=0'>1</a>\u001b[0m \u001b[39mhash\u001b[39;49m([\u001b[39m1\u001b[39;49m,\u001b[39m2\u001b[39;49m,\u001b[39m3\u001b[39;49m])\n",
      "\u001b[1;31mTypeError\u001b[0m: unhashable type: 'list'"
     ]
    }
   ],
   "source": [
    "hash([1,2,3])"
   ]
  },
  {
   "cell_type": "code",
   "execution_count": null,
   "metadata": {},
   "outputs": [],
   "source": []
  }
 ],
 "metadata": {
  "kernelspec": {
   "display_name": "testing",
   "language": "python",
   "name": "python3"
  },
  "language_info": {
   "codemirror_mode": {
    "name": "ipython",
    "version": 3
   },
   "file_extension": ".py",
   "mimetype": "text/x-python",
   "name": "python",
   "nbconvert_exporter": "python",
   "pygments_lexer": "ipython3",
   "version": "3.9.9"
  },
  "orig_nbformat": 4,
  "vscode": {
   "interpreter": {
    "hash": "fb79f887f98bf1425cfd8e046db197159ed36d1ac9d9565e603c221fb1d3efe4"
   }
  }
 },
 "nbformat": 4,
 "nbformat_minor": 2
}
