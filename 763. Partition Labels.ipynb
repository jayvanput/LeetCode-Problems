{
 "cells": [
  {
   "cell_type": "code",
   "execution_count": 1,
   "metadata": {},
   "outputs": [],
   "source": [
    "from typing import *"
   ]
  },
  {
   "cell_type": "code",
   "execution_count": 65,
   "metadata": {},
   "outputs": [],
   "source": [
    "class Solution:\n",
    "    def partitionLabels(self, s: str) -> List[int]:\n",
    "        \n",
    "        # get unique letters in order, sets are random\n",
    "        unique_letters_in_order: List[str] = []\n",
    "        letter_bounds = {}\n",
    "        for x in s:\n",
    "            # Handle list of unique letters\n",
    "            if x not in unique_letters_in_order:\n",
    "                unique_letters_in_order.append(x)\n",
    "            # Handle finding the borders of each letter\n",
    "            if x not in letter_bounds:\n",
    "                lower_bound = s.find(x)\n",
    "                upper_bound = s.rfind(x) + 1\n",
    "                letter_bounds[x] = [lower_bound, upper_bound]\n",
    "\n",
    "        partitions: List[List[int]] = []\n",
    "        # Initialize first partition\n",
    "        partition: List[int] = letter_bounds[s[0]]\n",
    "\n",
    "        for letter in unique_letters_in_order:\n",
    "            lower: int\n",
    "            upper: int\n",
    "            lower, upper = letter_bounds[letter]\n",
    "            # If the letter is within the partition but exceeds the upper bound, we extend the upper bound.\n",
    "            if lower < partition[1] and upper > partition[1]:\n",
    "                partition[1] = upper\n",
    "            # If the lower bound exceeds the upper, then we create a new partition using this letter.\n",
    "            if lower >= partition[1]:\n",
    "                partitions.append(partition)\n",
    "                partition = letter_bounds[letter]\n",
    "\n",
    "        # Get the final partition\n",
    "        partitions.append(partition)\n",
    "\n",
    "        output = [x[1] - x[0] for x in partitions]\n",
    "\n",
    "        # return unique_letters\n",
    "        return output\n",
    "\n"
   ]
  },
  {
   "cell_type": "code",
   "execution_count": 66,
   "metadata": {},
   "outputs": [
    {
     "data": {
      "text/plain": [
       "[9, 7, 8]"
      ]
     },
     "execution_count": 66,
     "metadata": {},
     "output_type": "execute_result"
    }
   ],
   "source": [
    "s = \"ababcbacadefegdehijhklij\"\n",
    "sol = Solution()\n",
    "sol.partitionLabels(s)"
   ]
  },
  {
   "cell_type": "code",
   "execution_count": null,
   "metadata": {},
   "outputs": [],
   "source": [
    "\"\"\"\n",
    "Runtime60 ms\n",
    "Beats\n",
    "78.6%\n",
    "Memory14 MB\n",
    "Notes: Not super efficient since we do 2 loops, 1 over the letters and 1 over the unique letters. \n",
    "\"\"\""
   ]
  }
 ],
 "metadata": {
  "kernelspec": {
   "display_name": "Python 3.9.9 ('testing')",
   "language": "python",
   "name": "python3"
  },
  "language_info": {
   "codemirror_mode": {
    "name": "ipython",
    "version": 3
   },
   "file_extension": ".py",
   "mimetype": "text/x-python",
   "name": "python",
   "nbconvert_exporter": "python",
   "pygments_lexer": "ipython3",
   "version": "3.9.9"
  },
  "orig_nbformat": 4,
  "vscode": {
   "interpreter": {
    "hash": "fb79f887f98bf1425cfd8e046db197159ed36d1ac9d9565e603c221fb1d3efe4"
   }
  }
 },
 "nbformat": 4,
 "nbformat_minor": 2
}
