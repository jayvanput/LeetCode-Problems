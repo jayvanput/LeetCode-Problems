{
 "cells": [
  {
   "cell_type": "code",
   "execution_count": 37,
   "id": "a1c08c68",
   "metadata": {},
   "outputs": [],
   "source": [
    "class Solution:\n",
    "    \n",
    "    def calculate_next(self, n: int) -> int:\n",
    "        next_int = 0\n",
    "        for i in str(n):\n",
    "            next_int += int(i) ** 2\n",
    "        return next_int\n",
    "    \n",
    "    def isHappy(self, n: int) -> bool:\n",
    "        past_values = set()\n",
    "        current_value = n\n",
    "        while current_value not in past_values:\n",
    "            past_values.add(current_value)\n",
    "            print(current_value, past_values)\n",
    "            if current_value == 1:\n",
    "                return True\n",
    "            else:\n",
    "                current_value =  self.calculate_next(current_value)\n",
    "        return False"
   ]
  },
  {
   "cell_type": "code",
   "execution_count": 39,
   "id": "374a553a",
   "metadata": {},
   "outputs": [
    {
     "name": "stdout",
     "output_type": "stream",
     "text": [
      "19 {19}\n",
      "82 {82, 19}\n",
      "68 {82, 19, 68}\n",
      "100 {100, 82, 19, 68}\n",
      "1 {1, 100, 68, 82, 19}\n",
      "True\n",
      "2 {2}\n",
      "4 {2, 4}\n",
      "16 {16, 2, 4}\n",
      "37 {16, 2, 4, 37}\n",
      "58 {2, 4, 37, 16, 58}\n",
      "89 {2, 4, 37, 16, 89, 58}\n",
      "145 {2, 4, 37, 16, 145, 89, 58}\n",
      "42 {2, 4, 37, 42, 16, 145, 89, 58}\n",
      "20 {2, 4, 37, 42, 16, 145, 20, 89, 58}\n"
     ]
    },
    {
     "data": {
      "text/plain": [
       "False"
      ]
     },
     "execution_count": 39,
     "metadata": {},
     "output_type": "execute_result"
    }
   ],
   "source": [
    "n = 19\n",
    "sol = Solution()\n",
    "print(sol.isHappy(n))\n",
    "\n",
    "n = 2\n",
    "sol = Solution()\n",
    "sol.isHappy(n)"
   ]
  },
  {
   "cell_type": "code",
   "execution_count": null,
   "id": "3e112dfe",
   "metadata": {},
   "outputs": [],
   "source": []
  }
 ],
 "metadata": {
  "kernelspec": {
   "display_name": "Python 3 (ipykernel)",
   "language": "python",
   "name": "python3"
  },
  "language_info": {
   "codemirror_mode": {
    "name": "ipython",
    "version": 3
   },
   "file_extension": ".py",
   "mimetype": "text/x-python",
   "name": "python",
   "nbconvert_exporter": "python",
   "pygments_lexer": "ipython3",
   "version": "3.9.9"
  }
 },
 "nbformat": 4,
 "nbformat_minor": 5
}
