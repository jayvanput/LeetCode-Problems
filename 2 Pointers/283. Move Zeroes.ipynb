{
 "cells": [
  {
   "cell_type": "code",
   "execution_count": 3,
   "metadata": {},
   "outputs": [],
   "source": [
    "from typing import *"
   ]
  },
  {
   "cell_type": "code",
   "execution_count": 49,
   "metadata": {},
   "outputs": [],
   "source": [
    "class Solution:\n",
    "    def moveZeroes(self, nums: List[int]) -> None:\n",
    "        \"\"\"a\n",
    "        Do not return anything, modify nums in-place instead.\n",
    "        \"\"\"\n",
    "        n = len(nums)\n",
    "        i = 0\n",
    "        for j in range(n):\n",
    "            if (nums[j] != 0):\n",
    "                nums[i], nums[j] = nums[j], nums[i]\n",
    "                i += 1\n",
    "        print(nums)\n",
    "        \n",
    "    def moveZeroes2(self, nums: List[int]) -> None:\n",
    "        non_zeroes: list[int] = []\n",
    "\n",
    "        for i in nums:\n",
    "            if i != 0:\n",
    "                non_zeroes.append(i)\n",
    "\n",
    "        for index, value in enumerate(non_zeroes):\n",
    "            nums[index] = value\n",
    "        \n",
    "        for i in range(len(non_zeroes), len(nums)):\n",
    "            nums[i] = 0\n",
    "        "
   ]
  },
  {
   "cell_type": "code",
   "execution_count": 50,
   "metadata": {},
   "outputs": [
    {
     "name": "stdout",
     "output_type": "stream",
     "text": [
      "[1, 3, 12, 0, 0]\n"
     ]
    }
   ],
   "source": [
    "nums = [0,1,0,3,12]\n",
    "sol = Solution()\n",
    "sol.moveZeroes(nums)"
   ]
  },
  {
   "cell_type": "code",
   "execution_count": null,
   "metadata": {},
   "outputs": [],
   "source": [
    "\"\"\"\n",
    "74 / 74 test cases passed.\n",
    "Status: Accepted\n",
    "Runtime: 7105 ms\n",
    "Memory Usage: 15.5 MB\n",
    "Notes: Had a non-elegant solution that was O(n) and O(1) space. This was very inefficient but worked in the fastest time complexity, had too much logic though. Easier to just iterate through the list and swap it forward then put \n",
    "the next non-zero in the next index.\n",
    "\"\"\""
   ]
  }
 ],
 "metadata": {
  "kernelspec": {
   "display_name": "Python 3.9.9 ('testing')",
   "language": "python",
   "name": "python3"
  },
  "language_info": {
   "codemirror_mode": {
    "name": "ipython",
    "version": 3
   },
   "file_extension": ".py",
   "mimetype": "text/x-python",
   "name": "python",
   "nbconvert_exporter": "python",
   "pygments_lexer": "ipython3",
   "version": "3.9.9"
  },
  "orig_nbformat": 4,
  "vscode": {
   "interpreter": {
    "hash": "fb79f887f98bf1425cfd8e046db197159ed36d1ac9d9565e603c221fb1d3efe4"
   }
  }
 },
 "nbformat": 4,
 "nbformat_minor": 2
}
