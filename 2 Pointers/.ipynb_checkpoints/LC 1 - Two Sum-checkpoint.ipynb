{
 "cells": [
  {
   "cell_type": "code",
   "execution_count": 1,
   "id": "774780a0",
   "metadata": {},
   "outputs": [],
   "source": [
    "class Solution(object):\n",
    "    def twoSum(self, nums, target):\n",
    "        \"\"\"\n",
    "        :type nums: List[int]\n",
    "        :type target: int\n",
    "        :rtype: List[int]\n",
    "        \"\"\"\n",
    "        for index in range(len(nums)):\n",
    "            for index2 in range(index + 1, len(nums)):\n",
    "                if nums[index] + nums[index2] == target:\n",
    "                    return index, index2"
   ]
  },
  {
   "cell_type": "code",
   "execution_count": null,
   "id": "8864217e",
   "metadata": {},
   "outputs": [],
   "source": [
    "\"\"\"\n",
    "57 / 57 test cases passed.\n",
    "Status: Accepted\n",
    "Runtime: 4482 ms\n",
    "Memory Usage: 14.4 MB\n",
    "Submitted: 0 minutes ago\n",
    "Notes: None\n",
    "\"\"\""
   ]
  }
 ],
 "metadata": {
  "kernelspec": {
   "display_name": "Python 3 (ipykernel)",
   "language": "python",
   "name": "python3"
  },
  "language_info": {
   "codemirror_mode": {
    "name": "ipython",
    "version": 3
   },
   "file_extension": ".py",
   "mimetype": "text/x-python",
   "name": "python",
   "nbconvert_exporter": "python",
   "pygments_lexer": "ipython3",
   "version": "3.9.9"
  }
 },
 "nbformat": 4,
 "nbformat_minor": 5
}
