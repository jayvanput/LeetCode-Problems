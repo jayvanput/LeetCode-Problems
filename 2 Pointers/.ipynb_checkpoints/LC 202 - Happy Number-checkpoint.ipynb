{
 "cells": [
  {
   "cell_type": "code",
   "execution_count": 2,
   "id": "fdc65cf2",
   "metadata": {},
   "outputs": [],
   "source": [
    "class Solution:\n",
    "    \n",
    "    def calculate_next(self, n: int) -> int:\n",
    "        next_int = 0\n",
    "        for i in str(n):\n",
    "            next_int += i ** 2\n",
    "        return next_int\n",
    "    \n",
    "    def isHappy(self, n: int) -> bool:\n",
    "        return self.calculate_next(n)"
   ]
  },
  {
   "cell_type": "code",
   "execution_count": null,
   "id": "1c5beb5a",
   "metadata": {},
   "outputs": [],
   "source": [
    "n = 19\n",
    "sol = Solution()\n",
    "sol.isHappy(n)\n",
    "\n",
    "n = 2\n",
    "sol = Solution()\n",
    "sol.isHappy()"
   ]
  }
 ],
 "metadata": {
  "kernelspec": {
   "display_name": "Python 3 (ipykernel)",
   "language": "python",
   "name": "python3"
  },
  "language_info": {
   "codemirror_mode": {
    "name": "ipython",
    "version": 3
   },
   "file_extension": ".py",
   "mimetype": "text/x-python",
   "name": "python",
   "nbconvert_exporter": "python",
   "pygments_lexer": "ipython3",
   "version": "3.9.9"
  }
 },
 "nbformat": 4,
 "nbformat_minor": 5
}
