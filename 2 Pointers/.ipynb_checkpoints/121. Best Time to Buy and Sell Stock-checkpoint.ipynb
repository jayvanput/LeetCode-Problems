{
 "cells": [
  {
   "cell_type": "code",
   "execution_count": 1,
   "id": "73a863f1",
   "metadata": {},
   "outputs": [],
   "source": [
    "from typing import *"
   ]
  },
  {
   "cell_type": "code",
   "execution_count": 44,
   "id": "c4cfc57c",
   "metadata": {},
   "outputs": [],
   "source": [
    "class Solution:\n",
    "    def maxProfit(self, prices: List[int]) -> int:\n",
    "        buy, sell = 0, 1\n",
    "        max_profit = 0\n",
    "        while sell < len(prices):\n",
    "            print(buy, sell)\n",
    "            current_profit = prices[sell] - prices[buy]\n",
    "            if prices[buy] < prices[sell]:\n",
    "                max_profit = max(max_profit, current_profit)\n",
    "            else:\n",
    "                buy = sell\n",
    "            sell += 1\n",
    "        return max_profit\n",
    "        \n",
    "                "
   ]
  },
  {
   "cell_type": "code",
   "execution_count": 46,
   "id": "2e761f42",
   "metadata": {},
   "outputs": [
    {
     "name": "stdout",
     "output_type": "stream",
     "text": [
      "0 1\n",
      "1 2\n",
      "2 3\n",
      "2 4\n",
      "2 5\n"
     ]
    },
    {
     "data": {
      "text/plain": [
       "5"
      ]
     },
     "execution_count": 46,
     "metadata": {},
     "output_type": "execute_result"
    }
   ],
   "source": [
    "prices = [7,5,1,3,6,4]\n",
    "sol = Solution()\n",
    "sol.maxProfit(prices)"
   ]
  },
  {
   "cell_type": "code",
   "execution_count": null,
   "id": "66002720",
   "metadata": {},
   "outputs": [],
   "source": [
    "\"\"\"\n",
    "211 / 211 test cases passed.\n",
    "Status: Accepted\n",
    "Runtime: 1497 ms\n",
    "Memory Usage: 25 MB\n",
    "Notes: I couldn't solve this one with an O(n) solution. 2 pointers can be used to do it in O(n). Start pointers at \n",
    "positions 0 and 1. Calculate the profit they give. If this profit is positive, check if it is the new maximum profit and\n",
    "check the next sell day. If this profit was negative, we know that there is a better value to use for the \n",
    "sell (the sell itself). So we set the new buy to that sell.\n",
    "\"\"\""
   ]
  }
 ],
 "metadata": {
  "kernelspec": {
   "display_name": "Python 3 (ipykernel)",
   "language": "python",
   "name": "python3"
  },
  "language_info": {
   "codemirror_mode": {
    "name": "ipython",
    "version": 3
   },
   "file_extension": ".py",
   "mimetype": "text/x-python",
   "name": "python",
   "nbconvert_exporter": "python",
   "pygments_lexer": "ipython3",
   "version": "3.9.9"
  }
 },
 "nbformat": 4,
 "nbformat_minor": 5
}
