{
 "cells": [
  {
   "cell_type": "code",
   "execution_count": 24,
   "id": "0fd705ab",
   "metadata": {},
   "outputs": [],
   "source": [
    "class Solution:\n",
    "    def isPalindrome(self, s: str) -> bool:\n",
    "        if len(s) <= 1:\n",
    "            return True\n",
    "        l = 0\n",
    "        r = len(s) - 1\n",
    "        while l < r:\n",
    "            while not s[l].isalnum():\n",
    "                if l == len(s) - 1:\n",
    "                    return True\n",
    "                l += 1\n",
    "            while not s[r].isalnum():\n",
    "                r -= 1\n",
    "            if s[l].lower() != s[r].lower():\n",
    "                return False\n",
    "            l += 1\n",
    "            r -= 1\n",
    "        print()\n",
    "        return True"
   ]
  },
  {
   "cell_type": "code",
   "execution_count": 25,
   "id": "ca6c0943",
   "metadata": {},
   "outputs": [
    {
     "data": {
      "text/plain": [
       "True"
      ]
     },
     "execution_count": 25,
     "metadata": {},
     "output_type": "execute_result"
    }
   ],
   "source": [
    "# string = \"A man, a plan, a canal: Panama\"\n",
    "# sol = Solution()\n",
    "# sol.isPalindrome(string)\n",
    "\n",
    "# string = \"raceacar\"\n",
    "# sol = Solution()\n",
    "# sol.isPalindrome(string)\n",
    "\n",
    "# string = \" \"\n",
    "# sol = Solution()\n",
    "# sol.isPalindrome(string)\n",
    "\n",
    "string = \".,\"\n",
    "sol = Solution()\n",
    "sol.isPalindrome(string)"
   ]
  },
  {
   "cell_type": "code",
   "execution_count": null,
   "id": "b9fb69f2",
   "metadata": {},
   "outputs": [],
   "source": [
    "\"\"\"\n",
    "480 / 480 test cases passed.\n",
    "Status: Accepted\n",
    "Runtime: 50 ms\n",
    "Memory Usage: 14.4 MB\n",
    "Submitted: 11 minutes ago\n",
    "Notes: Solves in O(n) but using 2 pointers you only need to traverse half the list. Exit early by checking if l hit the length limit to save some time.\n",
    "\"\"\""
   ]
  }
 ],
 "metadata": {
  "kernelspec": {
   "display_name": "Python 3 (ipykernel)",
   "language": "python",
   "name": "python3"
  },
  "language_info": {
   "codemirror_mode": {
    "name": "ipython",
    "version": 3
   },
   "file_extension": ".py",
   "mimetype": "text/x-python",
   "name": "python",
   "nbconvert_exporter": "python",
   "pygments_lexer": "ipython3",
   "version": "3.9.9"
  }
 },
 "nbformat": 4,
 "nbformat_minor": 5
}
