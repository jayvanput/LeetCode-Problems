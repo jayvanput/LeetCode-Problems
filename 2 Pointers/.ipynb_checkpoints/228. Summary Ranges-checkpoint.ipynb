{
 "cells": [
  {
   "cell_type": "code",
   "execution_count": 1,
   "id": "688c8480",
   "metadata": {},
   "outputs": [],
   "source": [
    "from typing import *"
   ]
  },
  {
   "cell_type": "code",
   "execution_count": 92,
   "id": "3c102f54",
   "metadata": {},
   "outputs": [],
   "source": [
    "class Solution:\n",
    "    def summaryRanges(self, nums: List[int]) -> List[str]:\n",
    "        output = []\n",
    "        first = 0\n",
    "        second = 0\n",
    "        if len(nums) == 1:\n",
    "            return [f\"{nums[0]}\"]\n",
    "        while first < len(nums) and second < len(nums):\n",
    "            if second+1 < len(nums) and nums[second]+1 == nums[second+1]:\n",
    "                second += 1\n",
    "            else:\n",
    "                if first == second:\n",
    "                    output.append(f\"{nums[first]}\")\n",
    "                    first += 1\n",
    "                    second += 1\n",
    "                else:\n",
    "                    output.append(f\"{nums[first]}->{nums[second]}\")\n",
    "                    first = second + 1\n",
    "                    second += 1\n",
    "        return output"
   ]
  },
  {
   "cell_type": "code",
   "execution_count": 93,
   "id": "8ba334db",
   "metadata": {},
   "outputs": [
    {
     "data": {
      "text/plain": [
       "['1', '3']"
      ]
     },
     "execution_count": 93,
     "metadata": {},
     "output_type": "execute_result"
    }
   ],
   "source": [
    "nums = [1,3]\n",
    "sol = Solution()\n",
    "sol.summaryRanges(nums)"
   ]
  },
  {
   "cell_type": "code",
   "execution_count": 94,
   "id": "b0fd484a",
   "metadata": {},
   "outputs": [
    {
     "data": {
      "text/plain": [
       "'\\n29 / 29 test cases passed.\\nStatus: Accepted\\nRuntime: 26 ms\\nMemory Usage: 13.9 MB\\nNotes: Recognized the 2 pointer solution. Above is a much cleaner version of my solution from the forums. Tip:\\n'"
      ]
     },
     "execution_count": 94,
     "metadata": {},
     "output_type": "execute_result"
    }
   ],
   "source": [
    "\"\"\"\n",
    "29 / 29 test cases passed.\n",
    "Status: Accepted\n",
    "Runtime: 26 ms\n",
    "Memory Usage: 13.9 MB\n",
    "Notes: Recognized the 2 pointer solution. Above is a much cleaner version of my solution from the forums. My solution \n",
    "had the pointers instantiated separately but it would've been cleaner to instantiate them at the same index.\n",
    "\"\"\""
   ]
  },
  {
   "cell_type": "code",
   "execution_count": null,
   "id": "9757d9f4",
   "metadata": {},
   "outputs": [],
   "source": []
  }
 ],
 "metadata": {
  "kernelspec": {
   "display_name": "Python 3 (ipykernel)",
   "language": "python",
   "name": "python3"
  },
  "language_info": {
   "codemirror_mode": {
    "name": "ipython",
    "version": 3
   },
   "file_extension": ".py",
   "mimetype": "text/x-python",
   "name": "python",
   "nbconvert_exporter": "python",
   "pygments_lexer": "ipython3",
   "version": "3.9.9"
  }
 },
 "nbformat": 4,
 "nbformat_minor": 5
}
