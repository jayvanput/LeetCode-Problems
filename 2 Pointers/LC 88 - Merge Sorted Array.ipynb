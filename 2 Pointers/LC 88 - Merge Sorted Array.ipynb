{
 "cells": [
  {
   "cell_type": "code",
   "execution_count": 2,
   "id": "dfe3b0fb",
   "metadata": {},
   "outputs": [],
   "source": [
    "from typing import *"
   ]
  },
  {
   "cell_type": "code",
   "execution_count": 246,
   "id": "dc059087",
   "metadata": {},
   "outputs": [],
   "source": [
    "class Solution:\n",
    "    def merge(self, nums1: List[int], m: int, nums2: List[int], n: int) -> None:\n",
    "        \"\"\"\n",
    "        Do not return anything, modify nums1 in-place instead.\n",
    "        \"\"\"\n",
    "        cursor1 = m - 1\n",
    "        cursor2 = n - 1\n",
    "        \n",
    "        reverse_cursor = len(nums1) - 1\n",
    "        \n",
    "        while cursor2 >= 0:\n",
    "            if nums2[cursor2] <= nums1[cursor1] and cursor1 >= 0:\n",
    "                nums1[reverse_cursor] = nums1[cursor1]\n",
    "                cursor1 -= 1\n",
    "                reverse_cursor -= 1\n",
    "            else:\n",
    "                nums1[reverse_cursor] = nums2[cursor2]\n",
    "                cursor2 -= 1\n",
    "                reverse_cursor -= 1"
   ]
  },
  {
   "cell_type": "code",
   "execution_count": 247,
   "id": "2ad87264",
   "metadata": {},
   "outputs": [
    {
     "name": "stdout",
     "output_type": "stream",
     "text": [
      "[-1, 0, 0, 1, 2, 2, 3, 3, 3]\n"
     ]
    }
   ],
   "source": [
    "nums1 = [-1,0,0,3,3,3,0,0,0]\n",
    "nums2 = [1,2,2]\n",
    "sol = Solution()\n",
    "print(sol.merge(nums1, 6,nums2,len(nums2)))"
   ]
  },
  {
   "cell_type": "code",
   "execution_count": 248,
   "id": "24a42917",
   "metadata": {},
   "outputs": [
    {
     "name": "stdout",
     "output_type": "stream",
     "text": [
      "[1, 2, 3, 4, 5, 6]\n"
     ]
    }
   ],
   "source": [
    "nums1 = [1,2,3,0,0,0]\n",
    "nums2 = [4,5,6]\n",
    "sol = Solution()\n",
    "print(sol.merge(nums1, 3,nums2,len(nums2)))"
   ]
  },
  {
   "cell_type": "code",
   "execution_count": 249,
   "id": "271299f6",
   "metadata": {},
   "outputs": [
    {
     "name": "stdout",
     "output_type": "stream",
     "text": [
      "[1]\n"
     ]
    }
   ],
   "source": [
    "nums1 = [1]\n",
    "nums2 = []\n",
    "sol = Solution()\n",
    "print(sol.merge(nums1, len(nums1),nums2,len(nums2)))"
   ]
  },
  {
   "cell_type": "code",
   "execution_count": 250,
   "id": "ab087db5",
   "metadata": {},
   "outputs": [
    {
     "name": "stdout",
     "output_type": "stream",
     "text": [
      "[-1, 0, 0, 1, 2, 2, 3, 3, 3]\n"
     ]
    }
   ],
   "source": [
    "nums1 = [-1,0,0,3,3,3,0,0,0]\n",
    "nums2 = [1,2,2]\n",
    "sol = Solution()\n",
    "print(sol.merge(nums1, 6,nums2,len(nums2)))"
   ]
  },
  {
   "cell_type": "code",
   "execution_count": 251,
   "id": "27ab9989",
   "metadata": {},
   "outputs": [
    {
     "name": "stdout",
     "output_type": "stream",
     "text": [
      "[1, 2]\n"
     ]
    }
   ],
   "source": [
    "nums1 = [1,0]\n",
    "nums2 = [2]\n",
    "sol = Solution()\n",
    "print(sol.merge(nums1, 1, nums2,1))"
   ]
  },
  {
   "cell_type": "code",
   "execution_count": 252,
   "id": "39e513d8",
   "metadata": {},
   "outputs": [
    {
     "data": {
      "text/plain": [
       "[1, 2]"
      ]
     },
     "execution_count": 252,
     "metadata": {},
     "output_type": "execute_result"
    }
   ],
   "source": [
    "test"
   ]
  },
  {
   "cell_type": "code",
   "execution_count": null,
   "id": "9f91ff8a",
   "metadata": {},
   "outputs": [],
   "source": []
  }
 ],
 "metadata": {
  "kernelspec": {
   "display_name": "Python 3 (ipykernel)",
   "language": "python",
   "name": "python3"
  },
  "language_info": {
   "codemirror_mode": {
    "name": "ipython",
    "version": 3
   },
   "file_extension": ".py",
   "mimetype": "text/x-python",
   "name": "python",
   "nbconvert_exporter": "python",
   "pygments_lexer": "ipython3",
   "version": "3.9.9"
  }
 },
 "nbformat": 4,
 "nbformat_minor": 5
}
