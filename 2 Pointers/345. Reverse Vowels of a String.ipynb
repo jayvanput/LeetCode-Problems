{
 "cells": [
  {
   "cell_type": "code",
   "execution_count": 37,
   "metadata": {},
   "outputs": [],
   "source": [
    "class Solution:\n",
    "    def reverseVowels(self, s: str) -> str:\n",
    "        s_lst = [x for x in s]\n",
    "        vowel_positions = []\n",
    "\n",
    "        VOWELS = \"aeiouAEIOU\"\n",
    "\n",
    "        for index, letter in enumerate(s):\n",
    "            if letter in VOWELS:\n",
    "                vowel_positions.append(index)\n",
    "\n",
    "        start = 0\n",
    "        end = len(vowel_positions) - 1\n",
    "        while start < end:\n",
    "            left = vowel_positions[start]\n",
    "            right = vowel_positions[end]\n",
    "            s_lst[left], s_lst[right] = s_lst[right], s_lst[left]\n",
    "            end -= 1\n",
    "            start += 1\n",
    "\n",
    "        return \"\".join(s_lst)\n",
    "\n",
    "    def reverseVowelsStack(self, s: str):\n",
    "        VOWELS = \"aeiouAEIOU\"\n",
    "        stack = []\n",
    "\n",
    "        for i in s:\n",
    "            if i in VOWELS:\n",
    "                stack.append(i)\n",
    "\n",
    "        output = []\n",
    "        for i in s:\n",
    "            if i in VOWELS:\n",
    "                output.append(stack.pop())\n",
    "            else:\n",
    "                output.append(i)\n",
    "        return \"\".join(output)\n"
   ]
  },
  {
   "cell_type": "code",
   "execution_count": 39,
   "metadata": {},
   "outputs": [
    {
     "data": {
      "text/plain": [
       "'leotcede'"
      ]
     },
     "execution_count": 39,
     "metadata": {},
     "output_type": "execute_result"
    }
   ],
   "source": [
    "s = \"leetcode\"\n",
    "sol = Solution()\n",
    "sol.reverseVowelsStack(s)"
   ]
  },
  {
   "cell_type": "code",
   "execution_count": null,
   "metadata": {},
   "outputs": [],
   "source": [
    "\"\"\"\n",
    "Runtime94 ms\n",
    "Beats\n",
    "71.32%\n",
    "Memory15.9 MB\n",
    "Notes: Originally did this as a 2 pointer problem but there is a MUCH more elegant stack solution that is just *chef's kiss*. I feel like a fool for not thinking of it. \n",
    "Both solutions are O(n).\n",
    "\"\"\""
   ]
  }
 ],
 "metadata": {
  "kernelspec": {
   "display_name": "Python 3.9.9 ('testing')",
   "language": "python",
   "name": "python3"
  },
  "language_info": {
   "codemirror_mode": {
    "name": "ipython",
    "version": 3
   },
   "file_extension": ".py",
   "mimetype": "text/x-python",
   "name": "python",
   "nbconvert_exporter": "python",
   "pygments_lexer": "ipython3",
   "version": "3.9.9"
  },
  "orig_nbformat": 4,
  "vscode": {
   "interpreter": {
    "hash": "fb79f887f98bf1425cfd8e046db197159ed36d1ac9d9565e603c221fb1d3efe4"
   }
  }
 },
 "nbformat": 4,
 "nbformat_minor": 2
}
