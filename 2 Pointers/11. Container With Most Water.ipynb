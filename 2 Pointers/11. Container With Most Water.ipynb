{
 "cells": [
  {
   "cell_type": "code",
   "execution_count": 11,
   "metadata": {},
   "outputs": [],
   "source": [
    "class Solution:\n",
    "    def maxArea(self, heights: list[int]) -> int:\n",
    "        max_area = 0\n",
    "        left = 0\n",
    "        right = len(heights) - 1\n",
    "        while left != right:\n",
    "            height = min(heights[left], heights[right])\n",
    "            width = right - left\n",
    "            curr_area = height * width\n",
    "            if curr_area > max_area:\n",
    "                max_area = curr_area\n",
    "            if heights[left] >= heights[right]:\n",
    "                right -= 1\n",
    "            else:\n",
    "                left += 1\n",
    "        return max_area"
   ]
  },
  {
   "cell_type": "code",
   "execution_count": 13,
   "metadata": {},
   "outputs": [
    {
     "data": {
      "text/plain": [
       "49"
      ]
     },
     "execution_count": 13,
     "metadata": {},
     "output_type": "execute_result"
    }
   ],
   "source": [
    "height = [1,8,6,2,5,4,8,3,7]\n",
    "sol = Solution()\n",
    "sol.maxArea(height)"
   ]
  },
  {
   "cell_type": "code",
   "execution_count": null,
   "metadata": {},
   "outputs": [],
   "source": [
    "\"\"\"\n",
    "Runtime700 ms\n",
    "Beats\n",
    "96.56%\n",
    "Memory27.6 MB\n",
    "Notes: O(n**2) solution is too long. I thought of the 2 pointer solution but wasn't sure if there were edge cases that made it not work. \n",
    "It doesn't feel intuitive but I guess it does work.\n",
    "\"\"\""
   ]
  }
 ],
 "metadata": {
  "kernelspec": {
   "display_name": "testing",
   "language": "python",
   "name": "python3"
  },
  "language_info": {
   "codemirror_mode": {
    "name": "ipython",
    "version": 3
   },
   "file_extension": ".py",
   "mimetype": "text/x-python",
   "name": "python",
   "nbconvert_exporter": "python",
   "pygments_lexer": "ipython3",
   "version": "3.9.9"
  },
  "orig_nbformat": 4,
  "vscode": {
   "interpreter": {
    "hash": "fb79f887f98bf1425cfd8e046db197159ed36d1ac9d9565e603c221fb1d3efe4"
   }
  }
 },
 "nbformat": 4,
 "nbformat_minor": 2
}
