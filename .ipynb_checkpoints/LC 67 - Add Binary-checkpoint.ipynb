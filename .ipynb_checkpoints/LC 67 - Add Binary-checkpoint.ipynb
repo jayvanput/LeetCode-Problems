{
 "cells": [
  {
   "cell_type": "code",
   "execution_count": 83,
   "id": "a3906ef1",
   "metadata": {},
   "outputs": [],
   "source": [
    "class Solution:\n",
    "    def addBinary(self, a: str, b: str) -> str:\n",
    "        carry = 0\n",
    "        \n",
    "        a_pointer = len(a) #1\n",
    "        b_pointer = len(b) #1\n",
    "        \n",
    "        output_lst = []\n",
    "        \n",
    "        if a == \"0\":\n",
    "            return b\n",
    "        if b == \"0\":\n",
    "            return a\n",
    "        \n",
    "        while a_pointer or b_pointer:\n",
    "            if a_pointer:\n",
    "                carry += int(a[a_pointer - 1])\n",
    "                a_pointer -= 1\n",
    "            if b_pointer:\n",
    "                carry += int(b[b_pointer - 1])\n",
    "                b_pointer -= 1\n",
    "                \n",
    "            output_lst.append(carry % 2)\n",
    "            carry //= 2\n",
    "        if carry:\n",
    "            output_lst.append(carry)\n",
    "        output = \"\".join(str(x) for x in output_lst[::-1])\n",
    "        \n",
    "        return output"
   ]
  },
  {
   "cell_type": "code",
   "execution_count": 84,
   "id": "3abd1765",
   "metadata": {},
   "outputs": [
    {
     "data": {
      "text/plain": [
       "'100'"
      ]
     },
     "execution_count": 84,
     "metadata": {},
     "output_type": "execute_result"
    }
   ],
   "source": [
    "a = \"11\"\n",
    "b = \"1\"\n",
    "\n",
    "sol = Solution()\n",
    "sol.addBinary(a, b)"
   ]
  },
  {
   "cell_type": "code",
   "execution_count": 69,
   "id": "afed36f3",
   "metadata": {},
   "outputs": [
    {
     "name": "stdout",
     "output_type": "stream",
     "text": [
      "True\n",
      "True\n"
     ]
    }
   ],
   "source": [
    "a = \"11\"\n",
    "b = \"1\"\n",
    "\n",
    "sol = Solution()\n",
    "print(sol.addBinary(a, b) == \"100\")\n",
    "\n",
    "a = \"1010\"\n",
    "b = \"1011\"\n",
    "\n",
    "print(sol.addBinary(a, b) == \"10101\")"
   ]
  },
  {
   "cell_type": "code",
   "execution_count": 57,
   "id": "a9d0540f",
   "metadata": {},
   "outputs": [
    {
     "data": {
      "text/plain": [
       "True"
      ]
     },
     "execution_count": 57,
     "metadata": {},
     "output_type": "execute_result"
    }
   ],
   "source": [
    "not 0 and not 0"
   ]
  },
  {
   "cell_type": "code",
   "execution_count": null,
   "id": "12c4b65a",
   "metadata": {},
   "outputs": [],
   "source": []
  }
 ],
 "metadata": {
  "kernelspec": {
   "display_name": "Python 3 (ipykernel)",
   "language": "python",
   "name": "python3"
  },
  "language_info": {
   "codemirror_mode": {
    "name": "ipython",
    "version": 3
   },
   "file_extension": ".py",
   "mimetype": "text/x-python",
   "name": "python",
   "nbconvert_exporter": "python",
   "pygments_lexer": "ipython3",
   "version": "3.9.9"
  }
 },
 "nbformat": 4,
 "nbformat_minor": 5
}
