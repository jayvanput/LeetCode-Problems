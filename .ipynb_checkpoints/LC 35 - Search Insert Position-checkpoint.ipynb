{
 "cells": [
  {
   "cell_type": "code",
   "execution_count": 3,
   "id": "da7d2089",
   "metadata": {},
   "outputs": [],
   "source": [
    "from typing import *"
   ]
  },
  {
   "cell_type": "code",
   "execution_count": 148,
   "id": "fae24355",
   "metadata": {},
   "outputs": [
    {
     "ename": "IndentationError",
     "evalue": "expected an indented block (2827575559.py, line 14)",
     "output_type": "error",
     "traceback": [
      "\u001b[1;36m  Input \u001b[1;32mIn [148]\u001b[1;36m\u001b[0m\n\u001b[1;33m    if arr[mid] < x:\u001b[0m\n\u001b[1;37m                    ^\u001b[0m\n\u001b[1;31mIndentationError\u001b[0m\u001b[1;31m:\u001b[0m expected an indented block\n"
     ]
    }
   ],
   "source": [
    "class Solution:\n",
    "    def searchInsert(self, nums: List[int], target: int) -> int:\n",
    "        low = 0\n",
    "        high = len(nums) - 1\n",
    "        mid = 0\n",
    "        \n",
    "        answer_index = 0\n",
    "        \n",
    "        while low <= high:\n",
    "            \n",
    "            # Mid rounds down for even length lists.\n",
    "            mid = (high + low) // 2\n",
    "            \n",
    "            \n",
    "            if arr[mid] < x:\n",
    "                "
   ]
  },
  {
   "cell_type": "code",
   "execution_count": 5,
   "id": "f69c2fee",
   "metadata": {},
   "outputs": [
    {
     "ename": "TypeError",
     "evalue": "searchInsert() missing 2 required positional arguments: 'nums' and 'target'",
     "output_type": "error",
     "traceback": [
      "\u001b[1;31m---------------------------------------------------------------------------\u001b[0m",
      "\u001b[1;31mTypeError\u001b[0m                                 Traceback (most recent call last)",
      "Input \u001b[1;32mIn [5]\u001b[0m, in \u001b[0;36m<cell line: 2>\u001b[1;34m()\u001b[0m\n\u001b[0;32m      1\u001b[0m sol \u001b[38;5;241m=\u001b[39m Solution()\n\u001b[1;32m----> 2\u001b[0m \u001b[43msol\u001b[49m\u001b[38;5;241;43m.\u001b[39;49m\u001b[43msearchInsert\u001b[49m\u001b[43m(\u001b[49m\u001b[43m)\u001b[49m\n",
      "\u001b[1;31mTypeError\u001b[0m: searchInsert() missing 2 required positional arguments: 'nums' and 'target'"
     ]
    }
   ],
   "source": [
    "sol = Solution()\n",
    "sol.searchInsert()"
   ]
  },
  {
   "cell_type": "code",
   "execution_count": 6,
   "id": "fed8ec42",
   "metadata": {},
   "outputs": [],
   "source": [
    "# Fun with binary search"
   ]
  },
  {
   "cell_type": "code",
   "execution_count": 7,
   "id": "ef33068f",
   "metadata": {},
   "outputs": [],
   "source": [
    "lst = [1,2,3,4,5]"
   ]
  },
  {
   "cell_type": "code",
   "execution_count": 147,
   "id": "20a47696",
   "metadata": {},
   "outputs": [
    {
     "data": {
      "text/plain": [
       "2"
      ]
     },
     "execution_count": 147,
     "metadata": {},
     "output_type": "execute_result"
    }
   ],
   "source": [
    "find_value_binary([1,2,3,4,5,10],2)"
   ]
  },
  {
   "cell_type": "code",
   "execution_count": 48,
   "id": "03d18126",
   "metadata": {},
   "outputs": [
    {
     "data": {
      "text/plain": [
       "[2, 3]"
      ]
     },
     "execution_count": 48,
     "metadata": {},
     "output_type": "execute_result"
    }
   ],
   "source": [
    "[1,2,3,4,5] #lst_index = 2, mid_index = 2, curr_val = 3\n",
    "# curr_val < 3\n",
    "[3,4,5] #mid_index = 1, lst_index = 3, curr_val = 4\n",
    "[4,5] #mid_index = 1, lst_index = 4, curr_val = 2"
   ]
  },
  {
   "cell_type": "code",
   "execution_count": null,
   "id": "68e248f9",
   "metadata": {},
   "outputs": [],
   "source": []
  }
 ],
 "metadata": {
  "kernelspec": {
   "display_name": "Python 3 (ipykernel)",
   "language": "python",
   "name": "python3"
  },
  "language_info": {
   "codemirror_mode": {
    "name": "ipython",
    "version": 3
   },
   "file_extension": ".py",
   "mimetype": "text/x-python",
   "name": "python",
   "nbconvert_exporter": "python",
   "pygments_lexer": "ipython3",
   "version": "3.9.9"
  }
 },
 "nbformat": 4,
 "nbformat_minor": 5
}
