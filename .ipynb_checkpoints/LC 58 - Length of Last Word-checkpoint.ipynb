{
 "cells": [
  {
   "cell_type": "code",
   "execution_count": 16,
   "id": "4a8a8286",
   "metadata": {},
   "outputs": [],
   "source": [
    "class Solution:\n",
    "    def lengthOfLastWord(self, s: str) -> int:\n",
    "        s_strip = s.rstrip()\n",
    "        idx = s_strip.rfind(\" \") + 1\n",
    "        \n",
    "        if idx == -1:\n",
    "            return len(s)\n",
    "        else:\n",
    "            return len(s_strip) - idx "
   ]
  },
  {
   "cell_type": "code",
   "execution_count": 17,
   "id": "e2891edc",
   "metadata": {},
   "outputs": [
    {
     "data": {
      "text/plain": [
       "6"
      ]
     },
     "execution_count": 17,
     "metadata": {},
     "output_type": "execute_result"
    }
   ],
   "source": [
    "string = \"luffy is still joyboy\"\n",
    "sol = Solution()\n",
    "sol.lengthOfLastWord(string)"
   ]
  },
  {
   "cell_type": "code",
   "execution_count": null,
   "id": "48972a0a",
   "metadata": {},
   "outputs": [],
   "source": []
  }
 ],
 "metadata": {
  "kernelspec": {
   "display_name": "Python 3 (ipykernel)",
   "language": "python",
   "name": "python3"
  },
  "language_info": {
   "codemirror_mode": {
    "name": "ipython",
    "version": 3
   },
   "file_extension": ".py",
   "mimetype": "text/x-python",
   "name": "python",
   "nbconvert_exporter": "python",
   "pygments_lexer": "ipython3",
   "version": "3.9.9"
  }
 },
 "nbformat": 4,
 "nbformat_minor": 5
}
