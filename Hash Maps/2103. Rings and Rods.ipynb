{
 "cells": [
  {
   "cell_type": "code",
   "execution_count": 1,
   "metadata": {},
   "outputs": [],
   "source": [
    "from typing import *"
   ]
  },
  {
   "cell_type": "code",
   "execution_count": 8,
   "metadata": {},
   "outputs": [],
   "source": [
    "class Solution:\n",
    "    def countPoints(self, rings: str) -> int:\n",
    "        rods_dict: Dict[str, Set[str]] = {}\n",
    "\n",
    "        for i in range(0, len(rings), 2):\n",
    "            rod: Set[str] = rods_dict.get(rings[i+1], set())\n",
    "            rod.add(rings[i])\n",
    "            rods_dict[rings[i+1]] = rod\n",
    "\n",
    "        output = 0\n",
    "        for value in rods_dict.values():\n",
    "            if len(value) == 3:\n",
    "                output += 1\n",
    "        print(output, rods_dict)\n",
    "        return output\n"
   ]
  },
  {
   "cell_type": "code",
   "execution_count": 11,
   "metadata": {},
   "outputs": [
    {
     "name": "stdout",
     "output_type": "stream",
     "text": [
      "0 {'4': {'G'}}\n"
     ]
    },
    {
     "data": {
      "text/plain": [
       "0"
      ]
     },
     "execution_count": 11,
     "metadata": {},
     "output_type": "execute_result"
    }
   ],
   "source": [
    "rings = \"G4\"\n",
    "sol = Solution()\n",
    "sol.countPoints(rings)"
   ]
  },
  {
   "cell_type": "code",
   "execution_count": null,
   "metadata": {},
   "outputs": [],
   "source": [
    "\"\"\"\n",
    "66 / 66 test cases passed.\n",
    "Status: Accepted\n",
    "Runtime: 53 ms\n",
    "Memory Usage: 13.7 MB\n",
    "Notes: The naive approach by looking for \"RX\", \"GX\", \"BX\", for each X in the string did not occur to me. My solution is O(n) to build the dictionary \n",
    "and O(n) to loop over the dictionary keys. Seems more elegant and cleaner.\n",
    "\"\"\""
   ]
  }
 ],
 "metadata": {
  "kernelspec": {
   "display_name": "Python 3.9.9 ('testing')",
   "language": "python",
   "name": "python3"
  },
  "language_info": {
   "codemirror_mode": {
    "name": "ipython",
    "version": 3
   },
   "file_extension": ".py",
   "mimetype": "text/x-python",
   "name": "python",
   "nbconvert_exporter": "python",
   "pygments_lexer": "ipython3",
   "version": "3.9.9"
  },
  "orig_nbformat": 4,
  "vscode": {
   "interpreter": {
    "hash": "fb79f887f98bf1425cfd8e046db197159ed36d1ac9d9565e603c221fb1d3efe4"
   }
  }
 },
 "nbformat": 4,
 "nbformat_minor": 2
}
