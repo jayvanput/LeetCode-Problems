{
 "cells": [
  {
   "cell_type": "code",
   "execution_count": 1,
   "metadata": {},
   "outputs": [],
   "source": [
    "from typing import List, Dict"
   ]
  },
  {
   "cell_type": "code",
   "execution_count": 10,
   "metadata": {},
   "outputs": [],
   "source": [
    "class Solution:\n",
    "    def numberOfPairs(self, nums: List[int]) -> List[int]:\n",
    "        num_dict: Dict[int, int] = {}\n",
    "        for num in nums:\n",
    "            num_dict[num] = num_dict.get(num, 0) + 1\n",
    "        \n",
    "        pairs = 0\n",
    "        remainders = 0\n",
    "\n",
    "        for key, value in num_dict.items():\n",
    "            pair, remainder = divmod(value, 2)\n",
    "            pairs += pair\n",
    "            remainders += remainder\n",
    "\n",
    "        return [pairs, remainders]\n"
   ]
  },
  {
   "cell_type": "code",
   "execution_count": 13,
   "metadata": {},
   "outputs": [
    {
     "data": {
      "text/plain": [
       "[0, 1]"
      ]
     },
     "execution_count": 13,
     "metadata": {},
     "output_type": "execute_result"
    }
   ],
   "source": [
    "nums = [0]\n",
    "sol = Solution()\n",
    "sol.numberOfPairs(nums)"
   ]
  },
  {
   "cell_type": "code",
   "execution_count": null,
   "metadata": {},
   "outputs": [],
   "source": [
    "\"\"\"\n",
    "128 / 128 test cases passed.\n",
    "Status: Accepted\n",
    "Runtime: 42 ms\n",
    "Memory Usage: 13.9 MB\n",
    "Notes: Solves in O(n + m) (first loop O(n), loop through dicts is O(m) where m is unique count of items in nums). Not many answers had divmod so it's nice that I knew that.\n",
    "\"\"\""
   ]
  }
 ],
 "metadata": {
  "kernelspec": {
   "display_name": "Python 3.9.9 ('testing')",
   "language": "python",
   "name": "python3"
  },
  "language_info": {
   "codemirror_mode": {
    "name": "ipython",
    "version": 3
   },
   "file_extension": ".py",
   "mimetype": "text/x-python",
   "name": "python",
   "nbconvert_exporter": "python",
   "pygments_lexer": "ipython3",
   "version": "3.9.9"
  },
  "orig_nbformat": 4,
  "vscode": {
   "interpreter": {
    "hash": "fb79f887f98bf1425cfd8e046db197159ed36d1ac9d9565e603c221fb1d3efe4"
   }
  }
 },
 "nbformat": 4,
 "nbformat_minor": 2
}
