{
 "cells": [
  {
   "cell_type": "code",
   "execution_count": 2,
   "id": "252d070c",
   "metadata": {},
   "outputs": [],
   "source": [
    "from typing import *"
   ]
  },
  {
   "cell_type": "code",
   "execution_count": 8,
   "id": "4ca663d3",
   "metadata": {},
   "outputs": [],
   "source": [
    "class Solution:\n",
    "    def containsDuplicate(self, nums: List[int]) -> bool:\n",
    "        past_values = {}\n",
    "        for x in nums:\n",
    "            if x not in past_values:\n",
    "                past_values[x] = 1\n",
    "            else:\n",
    "                return True\n",
    "        return False"
   ]
  },
  {
   "cell_type": "code",
   "execution_count": 10,
   "id": "467fbd56",
   "metadata": {},
   "outputs": [
    {
     "name": "stdout",
     "output_type": "stream",
     "text": [
      "True\n",
      "True\n",
      "True\n"
     ]
    }
   ],
   "source": [
    "nums = [1,2,3,1]\n",
    "sol = Solution()\n",
    "print(sol.containsDuplicate(nums) == True)\n",
    "\n",
    "nums = [1,2,3,4]\n",
    "sol = Solution()\n",
    "print(sol.containsDuplicate(nums) == False)\n",
    "\n",
    "nums = [1,1,1,3,3,4,3,2,4,2]\n",
    "sol = Solution()\n",
    "print(sol.containsDuplicate(nums) == True)"
   ]
  },
  {
   "cell_type": "code",
   "execution_count": null,
   "id": "e1cba6ca",
   "metadata": {},
   "outputs": [],
   "source": [
    "\"\"\"\n",
    "70 / 70 test cases passed.\n",
    "Status: Accepted\n",
    "Runtime: 484 ms\n",
    "Memory Usage: 25.9 MB\n",
    "Submitted: 0 minutes ago\n",
    "Notes: Naive approach was to append to list and check if x is in the list. This is O(n^2) (n to traverse list and n to check if x is in list for each x in nums).\n",
    "Hashmap lookup is O(1)!!! and so total time complexity is O(n).\n",
    "\"\"\""
   ]
  }
 ],
 "metadata": {
  "kernelspec": {
   "display_name": "Python 3 (ipykernel)",
   "language": "python",
   "name": "python3"
  },
  "language_info": {
   "codemirror_mode": {
    "name": "ipython",
    "version": 3
   },
   "file_extension": ".py",
   "mimetype": "text/x-python",
   "name": "python",
   "nbconvert_exporter": "python",
   "pygments_lexer": "ipython3",
   "version": "3.9.9"
  }
 },
 "nbformat": 4,
 "nbformat_minor": 5
}
