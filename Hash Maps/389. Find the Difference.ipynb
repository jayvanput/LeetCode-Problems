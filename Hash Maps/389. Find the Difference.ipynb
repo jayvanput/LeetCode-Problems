{
 "cells": [
  {
   "cell_type": "code",
   "execution_count": 10,
   "metadata": {},
   "outputs": [],
   "source": [
    "class Solution:\n",
    "    def findTheDifference(self, s: str, t: str) -> str:\n",
    "        s_dict: dict[str, int] = {}\n",
    "        for i in s:\n",
    "            i_count: int = s_dict.get(i, 0)\n",
    "            i_count += 1\n",
    "            s_dict[i] = i_count\n",
    "        t_dict: dict[str, int] = {}\n",
    "        for i in t:\n",
    "            i_count: int = t_dict.get(i, 0)\n",
    "            i_count += 1\n",
    "            t_dict[i] = i_count\n",
    "        for letter, t_count in t_dict.items():\n",
    "            s_count: int = s_dict.get(letter, 0)\n",
    "            if t_count != s_count:\n",
    "                return letter\n",
    "        return \"\""
   ]
  },
  {
   "cell_type": "code",
   "execution_count": 12,
   "metadata": {},
   "outputs": [
    {
     "name": "stdout",
     "output_type": "stream",
     "text": [
      "1 0\n"
     ]
    },
    {
     "data": {
      "text/plain": [
       "'y'"
      ]
     },
     "execution_count": 12,
     "metadata": {},
     "output_type": "execute_result"
    }
   ],
   "source": [
    "s: str = \"\"\n",
    "t: str = \"y\"\n",
    "sol = Solution()\n",
    "sol.findTheDifference(s, t)"
   ]
  },
  {
   "cell_type": "code",
   "execution_count": null,
   "metadata": {},
   "outputs": [],
   "source": [
    "\"\"\"\n",
    "Runtime33 ms\n",
    "Beats\n",
    "85.62%\n",
    "Memory13.9 MB\n",
    "Notes: O(1) dict look up allows us this to run in O(s+t). A set would allow a similar solution but it doesn't consider if the \n",
    "randomly added letter already exists in s, so we need to keep track of the counts of each letter.\n",
    "\"\"\""
   ]
  }
 ],
 "metadata": {
  "kernelspec": {
   "display_name": "webapps",
   "language": "python",
   "name": "python3"
  },
  "language_info": {
   "codemirror_mode": {
    "name": "ipython",
    "version": 3
   },
   "file_extension": ".py",
   "mimetype": "text/x-python",
   "name": "python",
   "nbconvert_exporter": "python",
   "pygments_lexer": "ipython3",
   "version": "3.11.1"
  },
  "orig_nbformat": 4,
  "vscode": {
   "interpreter": {
    "hash": "8b9e562a1f76a5948467e158169a887b2175c9af000d18d2164309069a882c35"
   }
  }
 },
 "nbformat": 4,
 "nbformat_minor": 2
}
