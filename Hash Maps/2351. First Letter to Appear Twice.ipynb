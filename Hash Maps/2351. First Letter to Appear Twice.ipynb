{
 "cells": [
  {
   "cell_type": "code",
   "execution_count": 2,
   "metadata": {},
   "outputs": [],
   "source": [
    "class Solution:\n",
    "    def repeatedCharacter(self, s: str) -> str:\n",
    "        string_dict = {}\n",
    "        for char in s:\n",
    "            string_dict[char] = string_dict.get(char, 0) + 1\n",
    "            if string_dict[char] == 2:\n",
    "                return char"
   ]
  },
  {
   "cell_type": "code",
   "execution_count": 3,
   "metadata": {},
   "outputs": [
    {
     "data": {
      "text/plain": [
       "'c'"
      ]
     },
     "execution_count": 3,
     "metadata": {},
     "output_type": "execute_result"
    }
   ],
   "source": [
    "s = \"abccbaacz\"\n",
    "sol = Solution()\n",
    "sol.repeatedCharacter(s)"
   ]
  },
  {
   "cell_type": "code",
   "execution_count": null,
   "metadata": {},
   "outputs": [],
   "source": [
    "\"\"\"\n",
    "92 / 92 test cases passed.\n",
    "Status: Accepted\n",
    "Runtime: 22 ms\n",
    "Memory Usage: 13.8 MB\n",
    "Notes: Solves in O(n) in worst-case. Dict lookup is O(1) from hash. Also learned that sets are implemented as hash tables so that is lookup O(1) as well! \n",
    "It is better to use that here, using a list would have a lookup of O(n) in the worst case.\n",
    "\"\"\""
   ]
  }
 ],
 "metadata": {
  "kernelspec": {
   "display_name": "Python 3.9.9 ('testing')",
   "language": "python",
   "name": "python3"
  },
  "language_info": {
   "codemirror_mode": {
    "name": "ipython",
    "version": 3
   },
   "file_extension": ".py",
   "mimetype": "text/x-python",
   "name": "python",
   "nbconvert_exporter": "python",
   "pygments_lexer": "ipython3",
   "version": "3.9.9"
  },
  "orig_nbformat": 4,
  "vscode": {
   "interpreter": {
    "hash": "fb79f887f98bf1425cfd8e046db197159ed36d1ac9d9565e603c221fb1d3efe4"
   }
  }
 },
 "nbformat": 4,
 "nbformat_minor": 2
}
