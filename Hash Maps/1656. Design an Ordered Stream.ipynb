{
 "cells": [
  {
   "cell_type": "code",
   "execution_count": 1,
   "id": "fa3ae980",
   "metadata": {},
   "outputs": [],
   "source": [
    "from typing import *"
   ]
  },
  {
   "cell_type": "code",
   "execution_count": 58,
   "metadata": {},
   "outputs": [],
   "source": [
    "class OrderedStream:\n",
    "\n",
    "    def __init__(self, n: int):\n",
    "        self.stream: Dict[int, str] = {}\n",
    "        self.ptr: int = 1\n",
    "\n",
    "    def insert(self, idKey: int, value: str) -> List[str]:\n",
    "        stream, ptr = self.stream, self.ptr\n",
    "\n",
    "        stream[idKey] = value\n",
    "        output: List[str] = []\n",
    "        while self.stream.get(ptr, 0):\n",
    "            output.append(stream[ptr])\n",
    "            ptr += 1\n",
    "        self.ptr = ptr\n",
    "        return output\n",
    "\n",
    "\n",
    "\n",
    "# Your OrderedStream object will be instantiated and called as such:\n",
    "# obj = OrderedStream(n)\n",
    "# param_1 = obj.insert(idKey,value)a"
   ]
  },
  {
   "cell_type": "code",
   "execution_count": 59,
   "id": "3d3f89eb",
   "metadata": {},
   "outputs": [
    {
     "data": {
      "text/plain": [
       "['ddddd', 'eeeee']"
      ]
     },
     "execution_count": 59,
     "metadata": {},
     "output_type": "execute_result"
    }
   ],
   "source": [
    "sol = OrderedStream(5)\n",
    "sol.insert(3, \"ccccc\")\n",
    "sol.insert(1, \"aaaaa\")\n",
    "sol.insert(2, \"bbbbb\")\n",
    "sol.insert(5, \"eeeee\")\n",
    "sol.insert(4, \"ddddd\")"
   ]
  },
  {
   "cell_type": "code",
   "execution_count": null,
   "id": "3aa7b5fd",
   "metadata": {},
   "outputs": [],
   "source": [
    "\"\"\"\n",
    "101 / 101 test cases passed.\n",
    "Status: Accepted\n",
    "Runtime: 597 ms\n",
    "Memory Usage: 14.8 MB\n",
    "Notes: Originally done with a list, redid it with a dictionary. Seems pretty straightforward.\n",
    "\"\"\""
   ]
  }
 ],
 "metadata": {
  "kernelspec": {
   "display_name": "Python 3.9.9 ('testing')",
   "language": "python",
   "name": "python3"
  },
  "language_info": {
   "codemirror_mode": {
    "name": "ipython",
    "version": 3
   },
   "file_extension": ".py",
   "mimetype": "text/x-python",
   "name": "python",
   "nbconvert_exporter": "python",
   "pygments_lexer": "ipython3",
   "version": "3.9.9"
  },
  "vscode": {
   "interpreter": {
    "hash": "fb79f887f98bf1425cfd8e046db197159ed36d1ac9d9565e603c221fb1d3efe4"
   }
  }
 },
 "nbformat": 4,
 "nbformat_minor": 5
}
