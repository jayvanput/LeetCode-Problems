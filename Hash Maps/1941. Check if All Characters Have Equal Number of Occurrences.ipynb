{
 "cells": [
  {
   "cell_type": "code",
   "execution_count": 4,
   "metadata": {},
   "outputs": [],
   "source": [
    "class Solution:\n",
    "    def areOccurrencesEqual(self, s: str) -> bool:\n",
    "        str_dict = {}\n",
    "        for char in s:\n",
    "            str_dict[char] = str_dict.get(char, 0) + 1\n",
    "        \n",
    "        check = str_dict[s[0]]\n",
    "\n",
    "        for value in str_dict.values():\n",
    "            if value != check:\n",
    "                return False\n",
    "        return True\n",
    "        Counter\n"
   ]
  },
  {
   "cell_type": "code",
   "execution_count": 7,
   "metadata": {},
   "outputs": [
    {
     "data": {
      "text/plain": [
       "False"
      ]
     },
     "execution_count": 7,
     "metadata": {},
     "output_type": "execute_result"
    }
   ],
   "source": [
    "s = \"aaabb\"\n",
    "sol = Solution()\n",
    "sol.areOccurrencesEqual(s)"
   ]
  },
  {
   "cell_type": "code",
   "execution_count": null,
   "metadata": {},
   "outputs": [],
   "source": [
    "\"\"\"\n",
    "134 / 134 test cases passed.\n",
    "Status: Accepted\n",
    "Runtime: 61 ms\n",
    "Memory Usage: 13.9 MB\n",
    "Notes: solves in O(n + m) where m is the unique number of characters in s. Dictionary lookups are O(1). Doesn't seem to be much faster without using Standard Library. \n",
    "\"\"\""
   ]
  }
 ],
 "metadata": {
  "kernelspec": {
   "display_name": "Python 3.9.9 ('testing')",
   "language": "python",
   "name": "python3"
  },
  "language_info": {
   "codemirror_mode": {
    "name": "ipython",
    "version": 3
   },
   "file_extension": ".py",
   "mimetype": "text/x-python",
   "name": "python",
   "nbconvert_exporter": "python",
   "pygments_lexer": "ipython3",
   "version": "3.9.9"
  },
  "orig_nbformat": 4,
  "vscode": {
   "interpreter": {
    "hash": "fb79f887f98bf1425cfd8e046db197159ed36d1ac9d9565e603c221fb1d3efe4"
   }
  }
 },
 "nbformat": 4,
 "nbformat_minor": 2
}
