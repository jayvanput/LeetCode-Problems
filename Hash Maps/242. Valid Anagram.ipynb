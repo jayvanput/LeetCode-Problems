{
 "cells": [
  {
   "cell_type": "code",
   "execution_count": 3,
   "id": "e76b9e66",
   "metadata": {},
   "outputs": [],
   "source": [
    "class Solution:\n",
    "    def isAnagram(self, s: str, t: str) -> bool:\n",
    "        s_map = {}\n",
    "        t_map = {}\n",
    "        \n",
    "        for letter in s:\n",
    "            s_map[letter] = 1 + s_map.get(letter, 0)\n",
    "        for letter in t:\n",
    "            t_map[letter] = 1 + t_map.get(letter, 0)\n",
    "        return s_map == t_map\n",
    "        "
   ]
  },
  {
   "cell_type": "code",
   "execution_count": 6,
   "id": "b97a20cd",
   "metadata": {},
   "outputs": [
    {
     "data": {
      "text/plain": [
       "False"
      ]
     },
     "execution_count": 6,
     "metadata": {},
     "output_type": "execute_result"
    }
   ],
   "source": [
    "sol = Solution()\n",
    "sol.isAnagram(\"rat\", \"car\") == True"
   ]
  },
  {
   "cell_type": "code",
   "execution_count": null,
   "id": "9ddd03db",
   "metadata": {},
   "outputs": [],
   "source": [
    "\"\"\"\n",
    "37 / 37 test cases passed.\n",
    "Status: Accepted\n",
    "Runtime: 120 ms\n",
    "Memory Usage: 14.5 MB\n",
    "Notes: Not sure of the time complexity since I am learning maps. It will depend on how fast dictionary search for keys\n",
    "are and how python checks if dictionaries are equal. I imagine it's O(n).\n",
    "\"\"\""
   ]
  }
 ],
 "metadata": {
  "kernelspec": {
   "display_name": "Python 3 (ipykernel)",
   "language": "python",
   "name": "python3"
  },
  "language_info": {
   "codemirror_mode": {
    "name": "ipython",
    "version": 3
   },
   "file_extension": ".py",
   "mimetype": "text/x-python",
   "name": "python",
   "nbconvert_exporter": "python",
   "pygments_lexer": "ipython3",
   "version": "3.9.9"
  }
 },
 "nbformat": 4,
 "nbformat_minor": 5
}
