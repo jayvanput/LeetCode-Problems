{
 "cells": [
  {
   "cell_type": "code",
   "execution_count": 14,
   "metadata": {},
   "outputs": [],
   "source": [
    "from typing import *"
   ]
  },
  {
   "cell_type": "code",
   "execution_count": 10,
   "metadata": {},
   "outputs": [],
   "source": [
    "class Solution:\n",
    "    def decodeMessage(self, key: str, message: str) -> str:\n",
    "        cipher: Dict[str, str] = {\" \":\" \"}\n",
    "        alphabet = \"abcdefghijklmnopqrstuvwxyz\"\n",
    "        index = 0\n",
    "        for letter in key:\n",
    "            if letter not in cipher:\n",
    "                cipher[letter] = alphabet[index]\n",
    "                index += 1\n",
    "        output: List[str] = []\n",
    "        for letter in message:\n",
    "            output.append(cipher[letter])\n",
    "        return \"\".join(output)\n",
    "                "
   ]
  },
  {
   "cell_type": "code",
   "execution_count": 13,
   "metadata": {},
   "outputs": [
    {
     "data": {
      "text/plain": [
       "'the five boxing wizards jump quickly'"
      ]
     },
     "execution_count": 13,
     "metadata": {},
     "output_type": "execute_result"
    }
   ],
   "source": [
    "key = \"eljuxhpwnyrdgtqkviszcfmabo\"\n",
    "sol = Solution()\n",
    "sol.decodeMessage(key, \"zwx hnfx lqantp mnoeius ycgk vcnjrdb\")"
   ]
  },
  {
   "cell_type": "code",
   "execution_count": null,
   "metadata": {},
   "outputs": [],
   "source": [
    "\"\"\"\n",
    "69 / 69 test cases passed.\n",
    "Status: Accepted\n",
    "Runtime: 29 ms\n",
    "Memory Usage: 13.9 MB\n",
    "Notes: Easy enough dictionary solution. I originally handled the spaces manually but I stole the clever solution to initialize the dictionary with space mapping to itself to remove some if statements.\n",
    "\"\"\""
   ]
  }
 ],
 "metadata": {
  "kernelspec": {
   "display_name": "Python 3.9.9 ('testing')",
   "language": "python",
   "name": "python3"
  },
  "language_info": {
   "codemirror_mode": {
    "name": "ipython",
    "version": 3
   },
   "file_extension": ".py",
   "mimetype": "text/x-python",
   "name": "python",
   "nbconvert_exporter": "python",
   "pygments_lexer": "ipython3",
   "version": "3.9.9"
  },
  "orig_nbformat": 4,
  "vscode": {
   "interpreter": {
    "hash": "fb79f887f98bf1425cfd8e046db197159ed36d1ac9d9565e603c221fb1d3efe4"
   }
  }
 },
 "nbformat": 4,
 "nbformat_minor": 2
}
