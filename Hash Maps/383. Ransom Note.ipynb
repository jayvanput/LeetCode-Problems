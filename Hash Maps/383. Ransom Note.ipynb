{
 "cells": [
  {
   "cell_type": "code",
   "execution_count": 15,
   "metadata": {},
   "outputs": [],
   "source": [
    "class Solution:\n",
    "    def canConstruct(self, ransomNote: str, magazine: str) -> bool:\n",
    "        ransom_dict = {}\n",
    "        # Runs in O(n)\n",
    "        for i in ransomNote:\n",
    "            letter_count = ransom_dict.get(i, 0)\n",
    "            letter_count += 1\n",
    "            ransom_dict[i] = letter_count\n",
    "        magazine_dict = {}\n",
    "        # Runs in O(m)\n",
    "        for i in magazine:\n",
    "            letter_count = magazine_dict.get(i, 0)\n",
    "            letter_count += 1\n",
    "            magazine_dict[i] = letter_count\n",
    "        \n",
    "        for i in ransom_dict.keys():\n",
    "            if ransom_dict[i] > magazine_dict.get(i, 0):\n",
    "                return False\n",
    "        return True"
   ]
  },
  {
   "cell_type": "code",
   "execution_count": 16,
   "metadata": {},
   "outputs": [
    {
     "data": {
      "text/plain": [
       "False"
      ]
     },
     "execution_count": 16,
     "metadata": {},
     "output_type": "execute_result"
    }
   ],
   "source": [
    "ransom_note = \"aa\"\n",
    "magazine = \"ab\"\n",
    "sol = Solution()\n",
    "sol.canConstruct(ransom_note, magazine)"
   ]
  },
  {
   "cell_type": "code",
   "execution_count": null,
   "metadata": {},
   "outputs": [],
   "source": [
    "\"\"\"\n",
    "Runtime75 ms\n",
    "Beats\n",
    "51.30%\n",
    "Memory14.1 MB\n",
    "Runs in O(n+m) (need to build the dicts, then iterate over the ransom_note dictionary in O(n)). \n",
    "I got a slow runtime and faster solutions use a set on the ransom note and then count the character in both ransom note and magazine. \n",
    "IDK if that is a faster time complexity or I just got unlucky in my attempts.\n",
    "\"\"\""
   ]
  }
 ],
 "metadata": {
  "kernelspec": {
   "display_name": "webapps",
   "language": "python",
   "name": "python3"
  },
  "language_info": {
   "codemirror_mode": {
    "name": "ipython",
    "version": 3
   },
   "file_extension": ".py",
   "mimetype": "text/x-python",
   "name": "python",
   "nbconvert_exporter": "python",
   "pygments_lexer": "ipython3",
   "version": "3.11.1 (tags/v3.11.1:a7a450f, Dec  6 2022, 19:58:39) [MSC v.1934 64 bit (AMD64)]"
  },
  "orig_nbformat": 4,
  "vscode": {
   "interpreter": {
    "hash": "8b9e562a1f76a5948467e158169a887b2175c9af000d18d2164309069a882c35"
   }
  }
 },
 "nbformat": 4,
 "nbformat_minor": 2
}
