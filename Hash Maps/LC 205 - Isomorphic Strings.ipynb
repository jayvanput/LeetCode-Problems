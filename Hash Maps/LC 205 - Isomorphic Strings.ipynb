{
 "cells": [
  {
   "cell_type": "code",
   "execution_count": 74,
   "id": "1c1ffafc",
   "metadata": {},
   "outputs": [],
   "source": [
    "class Solution:\n",
    "    def isIsomorphic(self, s: str, t: str) -> bool:\n",
    "        if len(set(s)) != len(set(t)):\n",
    "            return False\n",
    "        hash_map = {}\n",
    "        for index, letter in enumerate(t):\n",
    "            if letter not in hash_map:\n",
    "                hash_map[letter] = s[index]\n",
    "            elif hash_map[letter] != s[index]:\n",
    "                return False\n",
    "        return True"
   ]
  },
  {
   "cell_type": "code",
   "execution_count": 75,
   "id": "aa5c14f6",
   "metadata": {},
   "outputs": [
    {
     "name": "stdout",
     "output_type": "stream",
     "text": [
      "True\n",
      "True\n",
      "True\n",
      "True\n",
      "True\n",
      "True\n"
     ]
    }
   ],
   "source": [
    "string1 = \"egg\"\n",
    "string2 = \"add\"\n",
    "sol = Solution()\n",
    "print(sol.isIsomorphic(string1, string2) == True)\n",
    "\n",
    "string1 = \"foo\"\n",
    "string2 = \"bar\"\n",
    "sol = Solution()\n",
    "print(sol.isIsomorphic(string1, string2) == False)\n",
    "\n",
    "string1 = \"paper\"\n",
    "string2 = \"title\"\n",
    "sol = Solution()\n",
    "print(sol.isIsomorphic(string1, string2) == True)\n",
    "\n",
    "string1 = \"badc\"\n",
    "string2 = \"baba\"\n",
    "sol = Solution()\n",
    "print(sol.isIsomorphic(string1, string2) == False)\n",
    "\n",
    "string1 = \"egcd\"\n",
    "string2 = \"adfd\"\n",
    "sol = Solution()\n",
    "print(sol.isIsomorphic(string1, string2) == False)\n",
    "\n",
    "string1 = \"bbbaaaba\"\n",
    "string2 = \"aaabbbba\"\n",
    "sol = Solution()\n",
    "print(sol.isIsomorphic(string1, string2) == False)"
   ]
  },
  {
   "cell_type": "code",
   "execution_count": 61,
   "id": "12097f77",
   "metadata": {},
   "outputs": [
    {
     "data": {
      "text/plain": [
       "True"
      ]
     },
     "execution_count": 61,
     "metadata": {},
     "output_type": "execute_result"
    }
   ],
   "source": [
    "test = {1:2, 2:3}\n",
    "test2 = {1:2, 2:3}\n",
    "test == test2"
   ]
  },
  {
   "cell_type": "code",
   "execution_count": 35,
   "id": "a59c75c8",
   "metadata": {},
   "outputs": [
    {
     "data": {
      "text/plain": [
       "{'a', 'b', 'c'}"
      ]
     },
     "execution_count": 35,
     "metadata": {},
     "output_type": "execute_result"
    }
   ],
   "source": [
    "set(\"abac\")"
   ]
  },
  {
   "cell_type": "code",
   "execution_count": null,
   "id": "f0ee750d",
   "metadata": {},
   "outputs": [],
   "source": []
  }
 ],
 "metadata": {
  "kernelspec": {
   "display_name": "Python 3 (ipykernel)",
   "language": "python",
   "name": "python3"
  },
  "language_info": {
   "codemirror_mode": {
    "name": "ipython",
    "version": 3
   },
   "file_extension": ".py",
   "mimetype": "text/x-python",
   "name": "python",
   "nbconvert_exporter": "python",
   "pygments_lexer": "ipython3",
   "version": "3.9.9"
  }
 },
 "nbformat": 4,
 "nbformat_minor": 5
}
