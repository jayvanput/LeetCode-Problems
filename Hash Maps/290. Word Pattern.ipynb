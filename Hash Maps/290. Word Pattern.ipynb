{
 "cells": [
  {
   "cell_type": "code",
   "execution_count": null,
   "metadata": {},
   "outputs": [],
   "source": [
    "from typing import List"
   ]
  },
  {
   "cell_type": "code",
   "execution_count": 1,
   "metadata": {},
   "outputs": [],
   "source": [
    "class Solution:\n",
    "    def wordPattern(self, pattern: str, s: str) -> bool:\n",
    "        pattern_lst: List = [x for x in pattern]\n",
    "        word_lst: List = [x for x in s.split(\" \")]\n",
    "\n",
    "        if len(pattern_lst) != len(word_lst):\n",
    "            return False\n",
    "\n",
    "        check_zip = zip(pattern_lst, word_lst)\n",
    "\n",
    "        word_dict = {}\n",
    "        pattern_dict = {}\n",
    "        for key, value in check_zip:\n",
    "            check_word = word_dict.get(key, set())\n",
    "            check_word.add(value)\n",
    "            word_dict[key] = check_word\n",
    "\n",
    "            if len(check_word) > 1:\n",
    "                return False\n",
    "\n",
    "            check_pattern = pattern_dict.get(value, set())\n",
    "            check_pattern.add(key)\n",
    "            pattern_dict[value] = check_pattern\n",
    "\n",
    "            if len(check_pattern) > 1:\n",
    "                return False\n",
    "            \n",
    "        return True"
   ]
  },
  {
   "cell_type": "code",
   "execution_count": 2,
   "metadata": {},
   "outputs": [
    {
     "data": {
      "text/plain": [
       "False"
      ]
     },
     "execution_count": 2,
     "metadata": {},
     "output_type": "execute_result"
    }
   ],
   "source": [
    "pattern = \"abab\"\n",
    "s = \"dog cat cat dog\"\n",
    "sol = Solution()\n",
    "sol.wordPattern(pattern, s)"
   ]
  },
  {
   "cell_type": "code",
   "execution_count": null,
   "metadata": {},
   "outputs": [],
   "source": [
    "\"\"\"\n",
    "\n",
    "\"\"\""
   ]
  }
 ],
 "metadata": {
  "kernelspec": {
   "display_name": "Python 3.9.9 ('testing')",
   "language": "python",
   "name": "python3"
  },
  "language_info": {
   "codemirror_mode": {
    "name": "ipython",
    "version": 3
   },
   "file_extension": ".py",
   "mimetype": "text/x-python",
   "name": "python",
   "nbconvert_exporter": "python",
   "pygments_lexer": "ipython3",
   "version": "3.9.9"
  },
  "orig_nbformat": 4,
  "vscode": {
   "interpreter": {
    "hash": "fb79f887f98bf1425cfd8e046db197159ed36d1ac9d9565e603c221fb1d3efe4"
   }
  }
 },
 "nbformat": 4,
 "nbformat_minor": 2
}
