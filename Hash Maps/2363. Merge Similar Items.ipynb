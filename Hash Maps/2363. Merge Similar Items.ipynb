{
 "cells": [
  {
   "cell_type": "code",
   "execution_count": 1,
   "metadata": {},
   "outputs": [],
   "source": [
    "from typing import *"
   ]
  },
  {
   "cell_type": "code",
   "execution_count": 11,
   "metadata": {},
   "outputs": [],
   "source": [
    "class Solution:\n",
    "    def mergeSimilarItems(self, items1: List[List[int]], items2: List[List[int]]) -> List[List[int]]:\n",
    "        items_dict = {}\n",
    "        for value, weight in items1:\n",
    "            curr_value = items_dict.get(value, 0)\n",
    "            curr_value += weight\n",
    "            items_dict[value] = curr_value\n",
    "\n",
    "        for value, weight in items2:\n",
    "            curr_value = items_dict.get(value, 0)\n",
    "            curr_value += weight\n",
    "            items_dict[value] = curr_value\n",
    "\n",
    "        output = []\n",
    "        for value in sorted(items_dict.keys()):\n",
    "            output.append([value, items_dict[value]])\n",
    "        return output"
   ]
  },
  {
   "cell_type": "code",
   "execution_count": 12,
   "metadata": {},
   "outputs": [
    {
     "data": {
      "text/plain": [
       "[[1, 7], [2, 4], [7, 1]]"
      ]
     },
     "execution_count": 12,
     "metadata": {},
     "output_type": "execute_result"
    }
   ],
   "source": [
    "items1 = [[1,3],[2,2]]\n",
    "items2 = [[7,1],[2,2],[1,4]]\n",
    "sol = Solution()\n",
    "sol.mergeSimilarItems(items1, items2)"
   ]
  },
  {
   "cell_type": "code",
   "execution_count": null,
   "metadata": {},
   "outputs": [],
   "source": [
    "\"\"\"\n",
    "Runtime291 ms\n",
    "Beats 50.58%\n",
    "Memory14.6 MB\n",
    "Notes: Solves in O(n*logn) due to sorting the keys in the dictionary. We could solve this in O(n) knowing that the max value of a value is 1000 by looping over 1000 and if that exists \n",
    "in the dictionary keys (lookup is O(1)), then we append it to the output. Seems a bit brute-force.\n",
    "\"\"\""
   ]
  }
 ],
 "metadata": {
  "kernelspec": {
   "display_name": "Python 3.9.9 ('testing')",
   "language": "python",
   "name": "python3"
  },
  "language_info": {
   "codemirror_mode": {
    "name": "ipython",
    "version": 3
   },
   "file_extension": ".py",
   "mimetype": "text/x-python",
   "name": "python",
   "nbconvert_exporter": "python",
   "pygments_lexer": "ipython3",
   "version": "3.9.9"
  },
  "orig_nbformat": 4,
  "vscode": {
   "interpreter": {
    "hash": "fb79f887f98bf1425cfd8e046db197159ed36d1ac9d9565e603c221fb1d3efe4"
   }
  }
 },
 "nbformat": 4,
 "nbformat_minor": 2
}
