{
 "cells": [
  {
   "cell_type": "code",
   "execution_count": 1,
   "metadata": {},
   "outputs": [],
   "source": [
    "from typing import *"
   ]
  },
  {
   "cell_type": "code",
   "execution_count": 3,
   "metadata": {},
   "outputs": [],
   "source": [
    "class Solution:\n",
    "    def repeatedNTimes(self, nums: List[int]) -> int:\n",
    "        num_dict = {}\n",
    "        for i in nums:\n",
    "            num_dict[i] = num_dict.get(i, 0) + 1\n",
    "            if num_dict[i] == len(nums) // 2:\n",
    "                return i"
   ]
  },
  {
   "cell_type": "code",
   "execution_count": 4,
   "metadata": {},
   "outputs": [
    {
     "data": {
      "text/plain": [
       "3"
      ]
     },
     "execution_count": 4,
     "metadata": {},
     "output_type": "execute_result"
    }
   ],
   "source": [
    "nums = [1,2,3,3]\n",
    "sol = Solution()\n",
    "sol.repeatedNTimes(nums)"
   ]
  },
  {
   "cell_type": "code",
   "execution_count": 5,
   "metadata": {},
   "outputs": [
    {
     "data": {
      "text/plain": [
       "'\\n103 / 103 test cases passed.\\nStatus: Accepted\\nRuntime: 329 ms\\nMemory Usage: 15.7 MB\\nNotes:\\n'"
      ]
     },
     "execution_count": 5,
     "metadata": {},
     "output_type": "execute_result"
    }
   ],
   "source": [
    "\"\"\"\n",
    "103 / 103 test cases passed.\n",
    "Status: Accepted\n",
    "Runtime: 329 ms\n",
    "Memory Usage: 15.7 MB\n",
    "Notes: O(n) with early exit condition. Similar to other problems.\n",
    "\"\"\""
   ]
  },
  {
   "cell_type": "code",
   "execution_count": null,
   "metadata": {},
   "outputs": [],
   "source": []
  }
 ],
 "metadata": {
  "kernelspec": {
   "display_name": "Python 3.9.9 ('testing')",
   "language": "python",
   "name": "python3"
  },
  "language_info": {
   "codemirror_mode": {
    "name": "ipython",
    "version": 3
   },
   "file_extension": ".py",
   "mimetype": "text/x-python",
   "name": "python",
   "nbconvert_exporter": "python",
   "pygments_lexer": "ipython3",
   "version": "3.9.9"
  },
  "orig_nbformat": 4,
  "vscode": {
   "interpreter": {
    "hash": "fb79f887f98bf1425cfd8e046db197159ed36d1ac9d9565e603c221fb1d3efe4"
   }
  }
 },
 "nbformat": 4,
 "nbformat_minor": 2
}
