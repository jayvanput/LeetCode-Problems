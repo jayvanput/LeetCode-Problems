{
 "cells": [
  {
   "cell_type": "code",
   "execution_count": 1,
   "metadata": {},
   "outputs": [],
   "source": [
    "from typing import *"
   ]
  },
  {
   "cell_type": "code",
   "execution_count": 66,
   "metadata": {},
   "outputs": [],
   "source": [
    "class Solution:\n",
    "    def findingUsersActiveMinutes(self, logs: List[List[int]], k: int) -> List[int]:\n",
    "        uams_dict: Dict[int, Set[int]] = {}\n",
    "        unique_user_uams = [0] * (k + 1)\n",
    "\n",
    "        for log in logs:\n",
    "            user, minute = log\n",
    "            user_unique_minutes = uams_dict.get(user, set())\n",
    "\n",
    "            current_count = len(user_unique_minutes)\n",
    "            user_unique_minutes.add(minute)\n",
    "            new_count = len(user_unique_minutes)\n",
    "\n",
    "\n",
    "            if not current_count:\n",
    "                unique_user_uams[1] += 1\n",
    "            else:\n",
    "                if new_count > current_count:\n",
    "                    unique_user_uams[current_count] -= 1\n",
    "                    unique_user_uams[current_count+1] += 1\n",
    "            uams_dict[user] = user_unique_minutes\n",
    "            \n",
    "        return unique_user_uams[1:]\n",
    "\n",
    "            \n"
   ]
  },
  {
   "cell_type": "code",
   "execution_count": null,
   "metadata": {},
   "outputs": [],
   "source": [
    "\"\"\"\n",
    "Runtime2400 ms\n",
    "Beats\n",
    "48.95%\n",
    "Memory24.2 MB\n",
    "Notes: Big thing is time complexity. Originally had additional loop to find all users with X time but this was too long. time complexity here is O(n) since dict and set lookups are O(1)\n",
    "due to both using hasmaps.\n",
    "\"\"\""
   ]
  }
 ],
 "metadata": {
  "kernelspec": {
   "display_name": "Python 3.9.9 ('testing')",
   "language": "python",
   "name": "python3"
  },
  "language_info": {
   "codemirror_mode": {
    "name": "ipython",
    "version": 3
   },
   "file_extension": ".py",
   "mimetype": "text/x-python",
   "name": "python",
   "nbconvert_exporter": "python",
   "pygments_lexer": "ipython3",
   "version": "3.9.9"
  },
  "orig_nbformat": 4,
  "vscode": {
   "interpreter": {
    "hash": "fb79f887f98bf1425cfd8e046db197159ed36d1ac9d9565e603c221fb1d3efe4"
   }
  }
 },
 "nbformat": 4,
 "nbformat_minor": 2
}
