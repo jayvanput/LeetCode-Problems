{
 "cells": [
  {
   "cell_type": "code",
   "execution_count": 1,
   "metadata": {},
   "outputs": [],
   "source": [
    "from typing import *"
   ]
  },
  {
   "cell_type": "code",
   "execution_count": 13,
   "metadata": {},
   "outputs": [],
   "source": [
    "class Solution:\n",
    "    def groupThePeople(self, groupSizes: List[int]) -> List[List[int]]:\n",
    "        groups_dict: Dict[int, List[int]] = {}\n",
    "\n",
    "        for index, person in enumerate(groupSizes):\n",
    "            group_for_person = groups_dict.get(person, [])\n",
    "            group_for_person.append(index)\n",
    "            groups_dict[person] = group_for_person\n",
    "\n",
    "        output: List[List[int]] = []\n",
    "        for group_len, persons in groups_dict.items():\n",
    "            counter = 0\n",
    "            while counter < len(persons):\n",
    "                output.append(persons[counter:counter + group_len])\n",
    "                counter += group_len\n",
    "\n",
    "        return output"
   ]
  },
  {
   "cell_type": "code",
   "execution_count": 17,
   "metadata": {},
   "outputs": [
    {
     "data": {
      "text/plain": [
       "[[0, 5], [1], [2, 3, 4]]"
      ]
     },
     "execution_count": 17,
     "metadata": {},
     "output_type": "execute_result"
    }
   ],
   "source": [
    "groupSizes = [2,1,3,3,3,2]\n",
    "sol = Solution()\n",
    "sol.groupThePeople(groupSizes)"
   ]
  },
  {
   "cell_type": "code",
   "execution_count": null,
   "metadata": {},
   "outputs": [],
   "source": [
    "\"\"\"\n",
    "103 / 103 test cases passed.\n",
    "Status: Accepted\n",
    "Runtime: 166 ms\n",
    "Memory Usage: 14 MB\n",
    "Notes: Solved a medium !My solution seems to be the normal one. There is a smarter solution where they simply append to the dict but once it hits the size limit they pop the current list to the result list\n",
    "and append the newest person to a fresh list for that group. Then they extend the result list with the remaining values in the dictionary. \n",
    "\"\"\""
   ]
  }
 ],
 "metadata": {
  "kernelspec": {
   "display_name": "Python 3.9.9 ('testing')",
   "language": "python",
   "name": "python3"
  },
  "language_info": {
   "codemirror_mode": {
    "name": "ipython",
    "version": 3
   },
   "file_extension": ".py",
   "mimetype": "text/x-python",
   "name": "python",
   "nbconvert_exporter": "python",
   "pygments_lexer": "ipython3",
   "version": "3.9.9"
  },
  "orig_nbformat": 4,
  "vscode": {
   "interpreter": {
    "hash": "fb79f887f98bf1425cfd8e046db197159ed36d1ac9d9565e603c221fb1d3efe4"
   }
  }
 },
 "nbformat": 4,
 "nbformat_minor": 2
}
