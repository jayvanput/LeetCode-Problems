{
 "cells": [
  {
   "cell_type": "code",
   "execution_count": 3,
   "id": "da7d2089",
   "metadata": {},
   "outputs": [],
   "source": [
    "from typing import *"
   ]
  },
  {
   "cell_type": "code",
   "execution_count": 183,
   "id": "fae24355",
   "metadata": {},
   "outputs": [],
   "source": [
    "class Solution:\n",
    "    def searchInsert(self, nums: List[int], target: int) -> int:\n",
    "        \n",
    "        # Implement binary search\n",
    "        low = 0\n",
    "        high = len(nums) - 1\n",
    "        mid = 0\n",
    "        \n",
    "        answer_index = 0\n",
    "        \n",
    "        while low <= high:\n",
    "            \n",
    "            # Mid rounds down for even length lists.\n",
    "            mid = (high + low) // 2\n",
    "            \n",
    "            if nums[mid] < target:\n",
    "                low = mid + 1\n",
    "                \n",
    "            elif nums[mid] > target:\n",
    "                high = mid - 1\n",
    "                \n",
    "            else:\n",
    "                return mid\n",
    "        \n",
    "        # If not in array, find the position it should be\n",
    "        if target < nums[0]:\n",
    "            return 0\n",
    "        elif target > nums[-1]:\n",
    "            return len(nums)\n",
    "        return low"
   ]
  },
  {
   "cell_type": "code",
   "execution_count": 189,
   "id": "f69c2fee",
   "metadata": {},
   "outputs": [
    {
     "data": {
      "text/plain": [
       "3"
      ]
     },
     "execution_count": 189,
     "metadata": {},
     "output_type": "execute_result"
    }
   ],
   "source": [
    "lst = [1,3,4,6]\n",
    "target = 5\n",
    "sol = Solution()\n",
    "sol.searchInsert(lst, target)"
   ]
  },
  {
   "cell_type": "code",
   "execution_count": null,
   "id": "031d8145",
   "metadata": {},
   "outputs": [],
   "source": []
  }
 ],
 "metadata": {
  "kernelspec": {
   "display_name": "Python 3 (ipykernel)",
   "language": "python",
   "name": "python3"
  },
  "language_info": {
   "codemirror_mode": {
    "name": "ipython",
    "version": 3
   },
   "file_extension": ".py",
   "mimetype": "text/x-python",
   "name": "python",
   "nbconvert_exporter": "python",
   "pygments_lexer": "ipython3",
   "version": "3.9.9"
  }
 },
 "nbformat": 4,
 "nbformat_minor": 5
}
