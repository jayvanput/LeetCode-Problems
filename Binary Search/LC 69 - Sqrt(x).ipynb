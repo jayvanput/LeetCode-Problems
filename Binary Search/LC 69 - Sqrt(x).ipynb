{
 "cells": [
  {
   "cell_type": "code",
   "execution_count": 14,
   "id": "693fcba3",
   "metadata": {},
   "outputs": [],
   "source": [
    "class Solution:\n",
    "    def mySqrt(self, x: int) -> int:\n",
    "        low = 0\n",
    "        high = x\n",
    "        mid = 0\n",
    "        \n",
    "        while low <= high:\n",
    "            mid = (low + high) // 2\n",
    "            \n",
    "            if mid * mid <= x < (mid + 1) * (mid + 1):\n",
    "                return mid\n",
    "            elif x < mid * mid:\n",
    "                high = mid - 1\n",
    "            else:\n",
    "                low = mid + 1"
   ]
  },
  {
   "cell_type": "code",
   "execution_count": 15,
   "id": "39e8222f",
   "metadata": {},
   "outputs": [
    {
     "name": "stdout",
     "output_type": "stream",
     "text": [
      "True\n",
      "True\n"
     ]
    }
   ],
   "source": [
    "x = 4\n",
    "sol = Solution()\n",
    "print(sol.mySqrt(x) == 2)\n",
    "\n",
    "x = 8\n",
    "sol = Solution()\n",
    "print(sol.mySqrt(x) == 2)"
   ]
  },
  {
   "cell_type": "code",
   "execution_count": null,
   "id": "6069e312",
   "metadata": {},
   "outputs": [],
   "source": []
  }
 ],
 "metadata": {
  "kernelspec": {
   "display_name": "Python 3 (ipykernel)",
   "language": "python",
   "name": "python3"
  },
  "language_info": {
   "codemirror_mode": {
    "name": "ipython",
    "version": 3
   },
   "file_extension": ".py",
   "mimetype": "text/x-python",
   "name": "python",
   "nbconvert_exporter": "python",
   "pygments_lexer": "ipython3",
   "version": "3.9.9"
  }
 },
 "nbformat": 4,
 "nbformat_minor": 5
}
