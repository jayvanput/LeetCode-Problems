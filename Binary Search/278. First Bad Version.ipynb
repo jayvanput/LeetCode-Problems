{
 "cells": [
  {
   "cell_type": "code",
   "execution_count": 61,
   "id": "f0b5e3ea",
   "metadata": {},
   "outputs": [],
   "source": [
    "# The isBadVersion API is already defined for you.\n",
    "# def isBadVersion(version: int) -> bool:\n",
    "from turtle import back\n",
    "\n",
    "def isBadVersion(n: int):\n",
    "    if n >= 1:\n",
    "        return True\n",
    "    return False\n",
    "\n",
    "class Solution:\n",
    "    def firstBadVersion(self, n: int) -> int:\n",
    "        if n == 1:\n",
    "            return 1\n",
    "        def helper(arr):\n",
    "            h = n\n",
    "            l = 0\n",
    "            while l <= h:\n",
    "                mid = (h + l) // 2\n",
    "#                 print(f\"l:{l}, h:{h}, mid:{mid}\")\n",
    "                if isBadVersion(mid):\n",
    "                    # Check lower\n",
    "                    if not isBadVersion(mid-1):\n",
    "                        return mid\n",
    "                    h = mid - 1\n",
    "                else:\n",
    "                    l = mid + 1\n",
    "#                 print(f\"l:{l}, h:{h}, mid:{mid}\")\n",
    "        return helper(n)"
   ]
  },
  {
   "cell_type": "code",
   "execution_count": 62,
   "id": "2fc23c20",
   "metadata": {},
   "outputs": [
    {
     "data": {
      "text/plain": [
       "1"
      ]
     },
     "execution_count": 62,
     "metadata": {},
     "output_type": "execute_result"
    }
   ],
   "source": [
    "sol = Solution()\n",
    "sol.firstBadVersion(1)"
   ]
  },
  {
   "cell_type": "code",
   "execution_count": null,
   "id": "cfb15bf1",
   "metadata": {},
   "outputs": [],
   "source": [
    "\"\"\"\n",
    "24 / 24 test cases passed.\n",
    "Status: Accepted\n",
    "Runtime: 52 ms\n",
    "Memory Usage: 14 MB\n",
    "Notes: Annoying use of binary search that required implementation of the API. Definitely need to do the katas for this.\n",
    "\"\"\""
   ]
  },
  {
   "cell_type": "code",
   "execution_count": null,
   "id": "2fdb85e3",
   "metadata": {},
   "outputs": [],
   "source": []
  }
 ],
 "metadata": {
  "kernelspec": {
   "display_name": "Python 3 (ipykernel)",
   "language": "python",
   "name": "python3"
  },
  "language_info": {
   "codemirror_mode": {
    "name": "ipython",
    "version": 3
   },
   "file_extension": ".py",
   "mimetype": "text/x-python",
   "name": "python",
   "nbconvert_exporter": "python",
   "pygments_lexer": "ipython3",
   "version": "3.9.9"
  },
  "vscode": {
   "interpreter": {
    "hash": "fb79f887f98bf1425cfd8e046db197159ed36d1ac9d9565e603c221fb1d3efe4"
   }
  }
 },
 "nbformat": 4,
 "nbformat_minor": 5
}
