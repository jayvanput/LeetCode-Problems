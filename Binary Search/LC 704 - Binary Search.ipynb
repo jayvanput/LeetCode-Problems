{
 "cells": [
  {
   "cell_type": "code",
   "execution_count": 19,
   "id": "34b08ee0",
   "metadata": {},
   "outputs": [],
   "source": [
    "class Solution:\n",
    "    def search(self, nums, target: int) -> int:\n",
    "        low = 0\n",
    "        high = len(nums) - 1\n",
    "        mid = 0\n",
    "        \n",
    "        if not high:\n",
    "            return high\n",
    "        \n",
    "        while low <= high:\n",
    "            mid = (high + low) // 2\n",
    "            \n",
    "            if nums[mid] < target:\n",
    "                low = mid + 1\n",
    "            elif nums[mid] > target:\n",
    "                high = mid-1\n",
    "            else:\n",
    "                return mid\n",
    "        return -1"
   ]
  },
  {
   "cell_type": "code",
   "execution_count": 20,
   "id": "d7583a89",
   "metadata": {},
   "outputs": [
    {
     "name": "stdout",
     "output_type": "stream",
     "text": [
      "True\n",
      "True\n"
     ]
    }
   ],
   "source": [
    "nums = [-1,0,3,5,9,12]\n",
    "target = 2\n",
    "sol = Solution()\n",
    "print(sol.search(nums, target) == -1)\n",
    "\n",
    "nums = [-1,0,3,5,9,12]\n",
    "target = 9\n",
    "sol = Solution()\n",
    "print(sol.search(nums, target) == 4)"
   ]
  },
  {
   "cell_type": "code",
   "execution_count": 17,
   "id": "81a864c4",
   "metadata": {},
   "outputs": [
    {
     "data": {
      "text/plain": [
       "0"
      ]
     },
     "execution_count": 17,
     "metadata": {},
     "output_type": "execute_result"
    }
   ],
   "source": [
    "nums = [5]\n",
    "target = 5\n",
    "sol = Solution()\n",
    "sol.search(nums, target)"
   ]
  },
  {
   "cell_type": "code",
   "execution_count": null,
   "id": "b5f0890c",
   "metadata": {},
   "outputs": [],
   "source": [
    "8 //"
   ]
  }
 ],
 "metadata": {
  "kernelspec": {
   "display_name": "Python 3 (ipykernel)",
   "language": "python",
   "name": "python3"
  },
  "language_info": {
   "codemirror_mode": {
    "name": "ipython",
    "version": 3
   },
   "file_extension": ".py",
   "mimetype": "text/x-python",
   "name": "python",
   "nbconvert_exporter": "python",
   "pygments_lexer": "ipython3",
   "version": "3.9.9"
  }
 },
 "nbformat": 4,
 "nbformat_minor": 5
}
