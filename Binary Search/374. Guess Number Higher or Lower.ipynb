{
 "cells": [
  {
   "cell_type": "code",
   "execution_count": 20,
   "metadata": {},
   "outputs": [],
   "source": [
    "# The guess API is already defined for you.\n",
    "# @param num, your guess\n",
    "# @return -1 if num is higher than the picked number\n",
    "#          1 if num is lower than the picked number\n",
    "#          otherwise return 0\n",
    "def guess(num: int) -> int:\n",
    "    print(num)\n",
    "    ANSWER = 1\n",
    "    if num > ANSWER:\n",
    "        return -1\n",
    "    if num == ANSWER:\n",
    "        return 0\n",
    "    if num < ANSWER:\n",
    "        return 1\n",
    "\n",
    "class Solution:\n",
    "    def guessNumber(self, n: int) -> int:\n",
    "        bottom = 1\n",
    "        top = n\n",
    "        guess_choice = (top + bottom) // 2\n",
    "        check: int|None = None\n",
    "        while True:\n",
    "            check = guess(guess_choice)\n",
    "            if check == -1:\n",
    "                top = guess_choice - 1\n",
    "            if check == 1:\n",
    "                bottom = guess_choice + 1\n",
    "            guess_choice = (top + bottom) // 2\n",
    "            if check == 0:\n",
    "                return guess_choice\n",
    "            guess_choice = (top + bottom) // 2\n"
   ]
  },
  {
   "cell_type": "code",
   "execution_count": 21,
   "metadata": {},
   "outputs": [
    {
     "name": "stdout",
     "output_type": "stream",
     "text": [
      "1\n"
     ]
    },
    {
     "data": {
      "text/plain": [
       "1"
      ]
     },
     "execution_count": 21,
     "metadata": {},
     "output_type": "execute_result"
    }
   ],
   "source": [
    "sol = Solution()\n",
    "sol.guessNumber(2)"
   ]
  },
  {
   "cell_type": "code",
   "execution_count": null,
   "metadata": {},
   "outputs": [],
   "source": [
    "\"\"\"\n",
    "Runtime31 ms\n",
    "Beats\n",
    "83.1%\n",
    "Memory13.8 MB\n",
    "Notes: Good old fashioned binary search. Solves in O(log(n)).\n",
    "\"\"\""
   ]
  }
 ],
 "metadata": {
  "kernelspec": {
   "display_name": "webapps",
   "language": "python",
   "name": "python3"
  },
  "language_info": {
   "codemirror_mode": {
    "name": "ipython",
    "version": 3
   },
   "file_extension": ".py",
   "mimetype": "text/x-python",
   "name": "python",
   "nbconvert_exporter": "python",
   "pygments_lexer": "ipython3",
   "version": "3.11.1"
  },
  "orig_nbformat": 4,
  "vscode": {
   "interpreter": {
    "hash": "8b9e562a1f76a5948467e158169a887b2175c9af000d18d2164309069a882c35"
   }
  }
 },
 "nbformat": 4,
 "nbformat_minor": 2
}
